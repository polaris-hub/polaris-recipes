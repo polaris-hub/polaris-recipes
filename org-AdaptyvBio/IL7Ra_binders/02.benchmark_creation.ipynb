{
 "cells": [
  {
   "cell_type": "markdown",
   "id": "545099e3-0eb9-4a80-a0c6-0448c0674502",
   "metadata": {},
   "source": [
    "# Benchmark creation with [Polaris](https://github.com/polaris-hub/polaris)"
   ]
  },
  {
   "cell_type": "code",
   "execution_count": 1,
   "id": "30138c1e",
   "metadata": {
    "scrolled": true
   },
   "outputs": [],
   "source": [
    "%load_ext autoreload\n",
    "%autoreload 2\n",
    "\n",
    "import os\n",
    "import sys\n",
    "import pathlib\n",
    "\n",
    "import datamol as dm\n",
    "import numpy as np\n",
    "\n",
    "# polaris benchmark\n",
    "from polaris.benchmark import SingleTaskBenchmarkSpecification\n",
    "\n",
    "# polaris hub\n",
    "from polaris.cli import PolarisHubClient\n",
    "from polaris.utils.types import HubOwner\n",
    "\n",
    "# utils\n",
    "root = pathlib.Path(\"__file__\").absolute().parents[2]\n",
    "os.chdir(root)\n",
    "sys.path.insert(0, str(root))"
   ]
  },
  {
   "cell_type": "code",
   "execution_count": 2,
   "id": "d9c5ea4e-740d-4e4a-a62d-dcb508b441a9",
   "metadata": {},
   "outputs": [],
   "source": [
    "# Get the owner and organization\n",
    "# Get the owner and organization\n",
    "org = \"AdaptyvBio\"\n",
    "data_name = \"IL7Ra_binders\"\n",
    "dataset_version = \"v1\"\n",
    "dirname = dm.fs.join(root, f\"org-{org}\", data_name)\n",
    "gcp_root = f\"gs://polaris-public/polaris-recipes/org-{org}/{data_name}\"\n",
    "\n",
    "owner = HubOwner(slug=\"adaptyv-bio\", type=\"organization\")\n",
    "owner\n",
    "\n",
    "BENCHMARK_DIR = f\"{gcp_root}/benchmarks\"\n",
    "DATASET_JSON = f\"gs://polaris-public/polaris-recipes/org-{org}/{data_name}/datasets/{data_name}-{dataset_version}/dataset.json\"\n",
    "\n",
    "FIGURE_DIR = f\"{gcp_root}/figures\""
   ]
  },
  {
   "cell_type": "markdown",
   "id": "7f22cb4b-6303-425c-9a15-d437705baff9",
   "metadata": {},
   "source": [
    "## Load existing Dataset"
   ]
  },
  {
   "cell_type": "code",
   "execution_count": 3,
   "id": "8b295721-e50f-4dae-881f-a7660f1284a9",
   "metadata": {},
   "outputs": [
    {
     "name": "stdout",
     "output_type": "stream",
     "text": [
      "⠇ Fetching artifact... "
     ]
    },
    {
     "name": "stderr",
     "output_type": "stream",
     "text": [
      "\u001b[32m2024-09-24 11:38:31.652\u001b[0m | \u001b[1mINFO    \u001b[0m | \u001b[36mpolaris._artifact\u001b[0m:\u001b[36m_validate_version\u001b[0m:\u001b[36m66\u001b[0m - \u001b[1mThe version of Polaris that was used to create the artifact (0.7.9) is different from the currently installed version of Polaris (0.8.5.dev6+gb44821c).\u001b[0m\n",
      "\u001b[32m2024-09-24 11:38:31.654\u001b[0m | \u001b[1mINFO    \u001b[0m | \u001b[36mpolaris.mixins._checksum\u001b[0m:\u001b[36mverify_checksum\u001b[0m:\u001b[36m65\u001b[0m - \u001b[1mTo verify the checksum, we need to recompute it. This can be slow for large datasets.\u001b[0m\n"
     ]
    },
    {
     "name": "stdout",
     "output_type": "stream",
     "text": [
      "✅ SUCCESS: \u001b[1mFetched artifact.\u001b[0m\n",
      " \n"
     ]
    },
    {
     "name": "stderr",
     "output_type": "stream",
     "text": [
      "/Users/lu.zhu/miniconda3/envs/po_dataset/lib/python3.12/site-packages/yaspin/core.py:228: UserWarning: color, on_color and attrs are not supported when running in jupyter\n",
      "  self._color = self._set_color(value) if value else value\n"
     ]
    }
   ],
   "source": [
    "# Load the saved Dataset\n",
    "import polaris as po\n",
    "\n",
    "# Load the dataset from the Hub\n",
    "dataset = po.load_dataset(\"adaptyv-bio/IL7Ra_binders-v1\")"
   ]
  },
  {
   "cell_type": "markdown",
   "id": "42c498f1",
   "metadata": {},
   "source": [
    "## Benchmark creation with `Polaris`\n",
    "This is a retrospective benchmark, all the data points are in the test split for evaluation. "
   ]
  },
  {
   "cell_type": "code",
   "execution_count": 4,
   "id": "4dfa3f26",
   "metadata": {},
   "outputs": [],
   "source": [
    "split = ([], list(range(dataset.table.shape[0])))"
   ]
  },
  {
   "cell_type": "code",
   "execution_count": 5,
   "id": "79268b65",
   "metadata": {},
   "outputs": [
    {
     "data": {
      "text/plain": [
       "([],\n",
       " [0,\n",
       "  1,\n",
       "  2,\n",
       "  3,\n",
       "  4,\n",
       "  5,\n",
       "  6,\n",
       "  7,\n",
       "  8,\n",
       "  9,\n",
       "  10,\n",
       "  11,\n",
       "  12,\n",
       "  13,\n",
       "  14,\n",
       "  15,\n",
       "  16,\n",
       "  17,\n",
       "  18,\n",
       "  19,\n",
       "  20,\n",
       "  21,\n",
       "  22,\n",
       "  23,\n",
       "  24,\n",
       "  25,\n",
       "  26,\n",
       "  27,\n",
       "  28,\n",
       "  29,\n",
       "  30,\n",
       "  31,\n",
       "  32,\n",
       "  33,\n",
       "  34,\n",
       "  35,\n",
       "  36,\n",
       "  37,\n",
       "  38,\n",
       "  39,\n",
       "  40,\n",
       "  41,\n",
       "  42,\n",
       "  43,\n",
       "  44,\n",
       "  45,\n",
       "  46,\n",
       "  47,\n",
       "  48,\n",
       "  49,\n",
       "  50,\n",
       "  51,\n",
       "  52,\n",
       "  53,\n",
       "  54,\n",
       "  55,\n",
       "  56,\n",
       "  57,\n",
       "  58,\n",
       "  59,\n",
       "  60,\n",
       "  61,\n",
       "  62,\n",
       "  63,\n",
       "  64,\n",
       "  65,\n",
       "  66,\n",
       "  67,\n",
       "  68,\n",
       "  69,\n",
       "  70,\n",
       "  71,\n",
       "  72,\n",
       "  73,\n",
       "  74,\n",
       "  75,\n",
       "  76,\n",
       "  77,\n",
       "  78,\n",
       "  79,\n",
       "  80,\n",
       "  81,\n",
       "  82,\n",
       "  83,\n",
       "  84,\n",
       "  85,\n",
       "  86,\n",
       "  87,\n",
       "  88,\n",
       "  89,\n",
       "  90,\n",
       "  91,\n",
       "  92,\n",
       "  93,\n",
       "  94])"
      ]
     },
     "execution_count": 5,
     "metadata": {},
     "output_type": "execute_result"
    }
   ],
   "source": [
    "split"
   ]
  },
  {
   "cell_type": "markdown",
   "id": "03aa7204-c71f-4b46-9bf0-e4a57e82ff35",
   "metadata": {},
   "source": [
    "## Create a benchmark"
   ]
  },
  {
   "cell_type": "code",
   "execution_count": 14,
   "id": "8d0e7595-f9bc-428f-85da-e56e8e8f52dd",
   "metadata": {},
   "outputs": [],
   "source": [
    "benchmark_version = \"v2\"\n",
    "target_cols = [\"Binder_bool\"]\n",
    "input_col = [\"sequence\"]\n",
    "benchmark_name = \"IL7Ra_binders_binary_cls\""
   ]
  },
  {
   "cell_type": "code",
   "execution_count": 15,
   "id": "7630bd80-fd18-402b-9de1-57b080b61e3b",
   "metadata": {},
   "outputs": [
    {
     "name": "stderr",
     "output_type": "stream",
     "text": [
      "\u001b[32m2024-09-24 11:41:25.206\u001b[0m | \u001b[1mINFO    \u001b[0m | \u001b[36mpolaris.benchmark._base\u001b[0m:\u001b[36m_validate_split\u001b[0m:\u001b[36m189\u001b[0m - \u001b[1mThis benchmark only specifies a test set. It will return an empty train set in `get_train_test_split()`\u001b[0m\n"
     ]
    }
   ],
   "source": [
    "benchmark = SingleTaskBenchmarkSpecification(\n",
    "    name=f\"{benchmark_name}-{benchmark_version}\",\n",
    "    dataset=dataset,\n",
    "    target_cols=target_cols,\n",
    "    target_types={\"Binder_bool\": \"classification\"},\n",
    "    input_cols=input_col,\n",
    "    split=split,\n",
    "    main_metric=\"balanced_accuracy\",\n",
    "    metrics=[\"accuracy\", \"f1\", \"balanced_accuracy\", \"mcc\", \"cohen_kappa\"],\n",
    "    tags=[\"protein-design\", \"singletask\"],\n",
    "    owner=owner,\n",
    "    description=f\"Single task benchmark for protein binder design targeting the interleukin-7 receptor alpha chain.\",\n",
    ")"
   ]
  },
  {
   "cell_type": "code",
   "execution_count": 16,
   "id": "20500a96",
   "metadata": {},
   "outputs": [
    {
     "data": {
      "text/html": [
       "<table border=\"1\"><tr><th>name</th><td>IL7Ra_binders_binary_cls-v2</td></tr><tr><th>description</th><td>Single task benchmark for protein binder design targeting the interleukin-7 receptor alpha chain.</td></tr><tr><th>tags</th><td><ul><li>protein-design</li><li>singletask</li></ul></td></tr><tr><th>user_attributes</th><td></td></tr><tr><th>owner</th><td>adaptyv-bio</td></tr><tr><th>polaris_version</th><td>0.8.5.dev6+gb44821c</td></tr><tr><th>target_cols</th><td><ul><li>Binder_bool</li></ul></td></tr><tr><th>input_cols</th><td><ul><li>sequence</li></ul></td></tr><tr><th>metrics</th><td><ul><li>accuracy</li><li>f1</li><li>balanced_accuracy</li><li>mcc</li><li>cohen_kappa</li></ul></td></tr><tr><th>main_metric</th><td>balanced_accuracy</td></tr><tr><th>readme</th><td></td></tr><tr><th>target_types</th><td><table border=\"1\"><tr><th>Binder_bool</th><td>classification</td></tr></table></td></tr><tr><th>md5sum</th><td>beff1ad5061db4fc0f5d7133d7c93385</td></tr><tr><th>artifact_id</th><td>adaptyv-bio/il7ra-binders-binary-cls-v2</td></tr><tr><th>n_train_datapoints</th><td>0</td></tr><tr><th>n_test_sets</th><td>1</td></tr><tr><th>n_test_datapoints</th><td><table border=\"1\"><tr><th>test</th><td>95</td></tr></table></td></tr><tr><th>n_classes</th><td><table border=\"1\"><tr><th>Binder_bool</th><td>2</td></tr></table></td></tr><tr><th>task_type</th><td>single_task</td></tr><tr><th>dataset_name</th><td>IL7Ra_binders-v1</td></tr></table>"
      ],
      "text/plain": [
       "{\n",
       "  \"name\": \"IL7Ra_binders_binary_cls-v2\",\n",
       "  \"description\": \"Single task benchmark for protein binder design targeting the interleukin-7 receptor alpha chain.\",\n",
       "  \"tags\": [\n",
       "    \"protein-design\",\n",
       "    \"singletask\"\n",
       "  ],\n",
       "  \"user_attributes\": {},\n",
       "  \"owner\": \"adaptyv-bio\",\n",
       "  \"polaris_version\": \"0.8.5.dev6+gb44821c\",\n",
       "  \"target_cols\": [\n",
       "    \"Binder_bool\"\n",
       "  ],\n",
       "  \"input_cols\": [\n",
       "    \"sequence\"\n",
       "  ],\n",
       "  \"metrics\": [\n",
       "    \"accuracy\",\n",
       "    \"f1\",\n",
       "    \"balanced_accuracy\",\n",
       "    \"mcc\",\n",
       "    \"cohen_kappa\"\n",
       "  ],\n",
       "  \"main_metric\": \"balanced_accuracy\",\n",
       "  \"readme\": \"\",\n",
       "  \"target_types\": {\n",
       "    \"Binder_bool\": \"classification\"\n",
       "  },\n",
       "  \"md5sum\": \"beff1ad5061db4fc0f5d7133d7c93385\",\n",
       "  \"artifact_id\": \"adaptyv-bio/il7ra-binders-binary-cls-v2\",\n",
       "  \"n_train_datapoints\": 0,\n",
       "  \"n_test_sets\": 1,\n",
       "  \"n_test_datapoints\": {\n",
       "    \"test\": 95\n",
       "  },\n",
       "  \"n_classes\": {\n",
       "    \"Binder_bool\": 2\n",
       "  },\n",
       "  \"task_type\": \"single_task\",\n",
       "  \"dataset_name\": \"IL7Ra_binders-v1\"\n",
       "}"
      ]
     },
     "execution_count": 16,
     "metadata": {},
     "output_type": "execute_result"
    }
   ],
   "source": [
    "benchmark"
   ]
  },
  {
   "cell_type": "code",
   "execution_count": 17,
   "id": "89f27fe0",
   "metadata": {},
   "outputs": [
    {
     "name": "stdout",
     "output_type": "stream",
     "text": [
      "✅ SUCCESS: \u001b[1mYour standard benchmark has been successfully uploaded to the Hub. View it here: https://polarishub.io/v1/benchmark/adaptyv-bio/IL7Ra_binders_binary_cls-v2\u001b[0m\n",
      " \n"
     ]
    },
    {
     "data": {
      "text/plain": [
       "{'id': 'GEw2UPtNsag8QZTQFAU6d',\n",
       " 'createdAt': '2024-09-24T15:41:26.619Z',\n",
       " 'deletedAt': None,\n",
       " 'name': 'IL7Ra_binders_binary_cls-v2',\n",
       " 'slug': 'il7ra-binders-binary-cls-v2',\n",
       " 'description': 'Single task benchmark for protein binder design targeting the interleukin-7 receptor alpha chain.',\n",
       " 'tags': ['protein-design', 'singletask'],\n",
       " 'userAttributes': {},\n",
       " 'access': 'private',\n",
       " 'isCertified': False,\n",
       " 'polarisVersion': '0.8.5.dev6+gb44821c',\n",
       " 'readme': '',\n",
       " 'state': 'ready',\n",
       " 'ownerId': 'Ek6QRdreDbHuVNCUNjdbr',\n",
       " 'creatorId': 'NKnaHGybLqwSHcaMEHqfF',\n",
       " 'targetCols': ['Binder_bool'],\n",
       " 'inputCols': ['sequence'],\n",
       " 'md5Sum': 'beff1ad5061db4fc0f5d7133d7c93385',\n",
       " 'metrics': ['accuracy', 'f1', 'balanced_accuracy', 'mcc', 'cohen_kappa'],\n",
       " 'mainMetric': 'balanced_accuracy',\n",
       " 'split': [[],\n",
       "  [0,\n",
       "   1,\n",
       "   2,\n",
       "   3,\n",
       "   4,\n",
       "   5,\n",
       "   6,\n",
       "   7,\n",
       "   8,\n",
       "   9,\n",
       "   10,\n",
       "   11,\n",
       "   12,\n",
       "   13,\n",
       "   14,\n",
       "   15,\n",
       "   16,\n",
       "   17,\n",
       "   18,\n",
       "   19,\n",
       "   20,\n",
       "   21,\n",
       "   22,\n",
       "   23,\n",
       "   24,\n",
       "   25,\n",
       "   26,\n",
       "   27,\n",
       "   28,\n",
       "   29,\n",
       "   30,\n",
       "   31,\n",
       "   32,\n",
       "   33,\n",
       "   34,\n",
       "   35,\n",
       "   36,\n",
       "   37,\n",
       "   38,\n",
       "   39,\n",
       "   40,\n",
       "   41,\n",
       "   42,\n",
       "   43,\n",
       "   44,\n",
       "   45,\n",
       "   46,\n",
       "   47,\n",
       "   48,\n",
       "   49,\n",
       "   50,\n",
       "   51,\n",
       "   52,\n",
       "   53,\n",
       "   54,\n",
       "   55,\n",
       "   56,\n",
       "   57,\n",
       "   58,\n",
       "   59,\n",
       "   60,\n",
       "   61,\n",
       "   62,\n",
       "   63,\n",
       "   64,\n",
       "   65,\n",
       "   66,\n",
       "   67,\n",
       "   68,\n",
       "   69,\n",
       "   70,\n",
       "   71,\n",
       "   72,\n",
       "   73,\n",
       "   74,\n",
       "   75,\n",
       "   76,\n",
       "   77,\n",
       "   78,\n",
       "   79,\n",
       "   80,\n",
       "   81,\n",
       "   82,\n",
       "   83,\n",
       "   84,\n",
       "   85,\n",
       "   86,\n",
       "   87,\n",
       "   88,\n",
       "   89,\n",
       "   90,\n",
       "   91,\n",
       "   92,\n",
       "   93,\n",
       "   94]],\n",
       " 'taskType': 'single_task',\n",
       " 'targetTypes': {'Binder_bool': 'classification'},\n",
       " 'nTestSets': 1,\n",
       " 'nTestDatapoints': {'test': 95},\n",
       " 'nTrainDatapoints': 0,\n",
       " 'nClasses': {'Binder_bool': 2},\n",
       " 'datasetId': 'osgrHVSWgVPC1zej17lat',\n",
       " 'artifactId': 'adaptyv-bio/il7ra-binders-binary-cls-v2',\n",
       " 'owner': {'slug': 'adaptyv-bio',\n",
       "  'externalId': 'org_2lqe2oSyR0fGZEEVd1NUlwqnfjx',\n",
       "  'type': 'organization'},\n",
       " 'creator': {'slug': 'lu-valencelabs',\n",
       "  'externalId': 'user_2gtYwEALU6nz7YYhVOTrlJmkWtN',\n",
       "  'type': 'user'},\n",
       " 'dataset': {'access': 'public',\n",
       "  'createdAt': '2024-09-12T20:33:11.877Z',\n",
       "  'description': 'This dataset includes binding protein designs targeting the interleukin-7 receptor alpha chain (IL7RA), a drug target associated with various diseases.',\n",
       "  'isCertified': False,\n",
       "  'name': 'IL7Ra_binders-v1',\n",
       "  'artifactId': 'adaptyv-bio/il7ra-binders-v1',\n",
       "  'owner': {'slug': 'adaptyv-bio'}},\n",
       " 'results': [],\n",
       " 'review': None}"
      ]
     },
     "execution_count": 17,
     "metadata": {},
     "output_type": "execute_result"
    }
   ],
   "source": [
    "# upload to polaris hub\n",
    "benchmark.upload_to_hub(access=\"private\", owner=owner)"
   ]
  }
 ],
 "metadata": {
  "kernelspec": {
   "display_name": "Python 3 (ipykernel)",
   "language": "python",
   "name": "python3"
  },
  "language_info": {
   "codemirror_mode": {
    "name": "ipython",
    "version": 3
   },
   "file_extension": ".py",
   "mimetype": "text/x-python",
   "name": "python",
   "nbconvert_exporter": "python",
   "pygments_lexer": "ipython3",
   "version": "3.12.4"
  }
 },
 "nbformat": 4,
 "nbformat_minor": 5
}
