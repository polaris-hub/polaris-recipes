{
 "cells": [
  {
   "cell_type": "markdown",
   "id": "545099e3-0eb9-4a80-a0c6-0448c0674502",
   "metadata": {},
   "source": [
    "# Benchmark creation with [Polaris](https://github.com/polaris-hub/polaris)"
   ]
  },
  {
   "cell_type": "code",
   "execution_count": 1,
   "id": "30138c1e",
   "metadata": {
    "scrolled": true
   },
   "outputs": [],
   "source": [
    "%load_ext autoreload\n",
    "%autoreload 2\n",
    "\n",
    "import os\n",
    "import sys\n",
    "import pathlib\n",
    "\n",
    "import datamol as dm\n",
    "import numpy as np\n",
    "\n",
    "# polaris benchmark\n",
    "from polaris.benchmark import SingleTaskBenchmarkSpecification\n",
    "\n",
    "# polaris hub\n",
    "from polaris.cli import PolarisHubClient\n",
    "from polaris.utils.types import HubOwner\n",
    "\n",
    "# utils\n",
    "root = pathlib.Path(\"__file__\").absolute().parents[2]\n",
    "os.chdir(root)\n",
    "sys.path.insert(0, str(root))"
   ]
  },
  {
   "cell_type": "code",
   "execution_count": 2,
   "id": "d9c5ea4e-740d-4e4a-a62d-dcb508b441a9",
   "metadata": {},
   "outputs": [],
   "source": [
    "# Get the owner and organization\n",
    "# Get the owner and organization\n",
    "org = \"AdaptyvBio\"\n",
    "data_name = \"IL7Ra_binders\"\n",
    "dataset_version = \"v1\"\n",
    "dirname = dm.fs.join(root, f\"org-{org}\",data_name)\n",
    "gcp_root = f\"gs://polaris-public/polaris-recipes/org-{org}/{data_name}\"\n",
    "\n",
    "owner = HubOwner(slug=\"adaptyv-bio\", type=\"organization\")\n",
    "owner\n",
    "\n",
    "BENCHMARK_DIR = f\"{gcp_root}/benchmarks\"\n",
    "DATASET_JSON = f\"gs://polaris-public/polaris-recipes/org-{org}/{data_name}/datasets/{data_name}-{dataset_version}/dataset.json\"\n",
    "\n",
    "FIGURE_DIR = f\"{gcp_root}/figures\""
   ]
  },
  {
   "cell_type": "markdown",
   "id": "7f22cb4b-6303-425c-9a15-d437705baff9",
   "metadata": {},
   "source": [
    "## Load existing Dataset\n",
    "> **Attention:** \\\n",
    "> See more dataset creataion details in [02_polaris_adme-fang_dataset.ipynb](https://github.com/polaris-hub/polaris-recipes/org-Biogen/fang2023_ADME/02_polaris_adme-fang_dataset.ipynb)."
   ]
  },
  {
   "cell_type": "code",
   "execution_count": 3,
   "id": "8b295721-e50f-4dae-881f-a7660f1284a9",
   "metadata": {},
   "outputs": [
    {
     "name": "stdout",
     "output_type": "stream",
     "text": [
      "⠇ Fetching artifact... "
     ]
    },
    {
     "name": "stderr",
     "output_type": "stream",
     "text": [
      "\u001b[32m2024-09-12 16:53:42.888\u001b[0m | \u001b[1mINFO    \u001b[0m | \u001b[36mpolaris._artifact\u001b[0m:\u001b[36m_validate_version\u001b[0m:\u001b[36m66\u001b[0m - \u001b[1mThe version of Polaris that was used to create the artifact (0.7.9) is different from the currently installed version of Polaris (0.8.5.dev4+gd28c6e4).\u001b[0m\n",
      "\u001b[32m2024-09-12 16:53:42.890\u001b[0m | \u001b[1mINFO    \u001b[0m | \u001b[36mpolaris.mixins._checksum\u001b[0m:\u001b[36mverify_checksum\u001b[0m:\u001b[36m65\u001b[0m - \u001b[1mTo verify the checksum, we need to recompute it. This can be slow for large datasets.\u001b[0m\n"
     ]
    },
    {
     "name": "stdout",
     "output_type": "stream",
     "text": [
      "✅ SUCCESS: \u001b[1mFetched artifact.\u001b[0m\n",
      " \n"
     ]
    },
    {
     "name": "stderr",
     "output_type": "stream",
     "text": [
      "/Users/lu.zhu/miniconda3/envs/po_dataset/lib/python3.12/site-packages/yaspin/core.py:228: UserWarning: color, on_color and attrs are not supported when running in jupyter\n",
      "  self._color = self._set_color(value) if value else value\n"
     ]
    }
   ],
   "source": [
    "# Load the saved Dataset\n",
    "import polaris as po\n",
    "\n",
    "# Load the dataset from the Hub\n",
    "dataset = po.load_dataset(\"adaptyv-bio/IL7Ra_binders-v1\")"
   ]
  },
  {
   "cell_type": "markdown",
   "id": "42c498f1",
   "metadata": {},
   "source": [
    "## Benchmark creation with `Polaris`\n",
    "This is a retrospective benchmark, all the data points are in the test split for evaluation. "
   ]
  },
  {
   "cell_type": "code",
   "execution_count": 8,
   "id": "4dfa3f26",
   "metadata": {},
   "outputs": [],
   "source": [
    "split = (np.array([]), np.array(range(dataset.table.shape[0])))"
   ]
  },
  {
   "cell_type": "code",
   "execution_count": 9,
   "id": "79268b65",
   "metadata": {},
   "outputs": [
    {
     "data": {
      "text/plain": [
       "(array([], dtype=float64),\n",
       " array([ 0,  1,  2,  3,  4,  5,  6,  7,  8,  9, 10, 11, 12, 13, 14, 15, 16,\n",
       "        17, 18, 19, 20, 21, 22, 23, 24, 25, 26, 27, 28, 29, 30, 31, 32, 33,\n",
       "        34, 35, 36, 37, 38, 39, 40, 41, 42, 43, 44, 45, 46, 47, 48, 49, 50,\n",
       "        51, 52, 53, 54, 55, 56, 57, 58, 59, 60, 61, 62, 63, 64, 65, 66, 67,\n",
       "        68, 69, 70, 71, 72, 73, 74, 75, 76, 77, 78, 79, 80, 81, 82, 83, 84,\n",
       "        85, 86, 87, 88, 89, 90, 91, 92, 93, 94]))"
      ]
     },
     "execution_count": 9,
     "metadata": {},
     "output_type": "execute_result"
    }
   ],
   "source": [
    "split"
   ]
  },
  {
   "cell_type": "markdown",
   "id": "03aa7204-c71f-4b46-9bf0-e4a57e82ff35",
   "metadata": {},
   "source": [
    "## Create a benchmark"
   ]
  },
  {
   "cell_type": "code",
   "execution_count": 10,
   "id": "8d0e7595-f9bc-428f-85da-e56e8e8f52dd",
   "metadata": {},
   "outputs": [],
   "source": [
    "benchmark_version = \"v1\"\n",
    "target_cols = [\"Binder_bool\"]\n",
    "input_col = [\"sequence\"]\n",
    "benchmark_name = \"IL7Ra_binders_binary_cls\"\n"
   ]
  },
  {
   "cell_type": "code",
   "execution_count": 11,
   "id": "7630bd80-fd18-402b-9de1-57b080b61e3b",
   "metadata": {},
   "outputs": [
    {
     "name": "stderr",
     "output_type": "stream",
     "text": [
      "\u001b[32m2024-09-12 16:54:13.057\u001b[0m | \u001b[1mINFO    \u001b[0m | \u001b[36mpolaris.benchmark._base\u001b[0m:\u001b[36m_validate_split\u001b[0m:\u001b[36m188\u001b[0m - \u001b[1mThis benchmark only specifies a test set. It will return an empty train set in `get_train_test_split()`\u001b[0m\n"
     ]
    }
   ],
   "source": [
    "benchmark_name = f\"{benchmark_name}-{benchmark_version}\"\n",
    "benchmark = SingleTaskBenchmarkSpecification(\n",
    "    name=benchmark_name,\n",
    "    dataset=dataset,\n",
    "    target_cols=target_cols,\n",
    "    target_types={\"Binder_bool\": \"classification\"},\n",
    "    input_cols=input_col,\n",
    "    split=split,\n",
    "    main_metric=\"f1\",\n",
    "    metrics=[\"accuracy\", \"f1\", \"roc_auc\", \"pr_auc\", \"mcc\", \"cohen_kappa\"],\n",
    "    tags=[\"protein-design\", \"singletask\"],\n",
    "    owner=owner,\n",
    "    description=f\"Single task benchmark for protein binder design targeting the interleukin-7 receptor alpha chain.\",\n",
    ")"
   ]
  },
  {
   "cell_type": "code",
   "execution_count": 12,
   "id": "20500a96",
   "metadata": {},
   "outputs": [
    {
     "data": {
      "text/html": [
       "<table border=\"1\"><tr><th>name</th><td>IL7Ra_binders_binary_cls-v1</td></tr><tr><th>description</th><td>Single task benchmark for protein binder design targeting the interleukin-7 receptor alpha chain.</td></tr><tr><th>tags</th><td><ul><li>protein-design</li><li>singletask</li></ul></td></tr><tr><th>user_attributes</th><td></td></tr><tr><th>owner</th><td>adaptyv-bio</td></tr><tr><th>polaris_version</th><td>0.8.5.dev4+gd28c6e4</td></tr><tr><th>target_cols</th><td><ul><li>Binder_bool</li></ul></td></tr><tr><th>input_cols</th><td><ul><li>sequence</li></ul></td></tr><tr><th>metrics</th><td><ul><li>accuracy</li><li>f1</li><li>roc_auc</li><li>pr_auc</li><li>mcc</li><li>cohen_kappa</li></ul></td></tr><tr><th>main_metric</th><td>f1</td></tr><tr><th>readme</th><td></td></tr><tr><th>target_types</th><td><table border=\"1\"><tr><th>Binder_bool</th><td>classification</td></tr></table></td></tr><tr><th>md5sum</th><td>8e8c1184b784526aa55889c1e4a78552</td></tr><tr><th>artifact_id</th><td>adaptyv-bio/il7ra-binders-binary-cls-v1</td></tr><tr><th>n_train_datapoints</th><td>0</td></tr><tr><th>n_test_sets</th><td>1</td></tr><tr><th>n_test_datapoints</th><td><table border=\"1\"><tr><th>test</th><td>95</td></tr></table></td></tr><tr><th>n_classes</th><td><table border=\"1\"><tr><th>Binder_bool</th><td>2</td></tr></table></td></tr><tr><th>task_type</th><td>single_task</td></tr><tr><th>dataset_name</th><td>IL7Ra_binders-v1</td></tr></table>"
      ],
      "text/plain": [
       "{\n",
       "  \"name\": \"IL7Ra_binders_binary_cls-v1\",\n",
       "  \"description\": \"Single task benchmark for protein binder design targeting the interleukin-7 receptor alpha chain.\",\n",
       "  \"tags\": [\n",
       "    \"protein-design\",\n",
       "    \"singletask\"\n",
       "  ],\n",
       "  \"user_attributes\": {},\n",
       "  \"owner\": \"adaptyv-bio\",\n",
       "  \"polaris_version\": \"0.8.5.dev4+gd28c6e4\",\n",
       "  \"target_cols\": [\n",
       "    \"Binder_bool\"\n",
       "  ],\n",
       "  \"input_cols\": [\n",
       "    \"sequence\"\n",
       "  ],\n",
       "  \"metrics\": [\n",
       "    \"accuracy\",\n",
       "    \"f1\",\n",
       "    \"roc_auc\",\n",
       "    \"pr_auc\",\n",
       "    \"mcc\",\n",
       "    \"cohen_kappa\"\n",
       "  ],\n",
       "  \"main_metric\": \"f1\",\n",
       "  \"readme\": \"\",\n",
       "  \"target_types\": {\n",
       "    \"Binder_bool\": \"classification\"\n",
       "  },\n",
       "  \"md5sum\": \"8e8c1184b784526aa55889c1e4a78552\",\n",
       "  \"artifact_id\": \"adaptyv-bio/il7ra-binders-binary-cls-v1\",\n",
       "  \"n_train_datapoints\": 0,\n",
       "  \"n_test_sets\": 1,\n",
       "  \"n_test_datapoints\": {\n",
       "    \"test\": 95\n",
       "  },\n",
       "  \"n_classes\": {\n",
       "    \"Binder_bool\": 2\n",
       "  },\n",
       "  \"task_type\": \"single_task\",\n",
       "  \"dataset_name\": \"IL7Ra_binders-v1\"\n",
       "}"
      ]
     },
     "execution_count": 12,
     "metadata": {},
     "output_type": "execute_result"
    }
   ],
   "source": [
    "benchmark"
   ]
  },
  {
   "cell_type": "code",
   "execution_count": 14,
   "id": "89f27fe0",
   "metadata": {},
   "outputs": [
    {
     "name": "stdout",
     "output_type": "stream",
     "text": [
      "💥 ERROR: Failed to upload benchmark. \n"
     ]
    },
    {
     "name": "stderr",
     "output_type": "stream",
     "text": [
      "/Users/lu.zhu/miniconda3/envs/po_dataset/lib/python3.12/site-packages/yaspin/core.py:228: UserWarning: color, on_color and attrs are not supported when running in jupyter\n",
      "  self._color = self._set_color(value) if value else value\n"
     ]
    },
    {
     "ename": "PolarisHubError",
     "evalue": "The request to the Polaris Hub failed. The Hub responded with:\n{\n  \"issues\": [\n    {\n      \"code\": \"too_small\",\n      \"exact\": false,\n      \"inclusive\": true,\n      \"message\": \"Array must contain at least 1 element(s)\",\n      \"minimum\": 1,\n      \"path\": [\n        \"split\",\n        0\n      ],\n      \"type\": \"array\"\n    }\n  ]\n}\n",
     "output_type": "error",
     "traceback": [
      "\u001b[0;31m---------------------------------------------------------------------------\u001b[0m",
      "\u001b[0;31mHTTPStatusError\u001b[0m                           Traceback (most recent call last)",
      "File \u001b[0;32m~/Documents/Codebase/ValenceLab/polaris/polaris/hub/client.py:171\u001b[0m, in \u001b[0;36mPolarisHubClient._base_request_to_hub\u001b[0;34m(self, url, method, **kwargs)\u001b[0m\n\u001b[1;32m    170\u001b[0m \u001b[38;5;28;01mtry\u001b[39;00m:\n\u001b[0;32m--> 171\u001b[0m     \u001b[43mresponse\u001b[49m\u001b[38;5;241;43m.\u001b[39;49m\u001b[43mraise_for_status\u001b[49m\u001b[43m(\u001b[49m\u001b[43m)\u001b[49m\n\u001b[1;32m    173\u001b[0m \u001b[38;5;28;01mexcept\u001b[39;00m HTTPStatusError \u001b[38;5;28;01mas\u001b[39;00m error:\n",
      "File \u001b[0;32m~/miniconda3/envs/po_dataset/lib/python3.12/site-packages/httpx/_models.py:761\u001b[0m, in \u001b[0;36mResponse.raise_for_status\u001b[0;34m(self)\u001b[0m\n\u001b[1;32m    760\u001b[0m message \u001b[38;5;241m=\u001b[39m message\u001b[38;5;241m.\u001b[39mformat(\u001b[38;5;28mself\u001b[39m, error_type\u001b[38;5;241m=\u001b[39merror_type)\n\u001b[0;32m--> 761\u001b[0m \u001b[38;5;28;01mraise\u001b[39;00m HTTPStatusError(message, request\u001b[38;5;241m=\u001b[39mrequest, response\u001b[38;5;241m=\u001b[39m\u001b[38;5;28mself\u001b[39m)\n",
      "\u001b[0;31mHTTPStatusError\u001b[0m: Client error '422 Unprocessable Entity' for url 'https://polarishub.io/api/v1/benchmark/adaptyv-bio/IL7Ra_binders_binary_cls-v1'\nFor more information check: https://developer.mozilla.org/en-US/docs/Web/HTTP/Status/422",
      "\nThe above exception was the direct cause of the following exception:\n",
      "\u001b[0;31mPolarisHubError\u001b[0m                           Traceback (most recent call last)",
      "Cell \u001b[0;32mIn[14], line 2\u001b[0m\n\u001b[1;32m      1\u001b[0m \u001b[38;5;66;03m# upload to polaris hub\u001b[39;00m\n\u001b[0;32m----> 2\u001b[0m \u001b[43mbenchmark\u001b[49m\u001b[38;5;241;43m.\u001b[39;49m\u001b[43mupload_to_hub\u001b[49m\u001b[43m(\u001b[49m\u001b[43maccess\u001b[49m\u001b[38;5;241;43m=\u001b[39;49m\u001b[38;5;124;43m\"\u001b[39;49m\u001b[38;5;124;43mprivate\u001b[39;49m\u001b[38;5;124;43m\"\u001b[39;49m\u001b[43m,\u001b[49m\u001b[43m \u001b[49m\u001b[43mowner\u001b[49m\u001b[38;5;241;43m=\u001b[39;49m\u001b[43mowner\u001b[49m\u001b[43m)\u001b[49m\n",
      "File \u001b[0;32m~/Documents/Codebase/ValenceLab/polaris/polaris/benchmark/_base.py:518\u001b[0m, in \u001b[0;36mBenchmarkSpecification.upload_to_hub\u001b[0;34m(self, settings, cache_auth_token, access, owner, **kwargs)\u001b[0m\n\u001b[1;32m    511\u001b[0m \u001b[38;5;28;01mfrom\u001b[39;00m \u001b[38;5;21;01mpolaris\u001b[39;00m\u001b[38;5;21;01m.\u001b[39;00m\u001b[38;5;21;01mhub\u001b[39;00m\u001b[38;5;21;01m.\u001b[39;00m\u001b[38;5;21;01mclient\u001b[39;00m \u001b[38;5;28;01mimport\u001b[39;00m PolarisHubClient\n\u001b[1;32m    513\u001b[0m \u001b[38;5;28;01mwith\u001b[39;00m PolarisHubClient(\n\u001b[1;32m    514\u001b[0m     settings\u001b[38;5;241m=\u001b[39msettings,\n\u001b[1;32m    515\u001b[0m     cache_auth_token\u001b[38;5;241m=\u001b[39mcache_auth_token,\n\u001b[1;32m    516\u001b[0m     \u001b[38;5;241m*\u001b[39m\u001b[38;5;241m*\u001b[39mkwargs,\n\u001b[1;32m    517\u001b[0m ) \u001b[38;5;28;01mas\u001b[39;00m client:\n\u001b[0;32m--> 518\u001b[0m     \u001b[38;5;28;01mreturn\u001b[39;00m \u001b[43mclient\u001b[49m\u001b[38;5;241;43m.\u001b[39;49m\u001b[43mupload_benchmark\u001b[49m\u001b[43m(\u001b[49m\u001b[38;5;28;43mself\u001b[39;49m\u001b[43m,\u001b[49m\u001b[43m \u001b[49m\u001b[43maccess\u001b[49m\u001b[38;5;241;43m=\u001b[39;49m\u001b[43maccess\u001b[49m\u001b[43m,\u001b[49m\u001b[43m \u001b[49m\u001b[43mowner\u001b[49m\u001b[38;5;241;43m=\u001b[39;49m\u001b[43mowner\u001b[49m\u001b[43m)\u001b[49m\n",
      "File \u001b[0;32m~/Documents/Codebase/ValenceLab/polaris/polaris/hub/client.py:738\u001b[0m, in \u001b[0;36mPolarisHubClient.upload_benchmark\u001b[0;34m(self, benchmark, access, owner)\u001b[0m\n\u001b[1;32m    711\u001b[0m \u001b[38;5;28;01mdef\u001b[39;00m \u001b[38;5;21mupload_benchmark\u001b[39m(\n\u001b[1;32m    712\u001b[0m     \u001b[38;5;28mself\u001b[39m,\n\u001b[1;32m    713\u001b[0m     benchmark: BenchmarkSpecification,\n\u001b[1;32m    714\u001b[0m     access: AccessType \u001b[38;5;241m=\u001b[39m \u001b[38;5;124m\"\u001b[39m\u001b[38;5;124mprivate\u001b[39m\u001b[38;5;124m\"\u001b[39m,\n\u001b[1;32m    715\u001b[0m     owner: HubOwner \u001b[38;5;241m|\u001b[39m \u001b[38;5;28mstr\u001b[39m \u001b[38;5;241m|\u001b[39m \u001b[38;5;28;01mNone\u001b[39;00m \u001b[38;5;241m=\u001b[39m \u001b[38;5;28;01mNone\u001b[39;00m,\n\u001b[1;32m    716\u001b[0m ):\n\u001b[1;32m    717\u001b[0m \u001b[38;5;250m    \u001b[39m\u001b[38;5;124;03m\"\"\"Upload the benchmark to the Polaris Hub.\u001b[39;00m\n\u001b[1;32m    718\u001b[0m \n\u001b[1;32m    719\u001b[0m \u001b[38;5;124;03m    Info: Owner\u001b[39;00m\n\u001b[0;32m   (...)\u001b[0m\n\u001b[1;32m    736\u001b[0m \u001b[38;5;124;03m        owner: Which Hub user or organization owns the artifact. Takes precedence over `benchmark.owner`.\u001b[39;00m\n\u001b[1;32m    737\u001b[0m \u001b[38;5;124;03m    \"\"\"\u001b[39;00m\n\u001b[0;32m--> 738\u001b[0m     \u001b[38;5;28;01mreturn\u001b[39;00m \u001b[38;5;28;43mself\u001b[39;49m\u001b[38;5;241;43m.\u001b[39;49m\u001b[43m_upload_benchmark\u001b[49m\u001b[43m(\u001b[49m\u001b[43mbenchmark\u001b[49m\u001b[43m,\u001b[49m\u001b[43m \u001b[49m\u001b[43mArtifactSubtype\u001b[49m\u001b[38;5;241;43m.\u001b[39;49m\u001b[43mSTANDARD\u001b[49m\u001b[38;5;241;43m.\u001b[39;49m\u001b[43mvalue\u001b[49m\u001b[43m,\u001b[49m\u001b[43m \u001b[49m\u001b[43maccess\u001b[49m\u001b[43m,\u001b[49m\u001b[43m \u001b[49m\u001b[43mowner\u001b[49m\u001b[43m)\u001b[49m\n",
      "File \u001b[0;32m~/Documents/Codebase/ValenceLab/polaris/polaris/hub/client.py:785\u001b[0m, in \u001b[0;36mPolarisHubClient._upload_benchmark\u001b[0;34m(self, benchmark, artifact_type, access, owner)\u001b[0m\n\u001b[1;32m    781\u001b[0m path_params \u001b[38;5;241m=\u001b[39m (\n\u001b[1;32m    782\u001b[0m     \u001b[38;5;124m\"\u001b[39m\u001b[38;5;124m/v1/benchmark\u001b[39m\u001b[38;5;124m\"\u001b[39m \u001b[38;5;28;01mif\u001b[39;00m artifact_type \u001b[38;5;241m==\u001b[39m ArtifactSubtype\u001b[38;5;241m.\u001b[39mSTANDARD\u001b[38;5;241m.\u001b[39mvalue \u001b[38;5;28;01melse\u001b[39;00m \u001b[38;5;124m\"\u001b[39m\u001b[38;5;124m/v2/competition\u001b[39m\u001b[38;5;124m\"\u001b[39m\n\u001b[1;32m    783\u001b[0m )\n\u001b[1;32m    784\u001b[0m url \u001b[38;5;241m=\u001b[39m \u001b[38;5;124mf\u001b[39m\u001b[38;5;124m\"\u001b[39m\u001b[38;5;132;01m{\u001b[39;00mpath_params\u001b[38;5;132;01m}\u001b[39;00m\u001b[38;5;124m/\u001b[39m\u001b[38;5;132;01m{\u001b[39;00mbenchmark\u001b[38;5;241m.\u001b[39mowner\u001b[38;5;132;01m}\u001b[39;00m\u001b[38;5;124m/\u001b[39m\u001b[38;5;132;01m{\u001b[39;00mbenchmark\u001b[38;5;241m.\u001b[39mname\u001b[38;5;132;01m}\u001b[39;00m\u001b[38;5;124m\"\u001b[39m\n\u001b[0;32m--> 785\u001b[0m response \u001b[38;5;241m=\u001b[39m \u001b[38;5;28;43mself\u001b[39;49m\u001b[38;5;241;43m.\u001b[39;49m\u001b[43m_base_request_to_hub\u001b[49m\u001b[43m(\u001b[49m\u001b[43murl\u001b[49m\u001b[38;5;241;43m=\u001b[39;49m\u001b[43murl\u001b[49m\u001b[43m,\u001b[49m\u001b[43m \u001b[49m\u001b[43mmethod\u001b[49m\u001b[38;5;241;43m=\u001b[39;49m\u001b[38;5;124;43m\"\u001b[39;49m\u001b[38;5;124;43mPUT\u001b[39;49m\u001b[38;5;124;43m\"\u001b[39;49m\u001b[43m,\u001b[49m\u001b[43m \u001b[49m\u001b[43mjson\u001b[49m\u001b[38;5;241;43m=\u001b[39;49m\u001b[43mbenchmark_json\u001b[49m\u001b[43m)\u001b[49m\n\u001b[1;32m    787\u001b[0m progress_indicator\u001b[38;5;241m.\u001b[39mupdate_success_msg(\n\u001b[1;32m    788\u001b[0m     \u001b[38;5;124mf\u001b[39m\u001b[38;5;124m\"\u001b[39m\u001b[38;5;124mYour \u001b[39m\u001b[38;5;132;01m{\u001b[39;00martifact_type\u001b[38;5;132;01m}\u001b[39;00m\u001b[38;5;124m benchmark has been successfully uploaded to the Hub. \u001b[39m\u001b[38;5;124m\"\u001b[39m\n\u001b[1;32m    789\u001b[0m     \u001b[38;5;124mf\u001b[39m\u001b[38;5;124m\"\u001b[39m\u001b[38;5;124mView it here: \u001b[39m\u001b[38;5;132;01m{\u001b[39;00murljoin(\u001b[38;5;28mself\u001b[39m\u001b[38;5;241m.\u001b[39msettings\u001b[38;5;241m.\u001b[39mhub_url,\u001b[38;5;250m \u001b[39murl)\u001b[38;5;132;01m}\u001b[39;00m\u001b[38;5;124m\"\u001b[39m\n\u001b[1;32m    790\u001b[0m )\n\u001b[1;32m    791\u001b[0m \u001b[38;5;28;01mreturn\u001b[39;00m response\n",
      "File \u001b[0;32m~/Documents/Codebase/ValenceLab/polaris/polaris/hub/client.py:204\u001b[0m, in \u001b[0;36mPolarisHubClient._base_request_to_hub\u001b[0;34m(self, url, method, **kwargs)\u001b[0m\n\u001b[1;32m    200\u001b[0m     \u001b[38;5;28;01mif\u001b[39;00m response_status_code \u001b[38;5;241m==\u001b[39m \u001b[38;5;241m404\u001b[39m:\n\u001b[1;32m    201\u001b[0m         \u001b[38;5;66;03m# This happens when an artifact doesn't exist _or_ when the user has no access to that artifact.\u001b[39;00m\n\u001b[1;32m    202\u001b[0m         \u001b[38;5;28;01mraise\u001b[39;00m PolarisRetrieveArtifactError(response\u001b[38;5;241m=\u001b[39mresponse) \u001b[38;5;28;01mfrom\u001b[39;00m \u001b[38;5;21;01merror\u001b[39;00m\n\u001b[0;32m--> 204\u001b[0m     \u001b[38;5;28;01mraise\u001b[39;00m PolarisHubError(response\u001b[38;5;241m=\u001b[39mresponse) \u001b[38;5;28;01mfrom\u001b[39;00m \u001b[38;5;21;01merror\u001b[39;00m\n\u001b[1;32m    205\u001b[0m \u001b[38;5;66;03m# Convert the response to json format if the response contains a 'text' body\u001b[39;00m\n\u001b[1;32m    206\u001b[0m \u001b[38;5;28;01mtry\u001b[39;00m:\n",
      "\u001b[0;31mPolarisHubError\u001b[0m: The request to the Polaris Hub failed. The Hub responded with:\n{\n  \"issues\": [\n    {\n      \"code\": \"too_small\",\n      \"exact\": false,\n      \"inclusive\": true,\n      \"message\": \"Array must contain at least 1 element(s)\",\n      \"minimum\": 1,\n      \"path\": [\n        \"split\",\n        0\n      ],\n      \"type\": \"array\"\n    }\n  ]\n}\n"
     ]
    }
   ],
   "source": [
    "\n",
    "# upload to polaris hub\n",
    "benchmark.upload_to_hub(access=\"private\", owner=owner)"
   ]
  },
  {
   "cell_type": "code",
   "execution_count": null,
   "id": "48a99128",
   "metadata": {},
   "outputs": [],
   "source": []
  }
 ],
 "metadata": {
  "kernelspec": {
   "display_name": "Python 3 (ipykernel)",
   "language": "python",
   "name": "python3"
  },
  "language_info": {
   "codemirror_mode": {
    "name": "ipython",
    "version": 3
   },
   "file_extension": ".py",
   "mimetype": "text/x-python",
   "name": "python",
   "nbconvert_exporter": "python",
   "pygments_lexer": "ipython3",
   "version": "3.12.4"
  }
 },
 "nbformat": 4,
 "nbformat_minor": 5
}
