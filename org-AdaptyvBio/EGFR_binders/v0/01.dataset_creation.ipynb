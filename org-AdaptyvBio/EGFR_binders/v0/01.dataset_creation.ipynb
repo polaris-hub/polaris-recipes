{
 "cells": [
  {
   "cell_type": "markdown",
   "metadata": {},
   "source": [
    "# Dataset creation with [Polaris](https://github.com/polaris-hub/polaris)"
   ]
  },
  {
   "cell_type": "markdown",
   "metadata": {},
   "source": [
    "## Background\n",
    "\n",
    "### Target details\n",
    "Epidermal Growth Factor Receptor (EGFR) is a transmembrane protein that plays a critical role in cell growth, differentiation, and survival. It is frequently overexpressed or mutated in various cancers, including non-small cell lung cancer, colorectal cancer, and head and neck cancer. This makes EGFR a crucial target for cancer therapies such as Cetuximab, an antibody with more than 1B USD in annual revenue. \n",
    "\n",
    "- Target Protein: EGFR\n",
    "- Organism: HUMAN\n",
    "- Uniprot Accession ID: [P00533](https://www.uniprot.org/uniprotkb/P00533/entry)\n",
    "- Protein sequence: LEEKKVCQGTSNKLTQLGTFEDHFLSLQRMFNNCEVVLGNLEITYVQRNYDLSFLKTIQEVAGYVLIALNTVERIPLENLQIIRGNMYYENSYALAVLSNYDANKTGLKELPMRNLQEILHGAVRFSNNPALCNVESIQWRDIVSSDFLSNMSMDFQNHLGSCQKCDPSCPNGSCWGAGEENCQKLTKIICAQQCSGRCRGKSPSDCCHNQCAAGCTGPRESDCLVCRKFRDEATCKDTCPPLMLYNPTTYQMDVNPEGKYSFGATCVKKCPRNYVVTDHGSCVRACGADSYEMEEDGVRKCKKCEGPCRKVCNGIGIGEFKDSLSINATNIKHFKNCTSISGDLHILPVAFRGDSFTHTPPLDPQELDILKTVKEITGFLLIQAWPENRTDLHAFENLEIIRGRTKQHGQFSLAVVSLNITSLGLRSLKEISDGDVIISGNKNLCYANTINWKKLFGTSGQKTKIISNRGENSCKATGQVCHALCSPEGCWGPEPRDCVSCRNVSRGRECVDKCNLLEGEPREFVENSECIQCHPECLPQAMNITCTGRGPDNCIQCAHYIDGPHCVKTCPAGVMGENNTLVWKYADAGHVCHLCHPNCTYGCTGPGLEGCPTNGPKIPS\n",
    "- Structure PDB: [6ARU](https://www.rcsb.org/structure/6aru)\n",
    "\n",
    "\n",
    "![64ru](https://cdn.rcsb.org/images/structures/6aru_assembly-1.jpeg)\n",
    "\n",
    "### Binding protein designs\n",
    "This dataset contains 202 designed EGFR-binding protein sequences, along with experimental binding affinity results tested by the AdaptyvBio team.\n",
    "\n",
    "## Reference:\n",
    "- https://design.adaptyvbio.com/\n",
    "- https://foundry.adaptyvbio.com/egfr_design_competition"
   ]
  },
  {
   "cell_type": "code",
   "execution_count": 1,
   "metadata": {},
   "outputs": [
    {
     "name": "stderr",
     "output_type": "stream",
     "text": [
      "/mnt/ps/home/CORP/lu.zhu/miniconda3/envs/po_datasets/lib/python3.12/site-packages/tqdm/auto.py:21: TqdmWarning: IProgress not found. Please update jupyter and ipywidgets. See https://ipywidgets.readthedocs.io/en/stable/user_install.html\n",
      "  from .autonotebook import tqdm as notebook_tqdm\n"
     ]
    }
   ],
   "source": [
    "%load_ext autoreload\n",
    "%autoreload 2\n",
    "\n",
    "import os\n",
    "import sys\n",
    "import pathlib\n",
    "\n",
    "import pandas as pd\n",
    "import datamol as dm\n",
    "\n",
    "# polaris dataset\n",
    "from polaris.dataset import Dataset, ColumnAnnotation\n",
    "from polaris.utils.types import HubOwner\n",
    "\n",
    "\n",
    "root = pathlib.Path(\"__file__\").absolute().parents[3]\n",
    "os.chdir(root)\n",
    "sys.path.insert(0, str(root))"
   ]
  },
  {
   "cell_type": "code",
   "execution_count": 2,
   "metadata": {},
   "outputs": [
    {
     "data": {
      "text/plain": [
       "HubOwner(slug='adaptyv-bio', external_id=None, type='organization')"
      ]
     },
     "execution_count": 2,
     "metadata": {},
     "output_type": "execute_result"
    }
   ],
   "source": [
    "# Get the owner and organization\n",
    "org = \"AdaptyvBio\"\n",
    "data_name = \"EGFR_binders\"\n",
    "dirname = dm.fs.join(root, f\"org-{org}\", data_name)\n",
    "gcp_root = f\"gs://polaris-public/polaris-recipes/org-{org}/{data_name}\"\n",
    "\n",
    "owner = HubOwner(slug=\"adaptyv-bio\", type=\"organization\")\n",
    "owner"
   ]
  },
  {
   "cell_type": "code",
   "execution_count": 3,
   "metadata": {},
   "outputs": [],
   "source": [
    "BENCHMARK_DIR = f\"gs://polaris-public/polaris-recipes/org-{org}/{data_name}/benchmarks\"\n",
    "DATASET_DIR = f\"gs://polaris-public/polaris-recipes/org-{org}/{data_name}/datasets\"\n",
    "FIGURE_DIR = f\"gs://polaris-public/polaris-recipes/org-{org}/{data_name}/figures\""
   ]
  },
  {
   "cell_type": "markdown",
   "metadata": {},
   "source": [
    "## Load existing data"
   ]
  },
  {
   "cell_type": "code",
   "execution_count": 4,
   "metadata": {},
   "outputs": [],
   "source": [
    "# Load the curated data\n",
    "PATH = \"gs://polaris-public/polaris-recipes/org-AdaptyvBio/EGFR_binders/raw/result_summary_with_class.csv\"\n",
    "table = pd.read_csv(PATH)"
   ]
  },
  {
   "cell_type": "code",
   "execution_count": 5,
   "metadata": {},
   "outputs": [
    {
     "data": {
      "text/html": [
       "<div>\n",
       "<style scoped>\n",
       "    .dataframe tbody tr th:only-of-type {\n",
       "        vertical-align: middle;\n",
       "    }\n",
       "\n",
       "    .dataframe tbody tr th {\n",
       "        vertical-align: top;\n",
       "    }\n",
       "\n",
       "    .dataframe thead th {\n",
       "        text-align: right;\n",
       "    }\n",
       "</style>\n",
       "<table border=\"1\" class=\"dataframe\">\n",
       "  <thead>\n",
       "    <tr style=\"text-align: right;\">\n",
       "      <th></th>\n",
       "      <th>name</th>\n",
       "      <th>username</th>\n",
       "      <th>sequence_name</th>\n",
       "      <th>kd</th>\n",
       "      <th>sequence</th>\n",
       "      <th>dna</th>\n",
       "      <th>plddt</th>\n",
       "      <th>pae_interaction</th>\n",
       "      <th>similarity_check</th>\n",
       "      <th>model_names</th>\n",
       "      <th>methods</th>\n",
       "      <th>binding_class</th>\n",
       "    </tr>\n",
       "  </thead>\n",
       "  <tbody>\n",
       "    <tr>\n",
       "      <th>0</th>\n",
       "      <td>Cetuximab_scFv</td>\n",
       "      <td>NaN</td>\n",
       "      <td>NaN</td>\n",
       "      <td>6.638345e-09</td>\n",
       "      <td>QVQLKQSGPGLVQPSQSLSITCTVSGFSLTNYGVHWVRQSPGKGLE...</td>\n",
       "      <td>ATGCAGGTGCAGCTGAAACAGAGCGGCCCGGGCCTGGTGCAGCCAT...</td>\n",
       "      <td>NaN</td>\n",
       "      <td>NaN</td>\n",
       "      <td>NaN</td>\n",
       "      <td>NaN</td>\n",
       "      <td>NaN</td>\n",
       "      <td>True</td>\n",
       "    </tr>\n",
       "    <tr>\n",
       "      <th>1</th>\n",
       "      <td>ahmedsameh-Q3</td>\n",
       "      <td>ahmedsameh</td>\n",
       "      <td>Q3</td>\n",
       "      <td>3.694188e-08</td>\n",
       "      <td>WVQLQESGGGLVQPGGSLRLSCAASGRTFSSYAMGWFRQAPGKQRE...</td>\n",
       "      <td>ATGTGGGTGCAGCTGCAGGAAAGCGGCGGCGGCTTAGTGCAACCAG...</td>\n",
       "      <td>77.840455</td>\n",
       "      <td>28.217942</td>\n",
       "      <td>0.992</td>\n",
       "      <td>[\"Rosetta\"]</td>\n",
       "      <td>[\"Physics Based\"]</td>\n",
       "      <td>True</td>\n",
       "    </tr>\n",
       "    <tr>\n",
       "      <th>2</th>\n",
       "      <td>ahmedsameh-yy2</td>\n",
       "      <td>ahmedsameh</td>\n",
       "      <td>yy2</td>\n",
       "      <td>6.275390e-08</td>\n",
       "      <td>QVQLQESGGGLVQPGGSLRLSCAASGRTFSSHAMGWFRQAPGKQRE...</td>\n",
       "      <td>ATGCAGGTGCAGCTGCAGGAAAGCGGCGGCGGCTTAGTGCAACCAG...</td>\n",
       "      <td>77.288939</td>\n",
       "      <td>28.177070</td>\n",
       "      <td>0.992</td>\n",
       "      <td>[\"Rosetta\"]</td>\n",
       "      <td>[\"Physics Based\"]</td>\n",
       "      <td>True</td>\n",
       "    </tr>\n",
       "    <tr>\n",
       "      <th>3</th>\n",
       "      <td>martin.pacesa-EGFR_l138_s90285_mpnn2</td>\n",
       "      <td>martin.pacesa</td>\n",
       "      <td>EGFR_l138_s90285_mpnn2</td>\n",
       "      <td>4.909414e-07</td>\n",
       "      <td>SPFDLFLDRLPEQDPEMTEEGKWWAEEMKRMVGPHFEELEEYIRNN...</td>\n",
       "      <td>ATGAGCCCGTTTGATCTGTTTCTGGATCGCCTGCCGGAACAGGATC...</td>\n",
       "      <td>88.653551</td>\n",
       "      <td>16.878782</td>\n",
       "      <td>NaN</td>\n",
       "      <td>[\"AF2 Backprop\"]</td>\n",
       "      <td>[\"Hallucination\"]</td>\n",
       "      <td>True</td>\n",
       "    </tr>\n",
       "    <tr>\n",
       "      <th>4</th>\n",
       "      <td>x.rustamov-m_18_41</td>\n",
       "      <td>x.rustamov</td>\n",
       "      <td>m_18_41</td>\n",
       "      <td>4.773972e-06</td>\n",
       "      <td>SAGQAQIEEVKARADKAKTLEELKELRKEAYEKNWKAYMAVVDETE...</td>\n",
       "      <td>ATGAGCGCGGGCCAGGCGCAGATTGAAGAAGTGAAAGCGCGCGCAG...</td>\n",
       "      <td>89.580600</td>\n",
       "      <td>14.921833</td>\n",
       "      <td>NaN</td>\n",
       "      <td>[\"AF2 Backprop\"]</td>\n",
       "      <td>[\"Hallucination\"]</td>\n",
       "      <td>True</td>\n",
       "    </tr>\n",
       "    <tr>\n",
       "      <th>...</th>\n",
       "      <td>...</td>\n",
       "      <td>...</td>\n",
       "      <td>...</td>\n",
       "      <td>...</td>\n",
       "      <td>...</td>\n",
       "      <td>...</td>\n",
       "      <td>...</td>\n",
       "      <td>...</td>\n",
       "      <td>...</td>\n",
       "      <td>...</td>\n",
       "      <td>...</td>\n",
       "      <td>...</td>\n",
       "    </tr>\n",
       "    <tr>\n",
       "      <th>197</th>\n",
       "      <td>tim-silica_corpora_sampled_epitope_1_generated...</td>\n",
       "      <td>tim</td>\n",
       "      <td>silica_corpora_sampled_epitope_1_generated_var...</td>\n",
       "      <td>NaN</td>\n",
       "      <td>QVQLVESGGGLVKPGGSLRLSCAASGSTSSNYAAAWFRQAPGKERE...</td>\n",
       "      <td>ATGCAGGTGCAGCTGGTGGAAAGCGGCGGCGGCCTGGTTAAACCAG...</td>\n",
       "      <td>74.065691</td>\n",
       "      <td>28.327152</td>\n",
       "      <td>0.886</td>\n",
       "      <td>[\"Custom (Generative)\"]</td>\n",
       "      <td>[\"De Novo\"]</td>\n",
       "      <td>False</td>\n",
       "    </tr>\n",
       "    <tr>\n",
       "      <th>198</th>\n",
       "      <td>ahmedsameh-y4</td>\n",
       "      <td>ahmedsameh</td>\n",
       "      <td>y4</td>\n",
       "      <td>NaN</td>\n",
       "      <td>QVQLQESGGGLVQPGGSLRLSCAASGRTFSSYAMGWFRQAPGKQRE...</td>\n",
       "      <td>ATGCAGGTGCAGCTGCAGGAAAGCGGCGGCGGCTTAGTGCAACCAG...</td>\n",
       "      <td>77.784242</td>\n",
       "      <td>28.178994</td>\n",
       "      <td>1.000</td>\n",
       "      <td>[\"Rosetta\"]</td>\n",
       "      <td>[\"Physics Based\"]</td>\n",
       "      <td>False</td>\n",
       "    </tr>\n",
       "    <tr>\n",
       "      <th>199</th>\n",
       "      <td>ahmedsameh-y6</td>\n",
       "      <td>ahmedsameh</td>\n",
       "      <td>y6</td>\n",
       "      <td>NaN</td>\n",
       "      <td>QVQLQESGGGLVQPGGSLRLSCAASGRTFSSYAMGWFRQAPGKQRE...</td>\n",
       "      <td>ATGCAGGTGCAGCTGCAGGAAAGCGGCGGCGGCTTAGTGCAACCAG...</td>\n",
       "      <td>77.753258</td>\n",
       "      <td>28.208359</td>\n",
       "      <td>0.992</td>\n",
       "      <td>[\"Rosetta\"]</td>\n",
       "      <td>[\"Physics Based\"]</td>\n",
       "      <td>False</td>\n",
       "    </tr>\n",
       "    <tr>\n",
       "      <th>200</th>\n",
       "      <td>ahmedsameh-s3</td>\n",
       "      <td>ahmedsameh</td>\n",
       "      <td>s3</td>\n",
       "      <td>NaN</td>\n",
       "      <td>QVQLQESGGGLVQPGGSLRLSCAASGRTFSSYAMGWFRQAPGKQRE...</td>\n",
       "      <td>ATGCAGGTGCAGCTGCAGGAAAGCGGCGGCGGCTTAGTGCAACCAG...</td>\n",
       "      <td>77.456894</td>\n",
       "      <td>28.246956</td>\n",
       "      <td>0.992</td>\n",
       "      <td>[\"Rosetta\"]</td>\n",
       "      <td>[\"Physics Based\"]</td>\n",
       "      <td>False</td>\n",
       "    </tr>\n",
       "    <tr>\n",
       "      <th>201</th>\n",
       "      <td>deepsatlow-design:0 n:0|mpnn:1.164|plddt:0.823...</td>\n",
       "      <td>deepsatflow</td>\n",
       "      <td>design:0 n:0|mpnn:1.164|plddt:0.823|i_ptm:0.75...</td>\n",
       "      <td>NaN</td>\n",
       "      <td>SLKEKEEKLIEELEEELKKIKEEYEKKIKEYLEEGNIEKAEKLKEE...</td>\n",
       "      <td>ATGAGCCTGAAAGAAAAAGAAGAAAAGCTGATTGAAGAACTGGAAG...</td>\n",
       "      <td>56.370435</td>\n",
       "      <td>21.558560</td>\n",
       "      <td>NaN</td>\n",
       "      <td>[]</td>\n",
       "      <td>[]</td>\n",
       "      <td>False</td>\n",
       "    </tr>\n",
       "  </tbody>\n",
       "</table>\n",
       "<p>202 rows × 12 columns</p>\n",
       "</div>"
      ],
      "text/plain": [
       "                                                  name       username  \\\n",
       "0                                       Cetuximab_scFv            NaN   \n",
       "1                                        ahmedsameh-Q3     ahmedsameh   \n",
       "2                                       ahmedsameh-yy2     ahmedsameh   \n",
       "3                 martin.pacesa-EGFR_l138_s90285_mpnn2  martin.pacesa   \n",
       "4                                   x.rustamov-m_18_41     x.rustamov   \n",
       "..                                                 ...            ...   \n",
       "197  tim-silica_corpora_sampled_epitope_1_generated...            tim   \n",
       "198                                      ahmedsameh-y4     ahmedsameh   \n",
       "199                                      ahmedsameh-y6     ahmedsameh   \n",
       "200                                      ahmedsameh-s3     ahmedsameh   \n",
       "201  deepsatlow-design:0 n:0|mpnn:1.164|plddt:0.823...    deepsatflow   \n",
       "\n",
       "                                         sequence_name            kd  \\\n",
       "0                                                  NaN  6.638345e-09   \n",
       "1                                                   Q3  3.694188e-08   \n",
       "2                                                  yy2  6.275390e-08   \n",
       "3                               EGFR_l138_s90285_mpnn2  4.909414e-07   \n",
       "4                                              m_18_41  4.773972e-06   \n",
       "..                                                 ...           ...   \n",
       "197  silica_corpora_sampled_epitope_1_generated_var...           NaN   \n",
       "198                                                 y4           NaN   \n",
       "199                                                 y6           NaN   \n",
       "200                                                 s3           NaN   \n",
       "201  design:0 n:0|mpnn:1.164|plddt:0.823|i_ptm:0.75...           NaN   \n",
       "\n",
       "                                              sequence  \\\n",
       "0    QVQLKQSGPGLVQPSQSLSITCTVSGFSLTNYGVHWVRQSPGKGLE...   \n",
       "1    WVQLQESGGGLVQPGGSLRLSCAASGRTFSSYAMGWFRQAPGKQRE...   \n",
       "2    QVQLQESGGGLVQPGGSLRLSCAASGRTFSSHAMGWFRQAPGKQRE...   \n",
       "3    SPFDLFLDRLPEQDPEMTEEGKWWAEEMKRMVGPHFEELEEYIRNN...   \n",
       "4    SAGQAQIEEVKARADKAKTLEELKELRKEAYEKNWKAYMAVVDETE...   \n",
       "..                                                 ...   \n",
       "197  QVQLVESGGGLVKPGGSLRLSCAASGSTSSNYAAAWFRQAPGKERE...   \n",
       "198  QVQLQESGGGLVQPGGSLRLSCAASGRTFSSYAMGWFRQAPGKQRE...   \n",
       "199  QVQLQESGGGLVQPGGSLRLSCAASGRTFSSYAMGWFRQAPGKQRE...   \n",
       "200  QVQLQESGGGLVQPGGSLRLSCAASGRTFSSYAMGWFRQAPGKQRE...   \n",
       "201  SLKEKEEKLIEELEEELKKIKEEYEKKIKEYLEEGNIEKAEKLKEE...   \n",
       "\n",
       "                                                   dna      plddt  \\\n",
       "0    ATGCAGGTGCAGCTGAAACAGAGCGGCCCGGGCCTGGTGCAGCCAT...        NaN   \n",
       "1    ATGTGGGTGCAGCTGCAGGAAAGCGGCGGCGGCTTAGTGCAACCAG...  77.840455   \n",
       "2    ATGCAGGTGCAGCTGCAGGAAAGCGGCGGCGGCTTAGTGCAACCAG...  77.288939   \n",
       "3    ATGAGCCCGTTTGATCTGTTTCTGGATCGCCTGCCGGAACAGGATC...  88.653551   \n",
       "4    ATGAGCGCGGGCCAGGCGCAGATTGAAGAAGTGAAAGCGCGCGCAG...  89.580600   \n",
       "..                                                 ...        ...   \n",
       "197  ATGCAGGTGCAGCTGGTGGAAAGCGGCGGCGGCCTGGTTAAACCAG...  74.065691   \n",
       "198  ATGCAGGTGCAGCTGCAGGAAAGCGGCGGCGGCTTAGTGCAACCAG...  77.784242   \n",
       "199  ATGCAGGTGCAGCTGCAGGAAAGCGGCGGCGGCTTAGTGCAACCAG...  77.753258   \n",
       "200  ATGCAGGTGCAGCTGCAGGAAAGCGGCGGCGGCTTAGTGCAACCAG...  77.456894   \n",
       "201  ATGAGCCTGAAAGAAAAAGAAGAAAAGCTGATTGAAGAACTGGAAG...  56.370435   \n",
       "\n",
       "     pae_interaction  similarity_check              model_names  \\\n",
       "0                NaN               NaN                      NaN   \n",
       "1          28.217942             0.992              [\"Rosetta\"]   \n",
       "2          28.177070             0.992              [\"Rosetta\"]   \n",
       "3          16.878782               NaN         [\"AF2 Backprop\"]   \n",
       "4          14.921833               NaN         [\"AF2 Backprop\"]   \n",
       "..               ...               ...                      ...   \n",
       "197        28.327152             0.886  [\"Custom (Generative)\"]   \n",
       "198        28.178994             1.000              [\"Rosetta\"]   \n",
       "199        28.208359             0.992              [\"Rosetta\"]   \n",
       "200        28.246956             0.992              [\"Rosetta\"]   \n",
       "201        21.558560               NaN                       []   \n",
       "\n",
       "               methods  binding_class  \n",
       "0                  NaN           True  \n",
       "1    [\"Physics Based\"]           True  \n",
       "2    [\"Physics Based\"]           True  \n",
       "3    [\"Hallucination\"]           True  \n",
       "4    [\"Hallucination\"]           True  \n",
       "..                 ...            ...  \n",
       "197        [\"De Novo\"]          False  \n",
       "198  [\"Physics Based\"]          False  \n",
       "199  [\"Physics Based\"]          False  \n",
       "200  [\"Physics Based\"]          False  \n",
       "201                 []          False  \n",
       "\n",
       "[202 rows x 12 columns]"
      ]
     },
     "execution_count": 5,
     "metadata": {},
     "output_type": "execute_result"
    }
   ],
   "source": [
    "table"
   ]
  },
  {
   "cell_type": "markdown",
   "metadata": {},
   "source": [
    "### Below we specify the meta information of data columns"
   ]
  },
  {
   "cell_type": "markdown",
   "metadata": {},
   "source": [
    "It's necessary to specify the key bioactivity columns, molecule structures and identifiers in the dataset with `ColumnAnnotation`. It is possible to add `user_attributes` with any key and values when needed, such as `unit`, `organism`, `scale` and optimization `objective`. "
   ]
  },
  {
   "cell_type": "markdown",
   "metadata": {},
   "source": [
    "This dataset includes two weak binders. Since only six designs exhibit moderate to strong binding affinities, these two weak binders are classified as positive binders in the binary classification setting. "
   ]
  },
  {
   "cell_type": "code",
   "execution_count": 6,
   "metadata": {},
   "outputs": [],
   "source": [
    "# Rename column names for compheransive terms\n",
    "table.rename(columns={\"kd\": \"KD\"}, inplace=True)"
   ]
  },
  {
   "cell_type": "code",
   "execution_count": 7,
   "metadata": {},
   "outputs": [
    {
     "data": {
      "text/html": [
       "<div>\n",
       "<style scoped>\n",
       "    .dataframe tbody tr th:only-of-type {\n",
       "        vertical-align: middle;\n",
       "    }\n",
       "\n",
       "    .dataframe tbody tr th {\n",
       "        vertical-align: top;\n",
       "    }\n",
       "\n",
       "    .dataframe thead th {\n",
       "        text-align: right;\n",
       "    }\n",
       "</style>\n",
       "<table border=\"1\" class=\"dataframe\">\n",
       "  <thead>\n",
       "    <tr style=\"text-align: right;\">\n",
       "      <th></th>\n",
       "      <th>name</th>\n",
       "      <th>username</th>\n",
       "      <th>sequence_name</th>\n",
       "      <th>KD</th>\n",
       "      <th>sequence</th>\n",
       "      <th>dna</th>\n",
       "      <th>plddt</th>\n",
       "      <th>pae_interaction</th>\n",
       "      <th>similarity_check</th>\n",
       "      <th>model_names</th>\n",
       "      <th>methods</th>\n",
       "      <th>binding_class</th>\n",
       "    </tr>\n",
       "  </thead>\n",
       "  <tbody>\n",
       "    <tr>\n",
       "      <th>0</th>\n",
       "      <td>Cetuximab_scFv</td>\n",
       "      <td>NaN</td>\n",
       "      <td>NaN</td>\n",
       "      <td>6.638345e-09</td>\n",
       "      <td>QVQLKQSGPGLVQPSQSLSITCTVSGFSLTNYGVHWVRQSPGKGLE...</td>\n",
       "      <td>ATGCAGGTGCAGCTGAAACAGAGCGGCCCGGGCCTGGTGCAGCCAT...</td>\n",
       "      <td>NaN</td>\n",
       "      <td>NaN</td>\n",
       "      <td>NaN</td>\n",
       "      <td>NaN</td>\n",
       "      <td>NaN</td>\n",
       "      <td>True</td>\n",
       "    </tr>\n",
       "    <tr>\n",
       "      <th>1</th>\n",
       "      <td>ahmedsameh-Q3</td>\n",
       "      <td>ahmedsameh</td>\n",
       "      <td>Q3</td>\n",
       "      <td>3.694188e-08</td>\n",
       "      <td>WVQLQESGGGLVQPGGSLRLSCAASGRTFSSYAMGWFRQAPGKQRE...</td>\n",
       "      <td>ATGTGGGTGCAGCTGCAGGAAAGCGGCGGCGGCTTAGTGCAACCAG...</td>\n",
       "      <td>77.840455</td>\n",
       "      <td>28.217942</td>\n",
       "      <td>0.992</td>\n",
       "      <td>[\"Rosetta\"]</td>\n",
       "      <td>[\"Physics Based\"]</td>\n",
       "      <td>True</td>\n",
       "    </tr>\n",
       "    <tr>\n",
       "      <th>2</th>\n",
       "      <td>ahmedsameh-yy2</td>\n",
       "      <td>ahmedsameh</td>\n",
       "      <td>yy2</td>\n",
       "      <td>6.275390e-08</td>\n",
       "      <td>QVQLQESGGGLVQPGGSLRLSCAASGRTFSSHAMGWFRQAPGKQRE...</td>\n",
       "      <td>ATGCAGGTGCAGCTGCAGGAAAGCGGCGGCGGCTTAGTGCAACCAG...</td>\n",
       "      <td>77.288939</td>\n",
       "      <td>28.177070</td>\n",
       "      <td>0.992</td>\n",
       "      <td>[\"Rosetta\"]</td>\n",
       "      <td>[\"Physics Based\"]</td>\n",
       "      <td>True</td>\n",
       "    </tr>\n",
       "  </tbody>\n",
       "</table>\n",
       "</div>"
      ],
      "text/plain": [
       "             name    username sequence_name            KD  \\\n",
       "0  Cetuximab_scFv         NaN           NaN  6.638345e-09   \n",
       "1   ahmedsameh-Q3  ahmedsameh            Q3  3.694188e-08   \n",
       "2  ahmedsameh-yy2  ahmedsameh           yy2  6.275390e-08   \n",
       "\n",
       "                                            sequence  \\\n",
       "0  QVQLKQSGPGLVQPSQSLSITCTVSGFSLTNYGVHWVRQSPGKGLE...   \n",
       "1  WVQLQESGGGLVQPGGSLRLSCAASGRTFSSYAMGWFRQAPGKQRE...   \n",
       "2  QVQLQESGGGLVQPGGSLRLSCAASGRTFSSHAMGWFRQAPGKQRE...   \n",
       "\n",
       "                                                 dna      plddt  \\\n",
       "0  ATGCAGGTGCAGCTGAAACAGAGCGGCCCGGGCCTGGTGCAGCCAT...        NaN   \n",
       "1  ATGTGGGTGCAGCTGCAGGAAAGCGGCGGCGGCTTAGTGCAACCAG...  77.840455   \n",
       "2  ATGCAGGTGCAGCTGCAGGAAAGCGGCGGCGGCTTAGTGCAACCAG...  77.288939   \n",
       "\n",
       "   pae_interaction  similarity_check  model_names            methods  \\\n",
       "0              NaN               NaN          NaN                NaN   \n",
       "1        28.217942             0.992  [\"Rosetta\"]  [\"Physics Based\"]   \n",
       "2        28.177070             0.992  [\"Rosetta\"]  [\"Physics Based\"]   \n",
       "\n",
       "   binding_class  \n",
       "0           True  \n",
       "1           True  \n",
       "2           True  "
      ]
     },
     "execution_count": 7,
     "metadata": {},
     "output_type": "execute_result"
    }
   ],
   "source": [
    "table.head(3)"
   ]
  },
  {
   "cell_type": "code",
   "execution_count": 8,
   "metadata": {},
   "outputs": [],
   "source": [
    "annotations = {\n",
    "    \"name\": ColumnAnnotation(description=\"Sequence design name.\"),\n",
    "    \"sequence\": ColumnAnnotation(description=\"Protein sequence in fasta format.\"),\n",
    "    \"dna\": ColumnAnnotation(description=\"DNA sequence of the design.\"),\n",
    "    \"plddt\": ColumnAnnotation(\n",
    "        description=\"pLDDT is a per-residue measure of local confidence.\"\n",
    "    ),\n",
    "    \"pae_interaction\": ColumnAnnotation(\n",
    "        description=\"The confidence level in the interaction between different parts of a protein or between different proteins in a protein-protein complex.\"\n",
    "    ),\n",
    "    \"similarity_check\": ColumnAnnotation(\n",
    "        description=\"Similar the designed sequence to reference known sequences.\"\n",
    "    ),\n",
    "    \"KD\": ColumnAnnotation(\n",
    "        description=\"The equilibrium dissociation constant (KD) for the measure of binding affinity.\",\n",
    "        user_attributes={\n",
    "            \"unit\": \"M\",\n",
    "            \"objective\": \"Lower value\",\n",
    "        },\n",
    "    ),\n",
    "    \"binding_class\": ColumnAnnotation(\n",
    "        description=\"The binding affinity as boolean classes labels.\",\n",
    "        user_attributes={\n",
    "            \"objective\": \"True\",\n",
    "        },\n",
    "    ),\n",
    "    \"model_names\": ColumnAnnotation(\n",
    "        description=\"The name of the model used for design.\"\n",
    "    ),\n",
    "    \"methods\": ColumnAnnotation(description=\"The method used for design.\"),\n",
    "}"
   ]
  },
  {
   "cell_type": "markdown",
   "metadata": {},
   "source": [
    "### Define `Dataset` object"
   ]
  },
  {
   "cell_type": "code",
   "execution_count": 9,
   "metadata": {},
   "outputs": [],
   "source": [
    "from utils.docs_utils import load_readme"
   ]
  },
  {
   "cell_type": "code",
   "execution_count": 10,
   "metadata": {},
   "outputs": [],
   "source": [
    "dataset_version = \"v0\"\n",
    "dataset_name = f\"{data_name}-{dataset_version}\""
   ]
  },
  {
   "cell_type": "code",
   "execution_count": 11,
   "metadata": {},
   "outputs": [],
   "source": [
    "dataset = Dataset(\n",
    "    table=table,\n",
    "    name=dataset_name,\n",
    "    description=\"This dataset includes binding protein designs targeting the Epidermal growth factor receptor(EGFR), a drug target associated with various diseases.\",\n",
    "    source=\"https://design.adaptyvbio.com/\",\n",
    "    annotations=annotations,\n",
    "    owner=owner,\n",
    "    tags=[\"protein-design\"],\n",
    "    license=\"CC-BY-4.0\",\n",
    "    readme=load_readme(\"org-AdaptyvBio/EGFR_binders/v0/dataset.md\"),\n",
    ")"
   ]
  },
  {
   "cell_type": "markdown",
   "metadata": {},
   "source": [
    "### Dataset overview"
   ]
  },
  {
   "cell_type": "code",
   "execution_count": 12,
   "metadata": {},
   "outputs": [
    {
     "name": "stderr",
     "output_type": "stream",
     "text": [
      "\u001b[32m2024-09-26 12:12:28.761\u001b[0m | \u001b[1mINFO    \u001b[0m | \u001b[36mpolaris.mixins._checksum\u001b[0m:\u001b[36mmd5sum\u001b[0m:\u001b[36m27\u001b[0m - \u001b[1mComputing the checksum. This can be slow for large datasets.\u001b[0m\n"
     ]
    },
    {
     "data": {
      "text/html": [
       "<table border=\"1\"><tr><th>name</th><td>EGFR_binders-v0</td></tr><tr><th>description</th><td>This dataset includes binding protein designs targeting the Epidermal growth factor receptor(EGFR), a drug target associated with various diseases.</td></tr><tr><th>tags</th><td><ul><li>protein-design</li></ul></td></tr><tr><th>user_attributes</th><td></td></tr><tr><th>owner</th><td>adaptyv-bio</td></tr><tr><th>polaris_version</th><td>0.8.7.dev1+g23fd61e.d20240926</td></tr><tr><th>default_adapters</th><td></td></tr><tr><th>zarr_root_path</th><td>None</td></tr><tr><th>readme</th><td>## Background\n",
       "\n",
       "### Target details\n",
       "Epidermal Growth Factor Receptor (EGFR) is a transmembrane protein that plays a critical role in cell growth, differentiation, and survival. It is frequently overexpressed or mutated in various cancers, including non-small cell lung cancer, colorectal cancer, and head and neck cancer. This makes EGFR a crucial target for cancer therapies such as Cetuximab, an antibody with more than 1B USD in annual revenue. \n",
       "\n",
       "- Target Protein: EGFR\n",
       "- Organism: HUMAN\n",
       "- Uniprot Accession ID: [P00533](https://www.uniprot.org/uniprotkb/P00533/entry)\n",
       "- Protein sequence: LEEKKVCQGTSNKLTQLGTFEDHFLSLQRMFNNCEVVLGNLEITYVQRNYDLSFLKTIQEVAGYVLIALNTVERIPLENLQIIRGNMYYENSYALAVLSNYDANKTGLKELPMRNLQEILHGAVRFSNNPALCNVESIQWRDIVSSDFLSNMSMDFQNHLGSCQKCDPSCPNGSCWGAGEENCQKLTKIICAQQCSGRCRGKSPSDCCHNQCAAGCTGPRESDCLVCRKFRDEATCKDTCPPLMLYNPTTYQMDVNPEGKYSFGATCVKKCPRNYVVTDHGSCVRACGADSYEMEEDGVRKCKKCEGPCRKVCNGIGIGEFKDSLSINATNIKHFKNCTSISGDLHILPVAFRGDSFTHTPPLDPQELDILKTVKEITGFLLIQAWPENRTDLHAFENLEIIRGRTKQHGQFSLAVVSLNITSLGLRSLKEISDGDVIISGNKNLCYANTINWKKLFGTSGQKTKIISNRGENSCKATGQVCHALCSPEGCWGPEPRDCVSCRNVSRGRECVDKCNLLEGEPREFVENSECIQCHPECLPQAMNITCTGRGPDNCIQCAHYIDGPHCVKTCPAGVMGENNTLVWKYADAGHVCHLCHPNCTYGCTGPGLEGCPTNGPKIPS\n",
       "- Structure PDB: [6ARU](https://www.rcsb.org/structure/6aru)\n",
       "\n",
       "\n",
       "![64ru](https://cdn.rcsb.org/images/structures/6aru_assembly-1.jpeg)\n",
       "\n",
       "### Binding protein designs\n",
       "This dataset contains 202 designed EGFR-binding protein sequences, along with experimental binding affinity results tested by the AdaptyvBio team.\n",
       "\n",
       "## Benchmark description\n",
       "\n",
       "This retrospective benchmark evaluates protein design methods by challenging participants to design a binding protein for the extracellular domain of EGFR, a cancer-associated drug target. A set of 202 previously designed protein sequences, along with their experimental binding affinities (binary labels), is available for testing. \n",
       "\n",
       "`Balenced Accuracy` is used to evaluate the performance of design methods on both binders and non-binders. \n",
       "\n",
       "\n",
       "## Reference: \n",
       "- https://design.adaptyvbio.com/\n",
       "- https://foundry.adaptyvbio.com/egfr_design_competition</td></tr><tr><th>annotations</th><td><table border=\"1\"><tr><th>name</th><td><table border=\"1\"><tr><th>is_pointer</th><td>False</td></tr><tr><th>modality</th><td>UNKNOWN</td></tr><tr><th>description</th><td>Sequence design name.</td></tr><tr><th>user_attributes</th><td></td></tr><tr><th>dtype</th><td>object</td></tr><tr><th>content_type</th><td>None</td></tr></table></td></tr><tr><th>sequence</th><td><table border=\"1\"><tr><th>is_pointer</th><td>False</td></tr><tr><th>modality</th><td>UNKNOWN</td></tr><tr><th>description</th><td>Protein sequence in fasta format.</td></tr><tr><th>user_attributes</th><td></td></tr><tr><th>dtype</th><td>object</td></tr><tr><th>content_type</th><td>None</td></tr></table></td></tr><tr><th>dna</th><td><table border=\"1\"><tr><th>is_pointer</th><td>False</td></tr><tr><th>modality</th><td>UNKNOWN</td></tr><tr><th>description</th><td>DNA sequence of the design.</td></tr><tr><th>user_attributes</th><td></td></tr><tr><th>dtype</th><td>object</td></tr><tr><th>content_type</th><td>None</td></tr></table></td></tr><tr><th>plddt</th><td><table border=\"1\"><tr><th>is_pointer</th><td>False</td></tr><tr><th>modality</th><td>UNKNOWN</td></tr><tr><th>description</th><td>pLDDT is a per-residue measure of local confidence.</td></tr><tr><th>user_attributes</th><td></td></tr><tr><th>dtype</th><td>float64</td></tr><tr><th>content_type</th><td>None</td></tr></table></td></tr><tr><th>pae_interaction</th><td><table border=\"1\"><tr><th>is_pointer</th><td>False</td></tr><tr><th>modality</th><td>UNKNOWN</td></tr><tr><th>description</th><td>The confidence level in the interaction between different parts of a protein or between different proteins in a protein-protein complex.</td></tr><tr><th>user_attributes</th><td></td></tr><tr><th>dtype</th><td>float64</td></tr><tr><th>content_type</th><td>None</td></tr></table></td></tr><tr><th>similarity_check</th><td><table border=\"1\"><tr><th>is_pointer</th><td>False</td></tr><tr><th>modality</th><td>UNKNOWN</td></tr><tr><th>description</th><td>Similar the designed sequence to reference known sequences.</td></tr><tr><th>user_attributes</th><td></td></tr><tr><th>dtype</th><td>float64</td></tr><tr><th>content_type</th><td>None</td></tr></table></td></tr><tr><th>KD</th><td><table border=\"1\"><tr><th>is_pointer</th><td>False</td></tr><tr><th>modality</th><td>UNKNOWN</td></tr><tr><th>description</th><td>The equilibrium dissociation constant (KD) for the measure of binding affinity.</td></tr><tr><th>user_attributes</th><td><table border=\"1\"><tr><th>unit</th><td>M</td></tr><tr><th>objective</th><td>Lower value</td></tr></table></td></tr><tr><th>dtype</th><td>float64</td></tr><tr><th>content_type</th><td>None</td></tr></table></td></tr><tr><th>binding_class</th><td><table border=\"1\"><tr><th>is_pointer</th><td>False</td></tr><tr><th>modality</th><td>UNKNOWN</td></tr><tr><th>description</th><td>The binding affinity as boolean classes labels.</td></tr><tr><th>user_attributes</th><td><table border=\"1\"><tr><th>objective</th><td>True</td></tr></table></td></tr><tr><th>dtype</th><td>bool</td></tr><tr><th>content_type</th><td>None</td></tr></table></td></tr><tr><th>model_names</th><td><table border=\"1\"><tr><th>is_pointer</th><td>False</td></tr><tr><th>modality</th><td>UNKNOWN</td></tr><tr><th>description</th><td>The name of the model used for design.</td></tr><tr><th>user_attributes</th><td></td></tr><tr><th>dtype</th><td>object</td></tr><tr><th>content_type</th><td>None</td></tr></table></td></tr><tr><th>methods</th><td><table border=\"1\"><tr><th>is_pointer</th><td>False</td></tr><tr><th>modality</th><td>UNKNOWN</td></tr><tr><th>description</th><td>The method used for design.</td></tr><tr><th>user_attributes</th><td></td></tr><tr><th>dtype</th><td>object</td></tr><tr><th>content_type</th><td>None</td></tr></table></td></tr><tr><th>username</th><td><table border=\"1\"><tr><th>is_pointer</th><td>False</td></tr><tr><th>modality</th><td>UNKNOWN</td></tr><tr><th>description</th><td>None</td></tr><tr><th>user_attributes</th><td></td></tr><tr><th>dtype</th><td>object</td></tr><tr><th>content_type</th><td>None</td></tr></table></td></tr><tr><th>sequence_name</th><td><table border=\"1\"><tr><th>is_pointer</th><td>False</td></tr><tr><th>modality</th><td>UNKNOWN</td></tr><tr><th>description</th><td>None</td></tr><tr><th>user_attributes</th><td></td></tr><tr><th>dtype</th><td>object</td></tr><tr><th>content_type</th><td>None</td></tr></table></td></tr></table></td></tr><tr><th>source</th><td>https://design.adaptyvbio.com/</td></tr><tr><th>license</th><td>CC-BY-4.0</td></tr><tr><th>curation_reference</th><td>None</td></tr><tr><th>md5sum</th><td>45b302cea3a5f639fbaae00167a3b08f</td></tr><tr><th>slug</th><td>egfr-binders-v0</td></tr><tr><th>artifact_id</th><td>adaptyv-bio/egfr-binders-v0</td></tr><tr><th>urn</th><td>urn:polaris:dataset:adaptyv-bio:egfr-binders-v0</td></tr><tr><th>n_rows</th><td>202</td></tr><tr><th>n_columns</th><td>12</td></tr></table>"
      ],
      "text/plain": [
       "{\n",
       "  \"name\": \"EGFR_binders-v0\",\n",
       "  \"description\": \"This dataset includes binding protein designs targeting the Epidermal growth factor receptor(EGFR), a drug target associated with various diseases.\",\n",
       "  \"tags\": [\n",
       "    \"protein-design\"\n",
       "  ],\n",
       "  \"user_attributes\": {},\n",
       "  \"owner\": \"adaptyv-bio\",\n",
       "  \"polaris_version\": \"0.8.7.dev1+g23fd61e.d20240926\",\n",
       "  \"default_adapters\": {},\n",
       "  \"zarr_root_path\": null,\n",
       "  \"readme\": \"## Background\\n\\n### Target details\\nEpidermal Growth Factor Receptor (EGFR) is a transmembrane protein that plays a critical role in cell growth, differentiation, and survival. It is frequently overexpressed or mutated in various cancers, including non-small cell lung cancer, colorectal cancer, and head and neck cancer. This makes EGFR a crucial target for cancer therapies such as Cetuximab, an antibody with more than 1B USD in annual revenue. \\n\\n- Target Protein: EGFR\\n- Organism: HUMAN\\n- Uniprot Accession ID: [P00533](https://www.uniprot.org/uniprotkb/P00533/entry)\\n- Protein sequence: LEEKKVCQGTSNKLTQLGTFEDHFLSLQRMFNNCEVVLGNLEITYVQRNYDLSFLKTIQEVAGYVLIALNTVERIPLENLQIIRGNMYYENSYALAVLSNYDANKTGLKELPMRNLQEILHGAVRFSNNPALCNVESIQWRDIVSSDFLSNMSMDFQNHLGSCQKCDPSCPNGSCWGAGEENCQKLTKIICAQQCSGRCRGKSPSDCCHNQCAAGCTGPRESDCLVCRKFRDEATCKDTCPPLMLYNPTTYQMDVNPEGKYSFGATCVKKCPRNYVVTDHGSCVRACGADSYEMEEDGVRKCKKCEGPCRKVCNGIGIGEFKDSLSINATNIKHFKNCTSISGDLHILPVAFRGDSFTHTPPLDPQELDILKTVKEITGFLLIQAWPENRTDLHAFENLEIIRGRTKQHGQFSLAVVSLNITSLGLRSLKEISDGDVIISGNKNLCYANTINWKKLFGTSGQKTKIISNRGENSCKATGQVCHALCSPEGCWGPEPRDCVSCRNVSRGRECVDKCNLLEGEPREFVENSECIQCHPECLPQAMNITCTGRGPDNCIQCAHYIDGPHCVKTCPAGVMGENNTLVWKYADAGHVCHLCHPNCTYGCTGPGLEGCPTNGPKIPS\\n- Structure PDB: [6ARU](https://www.rcsb.org/structure/6aru)\\n\\n\\n![64ru](https://cdn.rcsb.org/images/structures/6aru_assembly-1.jpeg)\\n\\n### Binding protein designs\\nThis dataset contains 202 designed EGFR-binding protein sequences, along with experimental binding affinity results tested by the AdaptyvBio team.\\n\\n## Benchmark description\\n\\nThis retrospective benchmark evaluates protein design methods by challenging participants to design a binding protein for the extracellular domain of EGFR, a cancer-associated drug target. A set of 202 previously designed protein sequences, along with their experimental binding affinities (binary labels), is available for testing. \\n\\n`Balenced Accuracy` is used to evaluate the performance of design methods on both binders and non-binders. \\n\\n\\n## Reference: \\n- https://design.adaptyvbio.com/\\n- https://foundry.adaptyvbio.com/egfr_design_competition\",\n",
       "  \"annotations\": {\n",
       "    \"name\": {\n",
       "      \"is_pointer\": false,\n",
       "      \"modality\": \"UNKNOWN\",\n",
       "      \"description\": \"Sequence design name.\",\n",
       "      \"user_attributes\": {},\n",
       "      \"dtype\": \"object\",\n",
       "      \"content_type\": null\n",
       "    },\n",
       "    \"sequence\": {\n",
       "      \"is_pointer\": false,\n",
       "      \"modality\": \"UNKNOWN\",\n",
       "      \"description\": \"Protein sequence in fasta format.\",\n",
       "      \"user_attributes\": {},\n",
       "      \"dtype\": \"object\",\n",
       "      \"content_type\": null\n",
       "    },\n",
       "    \"dna\": {\n",
       "      \"is_pointer\": false,\n",
       "      \"modality\": \"UNKNOWN\",\n",
       "      \"description\": \"DNA sequence of the design.\",\n",
       "      \"user_attributes\": {},\n",
       "      \"dtype\": \"object\",\n",
       "      \"content_type\": null\n",
       "    },\n",
       "    \"plddt\": {\n",
       "      \"is_pointer\": false,\n",
       "      \"modality\": \"UNKNOWN\",\n",
       "      \"description\": \"pLDDT is a per-residue measure of local confidence.\",\n",
       "      \"user_attributes\": {},\n",
       "      \"dtype\": \"float64\",\n",
       "      \"content_type\": null\n",
       "    },\n",
       "    \"pae_interaction\": {\n",
       "      \"is_pointer\": false,\n",
       "      \"modality\": \"UNKNOWN\",\n",
       "      \"description\": \"The confidence level in the interaction between different parts of a protein or between different proteins in a protein-protein complex.\",\n",
       "      \"user_attributes\": {},\n",
       "      \"dtype\": \"float64\",\n",
       "      \"content_type\": null\n",
       "    },\n",
       "    \"similarity_check\": {\n",
       "      \"is_pointer\": false,\n",
       "      \"modality\": \"UNKNOWN\",\n",
       "      \"description\": \"Similar the designed sequence to reference known sequences.\",\n",
       "      \"user_attributes\": {},\n",
       "      \"dtype\": \"float64\",\n",
       "      \"content_type\": null\n",
       "    },\n",
       "    \"KD\": {\n",
       "      \"is_pointer\": false,\n",
       "      \"modality\": \"UNKNOWN\",\n",
       "      \"description\": \"The equilibrium dissociation constant (KD) for the measure of binding affinity.\",\n",
       "      \"user_attributes\": {\n",
       "        \"unit\": \"M\",\n",
       "        \"objective\": \"Lower value\"\n",
       "      },\n",
       "      \"dtype\": \"float64\",\n",
       "      \"content_type\": null\n",
       "    },\n",
       "    \"binding_class\": {\n",
       "      \"is_pointer\": false,\n",
       "      \"modality\": \"UNKNOWN\",\n",
       "      \"description\": \"The binding affinity as boolean classes labels.\",\n",
       "      \"user_attributes\": {\n",
       "        \"objective\": \"True\"\n",
       "      },\n",
       "      \"dtype\": \"bool\",\n",
       "      \"content_type\": null\n",
       "    },\n",
       "    \"model_names\": {\n",
       "      \"is_pointer\": false,\n",
       "      \"modality\": \"UNKNOWN\",\n",
       "      \"description\": \"The name of the model used for design.\",\n",
       "      \"user_attributes\": {},\n",
       "      \"dtype\": \"object\",\n",
       "      \"content_type\": null\n",
       "    },\n",
       "    \"methods\": {\n",
       "      \"is_pointer\": false,\n",
       "      \"modality\": \"UNKNOWN\",\n",
       "      \"description\": \"The method used for design.\",\n",
       "      \"user_attributes\": {},\n",
       "      \"dtype\": \"object\",\n",
       "      \"content_type\": null\n",
       "    },\n",
       "    \"username\": {\n",
       "      \"is_pointer\": false,\n",
       "      \"modality\": \"UNKNOWN\",\n",
       "      \"description\": null,\n",
       "      \"user_attributes\": {},\n",
       "      \"dtype\": \"object\",\n",
       "      \"content_type\": null\n",
       "    },\n",
       "    \"sequence_name\": {\n",
       "      \"is_pointer\": false,\n",
       "      \"modality\": \"UNKNOWN\",\n",
       "      \"description\": null,\n",
       "      \"user_attributes\": {},\n",
       "      \"dtype\": \"object\",\n",
       "      \"content_type\": null\n",
       "    }\n",
       "  },\n",
       "  \"source\": \"https://design.adaptyvbio.com/\",\n",
       "  \"license\": \"CC-BY-4.0\",\n",
       "  \"curation_reference\": null,\n",
       "  \"md5sum\": \"45b302cea3a5f639fbaae00167a3b08f\",\n",
       "  \"slug\": \"egfr-binders-v0\",\n",
       "  \"artifact_id\": \"adaptyv-bio/egfr-binders-v0\",\n",
       "  \"urn\": \"urn:polaris:dataset:adaptyv-bio:egfr-binders-v0\",\n",
       "  \"n_rows\": 202,\n",
       "  \"n_columns\": 12\n",
       "}"
      ]
     },
     "execution_count": 12,
     "metadata": {},
     "output_type": "execute_result"
    }
   ],
   "source": [
    "dataset"
   ]
  },
  {
   "cell_type": "markdown",
   "metadata": {},
   "source": [
    "### Upload the dataset to the hub"
   ]
  },
  {
   "cell_type": "code",
   "execution_count": 15,
   "metadata": {},
   "outputs": [
    {
     "name": "stdout",
     "output_type": "stream",
     "text": [
      "⠧ Uploading artifact... "
     ]
    },
    {
     "name": "stderr",
     "output_type": "stream",
     "text": [
      "\u001b[32m2024-09-26 12:16:54.027\u001b[0m | \u001b[1mINFO    \u001b[0m | \u001b[36mpolaris.hub.client\u001b[0m:\u001b[36m_upload_dataset\u001b[0m:\u001b[36m593\u001b[0m - \u001b[1mCopying Parquet file to the Hub. This may take a while.\u001b[0m\n"
     ]
    },
    {
     "name": "stdout",
     "output_type": "stream",
     "text": [
      "✅ SUCCESS: \u001b[1mYour standard dataset has been successfully uploaded to the Hub. View it here: https://polarishub.io/datasets/adaptyv-bio/EGFR_binders-v0\u001b[0m\n",
      " \n"
     ]
    },
    {
     "name": "stderr",
     "output_type": "stream",
     "text": [
      "/mnt/ps/home/CORP/lu.zhu/miniconda3/envs/po_datasets/lib/python3.12/site-packages/yaspin/core.py:228: UserWarning: color, on_color and attrs are not supported when running in jupyter\n",
      "  self._color = self._set_color(value) if value else value\n"
     ]
    }
   ],
   "source": [
    "dataset.upload_to_hub()"
   ]
  },
  {
   "cell_type": "code",
   "execution_count": 15,
   "metadata": {},
   "outputs": [
    {
     "name": "stdout",
     "output_type": "stream",
     "text": [
      "⠦ Fetching artifact... "
     ]
    },
    {
     "name": "stderr",
     "output_type": "stream",
     "text": [
      "\u001b[32m2024-09-24 11:22:09.695\u001b[0m | \u001b[1mINFO    \u001b[0m | \u001b[36mpolaris.mixins._checksum\u001b[0m:\u001b[36mverify_checksum\u001b[0m:\u001b[36m65\u001b[0m - \u001b[1mTo verify the checksum, we need to recompute it. This can be slow for large datasets.\u001b[0m\n",
      "/Users/lu.zhu/miniconda3/envs/po_dataset/lib/python3.12/site-packages/yaspin/core.py:228: UserWarning: color, on_color and attrs are not supported when running in jupyter\n",
      "  self._color = self._set_color(value) if value else value\n",
      "\u001b[32m2024-09-24 11:22:09.701\u001b[0m | \u001b[1mINFO    \u001b[0m | \u001b[36mpolaris.benchmark._base\u001b[0m:\u001b[36m_validate_split\u001b[0m:\u001b[36m189\u001b[0m - \u001b[1mThis benchmark only specifies a test set. It will return an empty train set in `get_train_test_split()`\u001b[0m\n",
      "\u001b[32m2024-09-24 11:22:09.702\u001b[0m | \u001b[33m\u001b[1mWARNING \u001b[0m | \u001b[36mpolaris.mixins._checksum\u001b[0m:\u001b[36mverify_checksum\u001b[0m:\u001b[36m58\u001b[0m - \u001b[33m\u001b[1mNo checksum to verify against. Specify either the md5sum parameter or store the checksum in the dataset.md5sum attribute.\u001b[0m\n"
     ]
    },
    {
     "name": "stdout",
     "output_type": "stream",
     "text": [
      "✅ SUCCESS: \u001b[1mFetched artifact.\u001b[0m\n",
      " \n",
      "✅ SUCCESS: \u001b[1mFetched artifact.\u001b[0m\n",
      " \n"
     ]
    }
   ],
   "source": [
    "# test to load the benchmark\n",
    "\n",
    "import polaris as po\n",
    "\n",
    "# Load the benchmark from the Hub\n",
    "benchmark = po.load_benchmark(\"adaptyv-bio/EGFR_binders_binary_cls-v0\")\n",
    "\n",
    "# Get the train and test data-loaders\n",
    "train, test = benchmark.get_train_test_split()"
   ]
  },
  {
   "cell_type": "code",
   "execution_count": 16,
   "metadata": {},
   "outputs": [],
   "source": [
    "from sklearn.metrics import (\n",
    "    accuracy_score,\n",
    "    average_precision_score,\n",
    "    explained_variance_score,\n",
    "    f1_score,\n",
    "    matthews_corrcoef,\n",
    "    mean_absolute_error,\n",
    "    mean_squared_error,\n",
    "    r2_score,\n",
    "    roc_auc_score,\n",
    "    balanced_accuracy_score,\n",
    ")"
   ]
  },
  {
   "cell_type": "code",
   "execution_count": 17,
   "metadata": {},
   "outputs": [
    {
     "data": {
      "text/plain": [
       "array([ True, False])"
      ]
     },
     "execution_count": 17,
     "metadata": {},
     "output_type": "execute_result"
    }
   ],
   "source": [
    "benchmark.dataset.table[\"binding_class\"].unique()"
   ]
  },
  {
   "cell_type": "code",
   "execution_count": 18,
   "metadata": {},
   "outputs": [
    {
     "ename": "NameError",
     "evalue": "name 'predictions' is not defined",
     "output_type": "error",
     "traceback": [
      "\u001b[0;31m---------------------------------------------------------------------------\u001b[0m",
      "\u001b[0;31mNameError\u001b[0m                                 Traceback (most recent call last)",
      "Cell \u001b[0;32mIn[18], line 1\u001b[0m\n\u001b[0;32m----> 1\u001b[0m balanced_accuracy_score(\u001b[43mpredictions\u001b[49m, predictions)\n",
      "\u001b[0;31mNameError\u001b[0m: name 'predictions' is not defined"
     ]
    }
   ],
   "source": [
    "balanced_accuracy_score(predictions, predictions)"
   ]
  },
  {
   "cell_type": "code",
   "execution_count": 19,
   "metadata": {},
   "outputs": [],
   "source": [
    "import numpy as np\n",
    "\n",
    "# Work your magic to accurately predict the test set\n",
    "predictions = np.array([True for x in test])\n",
    "\n",
    "# Evaluate your predictions\n",
    "results = benchmark.evaluate(predictions)\n",
    "\n",
    "# Submit your results\n",
    "# results.upload_to_hub(owner=\"lu-valencelabs\")"
   ]
  },
  {
   "cell_type": "code",
   "execution_count": 20,
   "metadata": {},
   "outputs": [
    {
     "data": {
      "text/html": [
       "<table border=\"1\"><tr><th>name</th><td>None</td></tr><tr><th>description</th><td></td></tr><tr><th>tags</th><td></td></tr><tr><th>user_attributes</th><td></td></tr><tr><th>owner</th><td>None</td></tr><tr><th>polaris_version</th><td>0.8.5.dev6+gb44821c</td></tr><tr><th>github_url</th><td>None</td></tr><tr><th>paper_url</th><td>None</td></tr><tr><th>contributors</th><td>None</td></tr><tr><th>benchmark_name</th><td>EGFR_binders_binary_cls-v1</td></tr><tr><th>benchmark_owner</th><td><table border=\"1\"><tr><th>slug</th><td>adaptyv-bio</td></tr><tr><th>external_id</th><td>org_2lqe2oSyR0fGZEEVd1NUlwqnfjx</td></tr><tr><th>type</th><td>organization</td></tr></table></td></tr><tr><th>artifact_id</th><td>None</td></tr><tr><th>benchmark_artifact_id</th><td>adaptyv-bio/egfr-binders-binary-cls-v1</td></tr><tr><th>results</th><td><table border=\"1\"><thead><tr><th>Test set</th><th>Target label</th><th>Metric</th><th>Score</th></tr></thead><tbody><tr><td>test</td><td>binding_class</td><td>accuracy</td><td>0.0396039604</td></tr><tr><td>test</td><td>binding_class</td><td>balanced_accuracy</td><td>0.5</td></tr><tr><td>test</td><td>binding_class</td><td>f1</td><td>0.0761904762</td></tr><tr><td>test</td><td>binding_class</td><td>mcc</td><td>0.0</td></tr><tr><td>test</td><td>binding_class</td><td>cohen_kappa</td><td>0.0</td></tr></tbody></table></td></tr></table>"
      ],
      "text/plain": [
       "{\n",
       "  \"name\": null,\n",
       "  \"description\": \"\",\n",
       "  \"tags\": [],\n",
       "  \"user_attributes\": {},\n",
       "  \"owner\": null,\n",
       "  \"polaris_version\": \"0.8.5.dev6+gb44821c\",\n",
       "  \"github_url\": null,\n",
       "  \"paper_url\": null,\n",
       "  \"contributors\": null,\n",
       "  \"benchmark_name\": \"EGFR_binders_binary_cls-v1\",\n",
       "  \"benchmark_owner\": {\n",
       "    \"slug\": \"adaptyv-bio\",\n",
       "    \"external_id\": \"org_2lqe2oSyR0fGZEEVd1NUlwqnfjx\",\n",
       "    \"type\": \"organization\"\n",
       "  },\n",
       "  \"artifact_id\": null,\n",
       "  \"benchmark_artifact_id\": \"adaptyv-bio/egfr-binders-binary-cls-v1\",\n",
       "  \"results\": [\n",
       "    {\n",
       "      \"Test set\": \"test\",\n",
       "      \"Target label\": \"binding_class\",\n",
       "      \"Metric\": \"accuracy\",\n",
       "      \"Score\": 0.0396039604\n",
       "    },\n",
       "    {\n",
       "      \"Test set\": \"test\",\n",
       "      \"Target label\": \"binding_class\",\n",
       "      \"Metric\": \"balanced_accuracy\",\n",
       "      \"Score\": 0.5\n",
       "    },\n",
       "    {\n",
       "      \"Test set\": \"test\",\n",
       "      \"Target label\": \"binding_class\",\n",
       "      \"Metric\": \"f1\",\n",
       "      \"Score\": 0.0761904762\n",
       "    },\n",
       "    {\n",
       "      \"Test set\": \"test\",\n",
       "      \"Target label\": \"binding_class\",\n",
       "      \"Metric\": \"mcc\",\n",
       "      \"Score\": 0.0\n",
       "    },\n",
       "    {\n",
       "      \"Test set\": \"test\",\n",
       "      \"Target label\": \"binding_class\",\n",
       "      \"Metric\": \"cohen_kappa\",\n",
       "      \"Score\": 0.0\n",
       "    }\n",
       "  ]\n",
       "}"
      ]
     },
     "execution_count": 20,
     "metadata": {},
     "output_type": "execute_result"
    }
   ],
   "source": [
    "results"
   ]
  },
  {
   "cell_type": "markdown",
   "metadata": {},
   "source": []
  }
 ],
 "metadata": {
  "kernelspec": {
   "display_name": "po_datasets",
   "language": "python",
   "name": "python3"
  },
  "language_info": {
   "codemirror_mode": {
    "name": "ipython",
    "version": 3
   },
   "file_extension": ".py",
   "mimetype": "text/x-python",
   "name": "python",
   "nbconvert_exporter": "python",
   "pygments_lexer": "ipython3",
   "version": "3.12.4"
  }
 },
 "nbformat": 4,
 "nbformat_minor": 2
}
