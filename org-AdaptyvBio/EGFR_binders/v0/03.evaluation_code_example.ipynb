{
 "cells": [
  {
   "cell_type": "code",
   "execution_count": 2,
   "metadata": {},
   "outputs": [
    {
     "name": "stdout",
     "output_type": "stream",
     "text": [
      "⠹ Fetching artifact... "
     ]
    },
    {
     "name": "stderr",
     "output_type": "stream",
     "text": [
      "\u001b[32m2024-09-26 12:38:34.756\u001b[0m | \u001b[1mINFO    \u001b[0m | \u001b[36mpolaris.mixins._checksum\u001b[0m:\u001b[36mverify_checksum\u001b[0m:\u001b[36m65\u001b[0m - \u001b[1mTo verify the checksum, we need to recompute it. This can be slow for large datasets.\u001b[0m\n",
      "/mnt/ps/home/CORP/lu.zhu/miniconda3/envs/po_datasets/lib/python3.12/site-packages/yaspin/core.py:228: UserWarning: color, on_color and attrs are not supported when running in jupyter\n",
      "  self._color = self._set_color(value) if value else value\n",
      "\u001b[32m2024-09-26 12:38:34.783\u001b[0m | \u001b[1mINFO    \u001b[0m | \u001b[36mpolaris.benchmark._base\u001b[0m:\u001b[36m_validate_split\u001b[0m:\u001b[36m191\u001b[0m - \u001b[1mThis benchmark only specifies a test set. It will return an empty train set in `get_train_test_split()`\u001b[0m\n",
      "\u001b[32m2024-09-26 12:38:34.785\u001b[0m | \u001b[33m\u001b[1mWARNING \u001b[0m | \u001b[36mpolaris.mixins._checksum\u001b[0m:\u001b[36mverify_checksum\u001b[0m:\u001b[36m58\u001b[0m - \u001b[33m\u001b[1mNo checksum to verify against. Specify either the md5sum parameter or store the checksum in the dataset.md5sum attribute.\u001b[0m\n"
     ]
    },
    {
     "name": "stdout",
     "output_type": "stream",
     "text": [
      "✅ SUCCESS: \u001b[1mFetched artifact.\u001b[0m\n",
      " \n",
      "✅ SUCCESS: \u001b[1mFetched artifact.\u001b[0m\n",
      " \n"
     ]
    }
   ],
   "source": [
    "# load benchmark\n",
    "import polaris as po\n",
    "import numpy as np\n",
    "\n",
    "# Load the benchmark from the Hub\n",
    "benchmark = po.load_benchmark(\"adaptyv-bio/EGFR_binders_binary_cls-v0\")"
   ]
  },
  {
   "cell_type": "code",
   "execution_count": 4,
   "metadata": {},
   "outputs": [],
   "source": [
    "# Get the train and test data-loaders\n",
    "train, test = benchmark.get_train_test_split()"
   ]
  },
  {
   "cell_type": "code",
   "execution_count": 5,
   "metadata": {},
   "outputs": [],
   "source": [
    "# Work your magic to accurately predict the test set\n",
    "predictions = np.array([True for x in test])\n",
    "\n",
    "# Evaluate your predictions\n",
    "results = benchmark.evaluate(predictions)"
   ]
  },
  {
   "cell_type": "code",
   "execution_count": 6,
   "metadata": {},
   "outputs": [
    {
     "data": {
      "text/html": [
       "<table border=\"1\"><tr><th>name</th><td>None</td></tr><tr><th>description</th><td></td></tr><tr><th>tags</th><td></td></tr><tr><th>user_attributes</th><td></td></tr><tr><th>owner</th><td>None</td></tr><tr><th>polaris_version</th><td>0.8.7.dev1+g23fd61e.d20240926</td></tr><tr><th>github_url</th><td>None</td></tr><tr><th>paper_url</th><td>None</td></tr><tr><th>contributors</th><td>None</td></tr><tr><th>benchmark_name</th><td>EGFR_binders_binary_cls-v0</td></tr><tr><th>benchmark_owner</th><td><table border=\"1\"><tr><th>slug</th><td>adaptyv-bio</td></tr><tr><th>external_id</th><td>org_2lqe2oSyR0fGZEEVd1NUlwqnfjx</td></tr><tr><th>type</th><td>organization</td></tr></table></td></tr><tr><th>slug</th><td>None</td></tr><tr><th>artifact_id</th><td>None</td></tr><tr><th>urn</th><td>None</td></tr><tr><th>benchmark_artifact_id</th><td>adaptyv-bio/egfr-binders-binary-cls-v0</td></tr><tr><th>results</th><td><table border=\"1\"><thead><tr><th>Test set</th><th>Target label</th><th>Metric</th><th>Score</th></tr></thead><tbody><tr><td>test</td><td>binding_class</td><td>accuracy</td><td>0.0396039604</td></tr><tr><td>test</td><td>binding_class</td><td>balanced_accuracy</td><td>0.5</td></tr><tr><td>test</td><td>binding_class</td><td>f1</td><td>0.0761904762</td></tr><tr><td>test</td><td>binding_class</td><td>mcc</td><td>0.0</td></tr><tr><td>test</td><td>binding_class</td><td>cohen_kappa</td><td>0.0</td></tr></tbody></table></td></tr></table>"
      ],
      "text/plain": [
       "{\n",
       "  \"name\": null,\n",
       "  \"description\": \"\",\n",
       "  \"tags\": [],\n",
       "  \"user_attributes\": {},\n",
       "  \"owner\": null,\n",
       "  \"polaris_version\": \"0.8.7.dev1+g23fd61e.d20240926\",\n",
       "  \"github_url\": null,\n",
       "  \"paper_url\": null,\n",
       "  \"contributors\": null,\n",
       "  \"benchmark_name\": \"EGFR_binders_binary_cls-v0\",\n",
       "  \"benchmark_owner\": {\n",
       "    \"slug\": \"adaptyv-bio\",\n",
       "    \"external_id\": \"org_2lqe2oSyR0fGZEEVd1NUlwqnfjx\",\n",
       "    \"type\": \"organization\"\n",
       "  },\n",
       "  \"slug\": null,\n",
       "  \"artifact_id\": null,\n",
       "  \"urn\": null,\n",
       "  \"benchmark_artifact_id\": \"adaptyv-bio/egfr-binders-binary-cls-v0\",\n",
       "  \"results\": [\n",
       "    {\n",
       "      \"Test set\": \"test\",\n",
       "      \"Target label\": \"binding_class\",\n",
       "      \"Metric\": \"accuracy\",\n",
       "      \"Score\": 0.0396039604\n",
       "    },\n",
       "    {\n",
       "      \"Test set\": \"test\",\n",
       "      \"Target label\": \"binding_class\",\n",
       "      \"Metric\": \"balanced_accuracy\",\n",
       "      \"Score\": 0.5\n",
       "    },\n",
       "    {\n",
       "      \"Test set\": \"test\",\n",
       "      \"Target label\": \"binding_class\",\n",
       "      \"Metric\": \"f1\",\n",
       "      \"Score\": 0.0761904762\n",
       "    },\n",
       "    {\n",
       "      \"Test set\": \"test\",\n",
       "      \"Target label\": \"binding_class\",\n",
       "      \"Metric\": \"mcc\",\n",
       "      \"Score\": 0.0\n",
       "    },\n",
       "    {\n",
       "      \"Test set\": \"test\",\n",
       "      \"Target label\": \"binding_class\",\n",
       "      \"Metric\": \"cohen_kappa\",\n",
       "      \"Score\": 0.0\n",
       "    }\n",
       "  ]\n",
       "}"
      ]
     },
     "execution_count": 6,
     "metadata": {},
     "output_type": "execute_result"
    }
   ],
   "source": [
    "results"
   ]
  },
  {
   "cell_type": "code",
   "execution_count": null,
   "metadata": {},
   "outputs": [],
   "source": []
  }
 ],
 "metadata": {
  "kernelspec": {
   "display_name": "po_datasets",
   "language": "python",
   "name": "python3"
  },
  "language_info": {
   "codemirror_mode": {
    "name": "ipython",
    "version": 3
   },
   "file_extension": ".py",
   "mimetype": "text/x-python",
   "name": "python",
   "nbconvert_exporter": "python",
   "pygments_lexer": "ipython3",
   "version": "3.12.4"
  }
 },
 "nbformat": 4,
 "nbformat_minor": 2
}
