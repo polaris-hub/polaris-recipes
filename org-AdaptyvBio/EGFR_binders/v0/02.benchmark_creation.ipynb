{
 "cells": [
  {
   "cell_type": "markdown",
   "id": "545099e3-0eb9-4a80-a0c6-0448c0674502",
   "metadata": {},
   "source": [
    "# Benchmark creation with [Polaris](https://github.com/polaris-hub/polaris)"
   ]
  },
  {
   "cell_type": "markdown",
   "id": "efda790e",
   "metadata": {},
   "source": [
    "## Benchmark description\n",
    "\n",
    "This retrospective benchmark evaluates protein design methods by challenging participants to design a binding protein for the extracellular domain of EGFR, a cancer-associated drug target. A set of 202 previously designed protein sequences, along with their experimental binding affinities (binary labels), is available for testing. `Balenced Accuracy` is used to evaluate the performance of design methods on both binders and non-binders. \n",
    "\n",
    "\n",
    "## Reference: \n",
    "- https://design.adaptyvbio.com/\n",
    "- https://foundry.adaptyvbio.com/egfr_design_competition"
   ]
  },
  {
   "cell_type": "code",
   "execution_count": 1,
   "id": "30138c1e",
   "metadata": {
    "scrolled": true
   },
   "outputs": [
    {
     "name": "stderr",
     "output_type": "stream",
     "text": [
      "/mnt/ps/home/CORP/lu.zhu/miniconda3/envs/po_datasets/lib/python3.12/site-packages/tqdm/auto.py:21: TqdmWarning: IProgress not found. Please update jupyter and ipywidgets. See https://ipywidgets.readthedocs.io/en/stable/user_install.html\n",
      "  from .autonotebook import tqdm as notebook_tqdm\n"
     ]
    }
   ],
   "source": [
    "%load_ext autoreload\n",
    "%autoreload 2\n",
    "\n",
    "import os\n",
    "import sys\n",
    "import pathlib\n",
    "\n",
    "import datamol as dm\n",
    "import numpy as np\n",
    "\n",
    "# polaris benchmark\n",
    "from polaris.benchmark import SingleTaskBenchmarkSpecification\n",
    "\n",
    "# polaris hub\n",
    "from polaris.cli import PolarisHubClient\n",
    "from polaris.utils.types import HubOwner\n",
    "\n",
    "# utils\n",
    "root = pathlib.Path(\"__file__\").absolute().parents[3]\n",
    "os.chdir(root)\n",
    "sys.path.insert(0, str(root))"
   ]
  },
  {
   "cell_type": "code",
   "execution_count": 5,
   "id": "d9c5ea4e-740d-4e4a-a62d-dcb508b441a9",
   "metadata": {},
   "outputs": [],
   "source": [
    "# Get the owner and organization\n",
    "# Get the owner and organization\n",
    "org = \"AdaptyvBio\"\n",
    "data_name = \"EGFR_binders\"\n",
    "dataset_version = \"v0\"\n",
    "dirname = dm.fs.join(root, f\"org-{org}\", data_name)\n",
    "gcp_root = f\"gs://polaris-public/polaris-recipes/org-{org}/{data_name}\"\n",
    "\n",
    "owner = HubOwner(slug=\"adaptyv-bio\", type=\"organization\")\n",
    "owner\n",
    "\n",
    "BENCHMARK_DIR = f\"{gcp_root}/benchmarks\"\n",
    "DATASET_JSON = f\"gs://polaris-public/polaris-recipes/org-{org}/{data_name}/datasets/{data_name}-{dataset_version}/dataset.json\"\n",
    "\n",
    "FIGURE_DIR = f\"{gcp_root}/figures\""
   ]
  },
  {
   "cell_type": "markdown",
   "id": "7f22cb4b-6303-425c-9a15-d437705baff9",
   "metadata": {},
   "source": [
    "## Load existing Dataset"
   ]
  },
  {
   "cell_type": "code",
   "execution_count": 6,
   "id": "8b295721-e50f-4dae-881f-a7660f1284a9",
   "metadata": {},
   "outputs": [
    {
     "name": "stdout",
     "output_type": "stream",
     "text": [
      "⠋ Fetching artifact..."
     ]
    },
    {
     "name": "stdout",
     "output_type": "stream",
     "text": [
      "⠹ Fetching artifact... "
     ]
    },
    {
     "name": "stderr",
     "output_type": "stream",
     "text": [
      "\u001b[32m2024-09-26 12:25:21.745\u001b[0m | \u001b[1mINFO    \u001b[0m | \u001b[36mpolaris.mixins._checksum\u001b[0m:\u001b[36mverify_checksum\u001b[0m:\u001b[36m65\u001b[0m - \u001b[1mTo verify the checksum, we need to recompute it. This can be slow for large datasets.\u001b[0m\n"
     ]
    },
    {
     "name": "stdout",
     "output_type": "stream",
     "text": [
      "✅ SUCCESS: \u001b[1mFetched artifact.\u001b[0m\n",
      " \n"
     ]
    },
    {
     "name": "stderr",
     "output_type": "stream",
     "text": [
      "/mnt/ps/home/CORP/lu.zhu/miniconda3/envs/po_datasets/lib/python3.12/site-packages/yaspin/core.py:228: UserWarning: color, on_color and attrs are not supported when running in jupyter\n",
      "  self._color = self._set_color(value) if value else value\n"
     ]
    }
   ],
   "source": [
    "# Load the saved Dataset\n",
    "import polaris as po\n",
    "\n",
    "# Load the dataset from the Hub\n",
    "dataset = po.load_dataset(\"adaptyv-bio/egfr-binders-v0\")"
   ]
  },
  {
   "cell_type": "markdown",
   "id": "42c498f1",
   "metadata": {},
   "source": [
    "## Benchmark creation with `Polaris`\n",
    "This is a retrospective benchmark, all the data points are in the test split for evaluation. "
   ]
  },
  {
   "cell_type": "code",
   "execution_count": 7,
   "id": "4dfa3f26",
   "metadata": {},
   "outputs": [],
   "source": [
    "split = ([], list(range(dataset.table.shape[0])))"
   ]
  },
  {
   "cell_type": "markdown",
   "id": "03aa7204-c71f-4b46-9bf0-e4a57e82ff35",
   "metadata": {},
   "source": [
    "## Create a benchmark"
   ]
  },
  {
   "cell_type": "code",
   "execution_count": 9,
   "id": "8d0e7595-f9bc-428f-85da-e56e8e8f52dd",
   "metadata": {},
   "outputs": [],
   "source": [
    "benchmark_version = \"v0\"\n",
    "target_cols = [\"binding_class\"]\n",
    "input_col = [\"sequence\"]\n",
    "benchmark_name = \"EGFR_binders_binary_cls\""
   ]
  },
  {
   "cell_type": "code",
   "execution_count": 10,
   "id": "7630bd80-fd18-402b-9de1-57b080b61e3b",
   "metadata": {},
   "outputs": [
    {
     "name": "stderr",
     "output_type": "stream",
     "text": [
      "\u001b[32m2024-09-26 12:25:41.640\u001b[0m | \u001b[1mINFO    \u001b[0m | \u001b[36mpolaris.benchmark._base\u001b[0m:\u001b[36m_validate_split\u001b[0m:\u001b[36m191\u001b[0m - \u001b[1mThis benchmark only specifies a test set. It will return an empty train set in `get_train_test_split()`\u001b[0m\n"
     ]
    }
   ],
   "source": [
    "benchmark_name = f\"{benchmark_name}-{benchmark_version}\"\n",
    "benchmark = SingleTaskBenchmarkSpecification(\n",
    "    name=benchmark_name,\n",
    "    dataset=dataset,\n",
    "    target_cols=target_cols,\n",
    "    target_types={\"binding_class\": \"classification\"},\n",
    "    input_cols=input_col,\n",
    "    split=split,\n",
    "    main_metric=\"balanced_accuracy\",\n",
    "    metrics=[\n",
    "        \"accuracy\",\n",
    "        \"balanced_accuracy\",\n",
    "        \"f1\",\n",
    "        \"mcc\",\n",
    "        \"cohen_kappa\",\n",
    "    ],\n",
    "    tags=[\"protein-design\", \"singletask\"],\n",
    "    owner=owner,\n",
    "    description=f\"Single task benchmark for protein binder design targeting the EGFR.\",\n",
    ")"
   ]
  },
  {
   "cell_type": "code",
   "execution_count": 11,
   "id": "20500a96",
   "metadata": {},
   "outputs": [
    {
     "data": {
      "text/html": [
       "<table border=\"1\"><tr><th>name</th><td>EGFR_binders_binary_cls-v0</td></tr><tr><th>description</th><td>Single task benchmark for protein binder design targeting the EGFR.</td></tr><tr><th>tags</th><td><ul><li>protein-design</li><li>singletask</li></ul></td></tr><tr><th>user_attributes</th><td></td></tr><tr><th>owner</th><td>adaptyv-bio</td></tr><tr><th>polaris_version</th><td>0.8.7.dev1+g23fd61e.d20240926</td></tr><tr><th>target_cols</th><td><ul><li>binding_class</li></ul></td></tr><tr><th>input_cols</th><td><ul><li>sequence</li></ul></td></tr><tr><th>metrics</th><td><ul><li>accuracy</li><li>balanced_accuracy</li><li>f1</li><li>mcc</li><li>cohen_kappa</li></ul></td></tr><tr><th>main_metric</th><td>balanced_accuracy</td></tr><tr><th>readme</th><td></td></tr><tr><th>target_types</th><td><table border=\"1\"><tr><th>binding_class</th><td>classification</td></tr></table></td></tr><tr><th>md5sum</th><td>a522911299cdc80df3c08d4ada30eefe</td></tr><tr><th>slug</th><td>egfr-binders-binary-cls-v0</td></tr><tr><th>artifact_id</th><td>adaptyv-bio/egfr-binders-binary-cls-v0</td></tr><tr><th>urn</th><td>urn:polaris:benchmark:adaptyv-bio:egfr-binders-binary-cls-v0</td></tr><tr><th>n_train_datapoints</th><td>0</td></tr><tr><th>n_test_sets</th><td>1</td></tr><tr><th>n_test_datapoints</th><td><table border=\"1\"><tr><th>test</th><td>202</td></tr></table></td></tr><tr><th>n_classes</th><td><table border=\"1\"><tr><th>binding_class</th><td>2</td></tr></table></td></tr><tr><th>task_type</th><td>single_task</td></tr><tr><th>dataset_name</th><td>egfr-binders-v0</td></tr></table>"
      ],
      "text/plain": [
       "{\n",
       "  \"name\": \"EGFR_binders_binary_cls-v0\",\n",
       "  \"description\": \"Single task benchmark for protein binder design targeting the EGFR.\",\n",
       "  \"tags\": [\n",
       "    \"protein-design\",\n",
       "    \"singletask\"\n",
       "  ],\n",
       "  \"user_attributes\": {},\n",
       "  \"owner\": \"adaptyv-bio\",\n",
       "  \"polaris_version\": \"0.8.7.dev1+g23fd61e.d20240926\",\n",
       "  \"target_cols\": [\n",
       "    \"binding_class\"\n",
       "  ],\n",
       "  \"input_cols\": [\n",
       "    \"sequence\"\n",
       "  ],\n",
       "  \"metrics\": [\n",
       "    \"accuracy\",\n",
       "    \"balanced_accuracy\",\n",
       "    \"f1\",\n",
       "    \"mcc\",\n",
       "    \"cohen_kappa\"\n",
       "  ],\n",
       "  \"main_metric\": \"balanced_accuracy\",\n",
       "  \"readme\": \"\",\n",
       "  \"target_types\": {\n",
       "    \"binding_class\": \"classification\"\n",
       "  },\n",
       "  \"md5sum\": \"a522911299cdc80df3c08d4ada30eefe\",\n",
       "  \"slug\": \"egfr-binders-binary-cls-v0\",\n",
       "  \"artifact_id\": \"adaptyv-bio/egfr-binders-binary-cls-v0\",\n",
       "  \"urn\": \"urn:polaris:benchmark:adaptyv-bio:egfr-binders-binary-cls-v0\",\n",
       "  \"n_train_datapoints\": 0,\n",
       "  \"n_test_sets\": 1,\n",
       "  \"n_test_datapoints\": {\n",
       "    \"test\": 202\n",
       "  },\n",
       "  \"n_classes\": {\n",
       "    \"binding_class\": 2\n",
       "  },\n",
       "  \"task_type\": \"single_task\",\n",
       "  \"dataset_name\": \"egfr-binders-v0\"\n",
       "}"
      ]
     },
     "execution_count": 11,
     "metadata": {},
     "output_type": "execute_result"
    }
   ],
   "source": [
    "benchmark"
   ]
  },
  {
   "cell_type": "code",
   "execution_count": 12,
   "id": "89f27fe0",
   "metadata": {},
   "outputs": [
    {
     "name": "stdout",
     "output_type": "stream",
     "text": [
      "⠋ Uploading artifact..."
     ]
    },
    {
     "name": "stdout",
     "output_type": "stream",
     "text": [
      "✅ SUCCESS: \u001b[1mYour standard benchmark has been successfully uploaded to the Hub. View it here: https://polarishub.io/v1/benchmark/adaptyv-bio/EGFR_binders_binary_cls-v0\u001b[0m\n",
      " \n"
     ]
    },
    {
     "data": {
      "text/plain": [
       "{'id': 'JC5PaVmpm7JhS70kT4hsL',\n",
       " 'createdAt': '2024-09-26T18:25:44.716Z',\n",
       " 'deletedAt': None,\n",
       " 'name': 'EGFR_binders_binary_cls-v0',\n",
       " 'slug': 'egfr-binders-binary-cls-v0',\n",
       " 'description': 'Single task benchmark for protein binder design targeting the EGFR.',\n",
       " 'tags': ['protein-design', 'singletask'],\n",
       " 'userAttributes': {},\n",
       " 'access': 'private',\n",
       " 'isCertified': False,\n",
       " 'polarisVersion': '0.8.7.dev1+g23fd61e.d20240926',\n",
       " 'readme': '',\n",
       " 'state': 'ready',\n",
       " 'ownerId': 'Ek6QRdreDbHuVNCUNjdbr',\n",
       " 'creatorId': 'NKnaHGybLqwSHcaMEHqfF',\n",
       " 'targetCols': ['binding_class'],\n",
       " 'inputCols': ['sequence'],\n",
       " 'md5Sum': 'a522911299cdc80df3c08d4ada30eefe',\n",
       " 'metrics': ['accuracy', 'balanced_accuracy', 'f1', 'mcc', 'cohen_kappa'],\n",
       " 'mainMetric': 'balanced_accuracy',\n",
       " 'split': [[],\n",
       "  [0,\n",
       "   1,\n",
       "   2,\n",
       "   3,\n",
       "   4,\n",
       "   5,\n",
       "   6,\n",
       "   7,\n",
       "   8,\n",
       "   9,\n",
       "   10,\n",
       "   11,\n",
       "   12,\n",
       "   13,\n",
       "   14,\n",
       "   15,\n",
       "   16,\n",
       "   17,\n",
       "   18,\n",
       "   19,\n",
       "   20,\n",
       "   21,\n",
       "   22,\n",
       "   23,\n",
       "   24,\n",
       "   25,\n",
       "   26,\n",
       "   27,\n",
       "   28,\n",
       "   29,\n",
       "   30,\n",
       "   31,\n",
       "   32,\n",
       "   33,\n",
       "   34,\n",
       "   35,\n",
       "   36,\n",
       "   37,\n",
       "   38,\n",
       "   39,\n",
       "   40,\n",
       "   41,\n",
       "   42,\n",
       "   43,\n",
       "   44,\n",
       "   45,\n",
       "   46,\n",
       "   47,\n",
       "   48,\n",
       "   49,\n",
       "   50,\n",
       "   51,\n",
       "   52,\n",
       "   53,\n",
       "   54,\n",
       "   55,\n",
       "   56,\n",
       "   57,\n",
       "   58,\n",
       "   59,\n",
       "   60,\n",
       "   61,\n",
       "   62,\n",
       "   63,\n",
       "   64,\n",
       "   65,\n",
       "   66,\n",
       "   67,\n",
       "   68,\n",
       "   69,\n",
       "   70,\n",
       "   71,\n",
       "   72,\n",
       "   73,\n",
       "   74,\n",
       "   75,\n",
       "   76,\n",
       "   77,\n",
       "   78,\n",
       "   79,\n",
       "   80,\n",
       "   81,\n",
       "   82,\n",
       "   83,\n",
       "   84,\n",
       "   85,\n",
       "   86,\n",
       "   87,\n",
       "   88,\n",
       "   89,\n",
       "   90,\n",
       "   91,\n",
       "   92,\n",
       "   93,\n",
       "   94,\n",
       "   95,\n",
       "   96,\n",
       "   97,\n",
       "   98,\n",
       "   99,\n",
       "   100,\n",
       "   101,\n",
       "   102,\n",
       "   103,\n",
       "   104,\n",
       "   105,\n",
       "   106,\n",
       "   107,\n",
       "   108,\n",
       "   109,\n",
       "   110,\n",
       "   111,\n",
       "   112,\n",
       "   113,\n",
       "   114,\n",
       "   115,\n",
       "   116,\n",
       "   117,\n",
       "   118,\n",
       "   119,\n",
       "   120,\n",
       "   121,\n",
       "   122,\n",
       "   123,\n",
       "   124,\n",
       "   125,\n",
       "   126,\n",
       "   127,\n",
       "   128,\n",
       "   129,\n",
       "   130,\n",
       "   131,\n",
       "   132,\n",
       "   133,\n",
       "   134,\n",
       "   135,\n",
       "   136,\n",
       "   137,\n",
       "   138,\n",
       "   139,\n",
       "   140,\n",
       "   141,\n",
       "   142,\n",
       "   143,\n",
       "   144,\n",
       "   145,\n",
       "   146,\n",
       "   147,\n",
       "   148,\n",
       "   149,\n",
       "   150,\n",
       "   151,\n",
       "   152,\n",
       "   153,\n",
       "   154,\n",
       "   155,\n",
       "   156,\n",
       "   157,\n",
       "   158,\n",
       "   159,\n",
       "   160,\n",
       "   161,\n",
       "   162,\n",
       "   163,\n",
       "   164,\n",
       "   165,\n",
       "   166,\n",
       "   167,\n",
       "   168,\n",
       "   169,\n",
       "   170,\n",
       "   171,\n",
       "   172,\n",
       "   173,\n",
       "   174,\n",
       "   175,\n",
       "   176,\n",
       "   177,\n",
       "   178,\n",
       "   179,\n",
       "   180,\n",
       "   181,\n",
       "   182,\n",
       "   183,\n",
       "   184,\n",
       "   185,\n",
       "   186,\n",
       "   187,\n",
       "   188,\n",
       "   189,\n",
       "   190,\n",
       "   191,\n",
       "   192,\n",
       "   193,\n",
       "   194,\n",
       "   195,\n",
       "   196,\n",
       "   197,\n",
       "   198,\n",
       "   199,\n",
       "   200,\n",
       "   201]],\n",
       " 'taskType': 'single_task',\n",
       " 'targetTypes': {'binding_class': 'classification'},\n",
       " 'nTestSets': 1,\n",
       " 'nTestDatapoints': {'test': 202},\n",
       " 'nTrainDatapoints': 0,\n",
       " 'nClasses': {'binding_class': 2},\n",
       " 'datasetId': 'bqmUv1G7MPnMZATCjl0ts',\n",
       " 'artifactId': 'adaptyv-bio/egfr-binders-binary-cls-v0',\n",
       " 'owner': {'slug': 'adaptyv-bio',\n",
       "  'externalId': 'org_2lqe2oSyR0fGZEEVd1NUlwqnfjx',\n",
       "  'type': 'organization'},\n",
       " 'creator': {'slug': 'lu-valencelabs',\n",
       "  'externalId': 'user_2gtYwEALU6nz7YYhVOTrlJmkWtN',\n",
       "  'type': 'user'},\n",
       " 'dataset': {'access': 'private',\n",
       "  'createdAt': '2024-09-26T18:16:53.689Z',\n",
       "  'description': 'This dataset includes binding protein designs targeting the Epidermal growth factor receptor(EGFR), a drug target associated with various diseases.',\n",
       "  'isCertified': False,\n",
       "  'name': 'egfr-binders-v0',\n",
       "  'artifactId': 'adaptyv-bio/egfr-binders-v0',\n",
       "  'owner': {'slug': 'adaptyv-bio'}},\n",
       " 'results': [],\n",
       " 'review': None}"
      ]
     },
     "execution_count": 12,
     "metadata": {},
     "output_type": "execute_result"
    }
   ],
   "source": [
    "# upload to polaris hub\n",
    "benchmark.upload_to_hub(access=\"private\", owner=owner)"
   ]
  },
  {
   "cell_type": "code",
   "execution_count": null,
   "id": "b699a11e",
   "metadata": {},
   "outputs": [],
   "source": []
  }
 ],
 "metadata": {
  "kernelspec": {
   "display_name": "po_datasets",
   "language": "python",
   "name": "python3"
  },
  "language_info": {
   "codemirror_mode": {
    "name": "ipython",
    "version": 3
   },
   "file_extension": ".py",
   "mimetype": "text/x-python",
   "name": "python",
   "nbconvert_exporter": "python",
   "pygments_lexer": "ipython3",
   "version": "3.12.4"
  }
 },
 "nbformat": 4,
 "nbformat_minor": 5
}
