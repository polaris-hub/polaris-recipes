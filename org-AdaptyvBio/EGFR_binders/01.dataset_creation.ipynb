{
 "cells": [
  {
   "cell_type": "markdown",
   "metadata": {},
   "source": [
    "# Dataset creation with [Polaris](https://github.com/polaris-hub/polaris)"
   ]
  },
  {
   "cell_type": "markdown",
   "metadata": {},
   "source": [
    "## Background\n",
    "\n",
    "### Target details\n",
    "Epidermal Growth Factor Receptor (EGFR) is a transmembrane protein that plays a critical role in cell growth, differentiation, and survival. It is frequently overexpressed or mutated in various cancers, including non-small cell lung cancer, colorectal cancer, and head and neck cancer. This makes EGFR a crucial target for cancer therapies such as Cetuximab, an antibody with more than 1B USD in annual revenue. \n",
    "\n",
    "- Target Protein: EGFR\n",
    "- Organism: HUMAN\n",
    "- Uniprot Accession ID: [P00533](https://www.uniprot.org/uniprotkb/P00533/entry)\n",
    "- Protein sequence: LEEKKVCQGTSNKLTQLGTFEDHFLSLQRMFNNCEVVLGNLEITYVQRNYDLSFLKTIQEVAGYVLIALNTVERIPLENLQIIRGNMYYENSYALAVLSNYDANKTGLKELPMRNLQEILHGAVRFSNNPALCNVESIQWRDIVSSDFLSNMSMDFQNHLGSCQKCDPSCPNGSCWGAGEENCQKLTKIICAQQCSGRCRGKSPSDCCHNQCAAGCTGPRESDCLVCRKFRDEATCKDTCPPLMLYNPTTYQMDVNPEGKYSFGATCVKKCPRNYVVTDHGSCVRACGADSYEMEEDGVRKCKKCEGPCRKVCNGIGIGEFKDSLSINATNIKHFKNCTSISGDLHILPVAFRGDSFTHTPPLDPQELDILKTVKEITGFLLIQAWPENRTDLHAFENLEIIRGRTKQHGQFSLAVVSLNITSLGLRSLKEISDGDVIISGNKNLCYANTINWKKLFGTSGQKTKIISNRGENSCKATGQVCHALCSPEGCWGPEPRDCVSCRNVSRGRECVDKCNLLEGEPREFVENSECIQCHPECLPQAMNITCTGRGPDNCIQCAHYIDGPHCVKTCPAGVMGENNTLVWKYADAGHVCHLCHPNCTYGCTGPGLEGCPTNGPKIPS\n",
    "- Structure PDB: [6ARU](https://www.rcsb.org/structure/6aru)\n",
    "\n",
    "\n",
    "![64ru](https://cdn.rcsb.org/images/structures/6aru_assembly-1.jpeg)\n",
    "\n",
    "### Binding protein designs\n",
    "This dataset contains 202 designed EGFR-binding protein sequences, along with experimental binding affinity results tested by the AdaptyvBio team.\n",
    "\n",
    "## Reference:\n",
    "- https://design.adaptyvbio.com/\n",
    "- https://foundry.adaptyvbio.com/egfr_design_competition"
   ]
  },
  {
   "cell_type": "code",
   "execution_count": 1,
   "metadata": {},
   "outputs": [],
   "source": [
    "%load_ext autoreload\n",
    "%autoreload 2\n",
    "\n",
    "import os\n",
    "import sys\n",
    "import pathlib\n",
    "\n",
    "import pandas as pd\n",
    "import datamol as dm\n",
    "\n",
    "# polaris dataset\n",
    "from polaris.dataset import Dataset, ColumnAnnotation\n",
    "from polaris.utils.types import HubOwner\n",
    "\n",
    "\n",
    "root = pathlib.Path(\"__file__\").absolute().parents[2]\n",
    "os.chdir(root)\n",
    "sys.path.insert(0, str(root))"
   ]
  },
  {
   "cell_type": "code",
   "execution_count": 3,
   "metadata": {},
   "outputs": [
    {
     "data": {
      "text/plain": [
       "HubOwner(slug='adaptyv-bio', external_id=None, type='organization')"
      ]
     },
     "execution_count": 3,
     "metadata": {},
     "output_type": "execute_result"
    }
   ],
   "source": [
    "# Get the owner and organization\n",
    "org = \"AdaptyvBio\"\n",
    "data_name = \"EGFR_binders\"\n",
    "dirname = dm.fs.join(root, f\"org-{org}\", data_name)\n",
    "gcp_root = f\"gs://polaris-public/polaris-recipes/org-{org}/{data_name}\"\n",
    "\n",
    "owner = HubOwner(slug=\"adaptyv-bio\", type=\"organization\")\n",
    "owner"
   ]
  },
  {
   "cell_type": "code",
   "execution_count": 4,
   "metadata": {},
   "outputs": [],
   "source": [
    "BENCHMARK_DIR = f\"gs://polaris-public/polaris-recipes/org-{org}/{data_name}/benchmarks\"\n",
    "DATASET_DIR = f\"gs://polaris-public/polaris-recipes/org-{org}/{data_name}/datasets\"\n",
    "FIGURE_DIR = f\"gs://polaris-public/polaris-recipes/org-{org}/{data_name}/figures\""
   ]
  },
  {
   "cell_type": "markdown",
   "metadata": {},
   "source": [
    "## Load existing data"
   ]
  },
  {
   "cell_type": "code",
   "execution_count": 5,
   "metadata": {},
   "outputs": [],
   "source": [
    "# Load the curated data\n",
    "PATH = \"gs://polaris-public/polaris-recipes/org-AdaptyvBio/EGFR_binders/raw/Competition_Binders_to_EGFR_mean.csv\"\n",
    "table = pd.read_csv(PATH)"
   ]
  },
  {
   "cell_type": "markdown",
   "metadata": {},
   "source": [
    "### Below we specify the meta information of data columns"
   ]
  },
  {
   "cell_type": "markdown",
   "metadata": {},
   "source": [
    "It's necessary to specify the key bioactivity columns, molecule structures and identifiers in the dataset with `ColumnAnnotation`. It is possible to add `user_attributes` with any key and values when needed, such as `unit`, `organism`, `scale` and optimization `objective`. "
   ]
  },
  {
   "cell_type": "markdown",
   "metadata": {},
   "source": [
    "This dataset includes two weak binders. Since only six designs exhibit moderate to strong binding affinities, these two weak binders are classified as positive binders in the binary classification setting. The `unknown` binding results are labeled as `False`.\n"
   ]
  },
  {
   "cell_type": "code",
   "execution_count": 6,
   "metadata": {},
   "outputs": [
    {
     "data": {
      "text/plain": [
       "binding\n",
       "False    194\n",
       "True       8\n",
       "Name: count, dtype: int64"
      ]
     },
     "execution_count": 6,
     "metadata": {},
     "output_type": "execute_result"
    }
   ],
   "source": [
    "# fill nans\n",
    "table[\"binding\"] = table[\"binding\"].replace(\"weak\", \"True\").values\n",
    "table[\"binding\"] = table[\"binding\"].replace(\"unknown\", \"False\").values\n",
    "table[\"binding\"] = table[\"binding\"] == \"True\"  # to boolean\n",
    "table[\"binding\"].value_counts()"
   ]
  },
  {
   "cell_type": "code",
   "execution_count": 7,
   "metadata": {},
   "outputs": [],
   "source": [
    "# Rename column names for compheransive terms\n",
    "table.rename(columns={\"kd\": \"KD\", \"binding\": \"binding_class\"}, inplace=True)"
   ]
  },
  {
   "cell_type": "code",
   "execution_count": 8,
   "metadata": {},
   "outputs": [],
   "source": [
    "annotations = {\n",
    "    \"name\": ColumnAnnotation(description=\"Sequence design name.\"),\n",
    "    \"sequence\": ColumnAnnotation(description=\"Protein sequence in fasta format.\"),\n",
    "    \"KD\": ColumnAnnotation(\n",
    "        description=\"The equilibrium dissociation constant (KD) for the measure of binding affinity.\",\n",
    "        user_attributes={\n",
    "            \"unit\": \"M\",\n",
    "            \"objective\": \"Lower value\",\n",
    "        },\n",
    "    ),\n",
    "    \"binding_class\": ColumnAnnotation(\n",
    "        description=\"The binding affinity as boolean classes labels.\",\n",
    "        user_attributes={\n",
    "            \"objective\": \"True\",\n",
    "        },\n",
    "    ),\n",
    "}"
   ]
  },
  {
   "cell_type": "markdown",
   "metadata": {},
   "source": [
    "### Define `Dataset` object"
   ]
  },
  {
   "cell_type": "code",
   "execution_count": 9,
   "metadata": {},
   "outputs": [],
   "source": [
    "dataset_version = \"v1\"\n",
    "dataset_name = f\"{data_name}-{dataset_version}\""
   ]
  },
  {
   "cell_type": "code",
   "execution_count": 10,
   "metadata": {},
   "outputs": [],
   "source": [
    "dataset = Dataset(\n",
    "    table=table[annotations.keys()].copy(),\n",
    "    name=dataset_name,\n",
    "    description=\"This dataset includes binding protein designs targeting the Epidermal growth factor receptor(EGFR), a drug target associated with various diseases.\",\n",
    "    source=\"https://design.adaptyvbio.com/\",\n",
    "    annotations=annotations,\n",
    "    owner=owner,\n",
    "    tags=[\"protein-design\"],\n",
    "    license=\"CC-BY-4.0\",\n",
    ")"
   ]
  },
  {
   "cell_type": "markdown",
   "metadata": {},
   "source": [
    "### Dataset overview"
   ]
  },
  {
   "cell_type": "code",
   "execution_count": 11,
   "metadata": {},
   "outputs": [
    {
     "data": {
      "text/html": [
       "<table border=\"1\"><tr><th>name</th><td>EGFR_binders-v1</td></tr><tr><th>description</th><td>This dataset includes binding protein designs targeting the Epidermal growth factor receptor(EGFR), a drug target associated with various diseases.</td></tr><tr><th>tags</th><td><ul><li>protein-design</li></ul></td></tr><tr><th>user_attributes</th><td></td></tr><tr><th>owner</th><td>adaptyv-bio</td></tr><tr><th>polaris_version</th><td>0.8.5.dev6+gb44821c</td></tr><tr><th>default_adapters</th><td></td></tr><tr><th>zarr_root_path</th><td>None</td></tr><tr><th>readme</th><td></td></tr><tr><th>annotations</th><td><table border=\"1\"><tr><th>name</th><td><table border=\"1\"><tr><th>is_pointer</th><td>False</td></tr><tr><th>modality</th><td>UNKNOWN</td></tr><tr><th>description</th><td>Sequence design name.</td></tr><tr><th>user_attributes</th><td></td></tr><tr><th>dtype</th><td>object</td></tr><tr><th>content_type</th><td>None</td></tr></table></td></tr><tr><th>sequence</th><td><table border=\"1\"><tr><th>is_pointer</th><td>False</td></tr><tr><th>modality</th><td>UNKNOWN</td></tr><tr><th>description</th><td>Protein sequence in fasta format.</td></tr><tr><th>user_attributes</th><td></td></tr><tr><th>dtype</th><td>object</td></tr><tr><th>content_type</th><td>None</td></tr></table></td></tr><tr><th>KD</th><td><table border=\"1\"><tr><th>is_pointer</th><td>False</td></tr><tr><th>modality</th><td>UNKNOWN</td></tr><tr><th>description</th><td>The equilibrium dissociation constant (KD) for the measure of binding affinity.</td></tr><tr><th>user_attributes</th><td><table border=\"1\"><tr><th>unit</th><td>M</td></tr><tr><th>objective</th><td>Lower value</td></tr></table></td></tr><tr><th>dtype</th><td>float64</td></tr><tr><th>content_type</th><td>None</td></tr></table></td></tr><tr><th>binding_class</th><td><table border=\"1\"><tr><th>is_pointer</th><td>False</td></tr><tr><th>modality</th><td>UNKNOWN</td></tr><tr><th>description</th><td>The binding affinity as boolean classes labels.</td></tr><tr><th>user_attributes</th><td><table border=\"1\"><tr><th>objective</th><td>True</td></tr></table></td></tr><tr><th>dtype</th><td>bool</td></tr><tr><th>content_type</th><td>None</td></tr></table></td></tr></table></td></tr><tr><th>source</th><td>https://design.adaptyvbio.com/</td></tr><tr><th>license</th><td>CC-BY-4.0</td></tr><tr><th>curation_reference</th><td>None</td></tr><tr><th>cache_dir</th><td>/Users/lu.zhu/Library/Caches/polaris/datasets/3fe165a8-3f84-4a4e-a107-c1db7ee73c8b</td></tr><tr><th>md5sum</th><td>e7c851d24c4d8062871f1050f742dc73</td></tr><tr><th>artifact_id</th><td>adaptyv-bio/egfr-binders-v1</td></tr><tr><th>n_rows</th><td>202</td></tr><tr><th>n_columns</th><td>4</td></tr></table>"
      ],
      "text/plain": [
       "{\n",
       "  \"name\": \"EGFR_binders-v1\",\n",
       "  \"description\": \"This dataset includes binding protein designs targeting the Epidermal growth factor receptor(EGFR), a drug target associated with various diseases.\",\n",
       "  \"tags\": [\n",
       "    \"protein-design\"\n",
       "  ],\n",
       "  \"user_attributes\": {},\n",
       "  \"owner\": \"adaptyv-bio\",\n",
       "  \"polaris_version\": \"0.8.5.dev6+gb44821c\",\n",
       "  \"default_adapters\": {},\n",
       "  \"zarr_root_path\": null,\n",
       "  \"readme\": \"\",\n",
       "  \"annotations\": {\n",
       "    \"name\": {\n",
       "      \"is_pointer\": false,\n",
       "      \"modality\": \"UNKNOWN\",\n",
       "      \"description\": \"Sequence design name.\",\n",
       "      \"user_attributes\": {},\n",
       "      \"dtype\": \"object\",\n",
       "      \"content_type\": null\n",
       "    },\n",
       "    \"sequence\": {\n",
       "      \"is_pointer\": false,\n",
       "      \"modality\": \"UNKNOWN\",\n",
       "      \"description\": \"Protein sequence in fasta format.\",\n",
       "      \"user_attributes\": {},\n",
       "      \"dtype\": \"object\",\n",
       "      \"content_type\": null\n",
       "    },\n",
       "    \"KD\": {\n",
       "      \"is_pointer\": false,\n",
       "      \"modality\": \"UNKNOWN\",\n",
       "      \"description\": \"The equilibrium dissociation constant (KD) for the measure of binding affinity.\",\n",
       "      \"user_attributes\": {\n",
       "        \"unit\": \"M\",\n",
       "        \"objective\": \"Lower value\"\n",
       "      },\n",
       "      \"dtype\": \"float64\",\n",
       "      \"content_type\": null\n",
       "    },\n",
       "    \"binding_class\": {\n",
       "      \"is_pointer\": false,\n",
       "      \"modality\": \"UNKNOWN\",\n",
       "      \"description\": \"The binding affinity as boolean classes labels.\",\n",
       "      \"user_attributes\": {\n",
       "        \"objective\": \"True\"\n",
       "      },\n",
       "      \"dtype\": \"bool\",\n",
       "      \"content_type\": null\n",
       "    }\n",
       "  },\n",
       "  \"source\": \"https://design.adaptyvbio.com/\",\n",
       "  \"license\": \"CC-BY-4.0\",\n",
       "  \"curation_reference\": null,\n",
       "  \"cache_dir\": \"/Users/lu.zhu/Library/Caches/polaris/datasets/3fe165a8-3f84-4a4e-a107-c1db7ee73c8b\",\n",
       "  \"md5sum\": \"e7c851d24c4d8062871f1050f742dc73\",\n",
       "  \"artifact_id\": \"adaptyv-bio/egfr-binders-v1\",\n",
       "  \"n_rows\": 202,\n",
       "  \"n_columns\": 4\n",
       "}"
      ]
     },
     "execution_count": 11,
     "metadata": {},
     "output_type": "execute_result"
    }
   ],
   "source": [
    "dataset"
   ]
  },
  {
   "cell_type": "code",
   "execution_count": 12,
   "metadata": {},
   "outputs": [],
   "source": [
    "# # save the dataset to GCP\n",
    "# SAVE_DIR = f\"{DATASET_DIR}/{dataset_name}\"\n",
    "# dataset_path = dataset.to_json(SAVE_DIR)\n",
    "# dataset_path"
   ]
  },
  {
   "cell_type": "markdown",
   "metadata": {},
   "source": [
    "### Upload the dataset to the hub"
   ]
  },
  {
   "cell_type": "code",
   "execution_count": 13,
   "metadata": {},
   "outputs": [
    {
     "name": "stdout",
     "output_type": "stream",
     "text": [
      "✅ SUCCESS: \u001b[1mYour standard dataset has been successfully uploaded to the Hub. View it here: https://polarishub.io/datasets/adaptyv-bio/EGFR_binders-v1\u001b[0m\n",
      " \n"
     ]
    },
    {
     "name": "stderr",
     "output_type": "stream",
     "text": [
      "/Users/lu.zhu/miniconda3/envs/po_dataset/lib/python3.12/site-packages/yaspin/core.py:228: UserWarning: color, on_color and attrs are not supported when running in jupyter\n",
      "  self._color = self._set_color(value) if value else value\n"
     ]
    }
   ],
   "source": [
    "dataset.upload_to_hub()"
   ]
  },
  {
   "cell_type": "code",
   "execution_count": 15,
   "metadata": {},
   "outputs": [
    {
     "name": "stdout",
     "output_type": "stream",
     "text": [
      "⠦ Fetching artifact... "
     ]
    },
    {
     "name": "stderr",
     "output_type": "stream",
     "text": [
      "\u001b[32m2024-09-24 11:22:09.695\u001b[0m | \u001b[1mINFO    \u001b[0m | \u001b[36mpolaris.mixins._checksum\u001b[0m:\u001b[36mverify_checksum\u001b[0m:\u001b[36m65\u001b[0m - \u001b[1mTo verify the checksum, we need to recompute it. This can be slow for large datasets.\u001b[0m\n",
      "/Users/lu.zhu/miniconda3/envs/po_dataset/lib/python3.12/site-packages/yaspin/core.py:228: UserWarning: color, on_color and attrs are not supported when running in jupyter\n",
      "  self._color = self._set_color(value) if value else value\n",
      "\u001b[32m2024-09-24 11:22:09.701\u001b[0m | \u001b[1mINFO    \u001b[0m | \u001b[36mpolaris.benchmark._base\u001b[0m:\u001b[36m_validate_split\u001b[0m:\u001b[36m189\u001b[0m - \u001b[1mThis benchmark only specifies a test set. It will return an empty train set in `get_train_test_split()`\u001b[0m\n",
      "\u001b[32m2024-09-24 11:22:09.702\u001b[0m | \u001b[33m\u001b[1mWARNING \u001b[0m | \u001b[36mpolaris.mixins._checksum\u001b[0m:\u001b[36mverify_checksum\u001b[0m:\u001b[36m58\u001b[0m - \u001b[33m\u001b[1mNo checksum to verify against. Specify either the md5sum parameter or store the checksum in the dataset.md5sum attribute.\u001b[0m\n"
     ]
    },
    {
     "name": "stdout",
     "output_type": "stream",
     "text": [
      "✅ SUCCESS: \u001b[1mFetched artifact.\u001b[0m\n",
      " \n",
      "✅ SUCCESS: \u001b[1mFetched artifact.\u001b[0m\n",
      " \n"
     ]
    }
   ],
   "source": [
    "# test to load the benchmark\n",
    "\n",
    "import polaris as po\n",
    "\n",
    "# Load the benchmark from the Hub\n",
    "benchmark = po.load_benchmark(\"adaptyv-bio/EGFR_binders_binary_cls-v1\")\n",
    "\n",
    "# Get the train and test data-loaders\n",
    "train, test = benchmark.get_train_test_split()"
   ]
  },
  {
   "cell_type": "code",
   "execution_count": 16,
   "metadata": {},
   "outputs": [],
   "source": [
    "from sklearn.metrics import (\n",
    "    accuracy_score,\n",
    "    average_precision_score,\n",
    "    explained_variance_score,\n",
    "    f1_score,\n",
    "    matthews_corrcoef,\n",
    "    mean_absolute_error,\n",
    "    mean_squared_error,\n",
    "    r2_score,\n",
    "    roc_auc_score,\n",
    "    balanced_accuracy_score,\n",
    ")"
   ]
  },
  {
   "cell_type": "code",
   "execution_count": 17,
   "metadata": {},
   "outputs": [
    {
     "data": {
      "text/plain": [
       "array([ True, False])"
      ]
     },
     "execution_count": 17,
     "metadata": {},
     "output_type": "execute_result"
    }
   ],
   "source": [
    "benchmark.dataset.table[\"binding_class\"].unique()"
   ]
  },
  {
   "cell_type": "code",
   "execution_count": 18,
   "metadata": {},
   "outputs": [
    {
     "ename": "NameError",
     "evalue": "name 'predictions' is not defined",
     "output_type": "error",
     "traceback": [
      "\u001b[0;31m---------------------------------------------------------------------------\u001b[0m",
      "\u001b[0;31mNameError\u001b[0m                                 Traceback (most recent call last)",
      "Cell \u001b[0;32mIn[18], line 1\u001b[0m\n\u001b[0;32m----> 1\u001b[0m balanced_accuracy_score(\u001b[43mpredictions\u001b[49m, predictions)\n",
      "\u001b[0;31mNameError\u001b[0m: name 'predictions' is not defined"
     ]
    }
   ],
   "source": [
    "balanced_accuracy_score(predictions, predictions)"
   ]
  },
  {
   "cell_type": "code",
   "execution_count": 19,
   "metadata": {},
   "outputs": [],
   "source": [
    "import numpy as np\n",
    "\n",
    "# Work your magic to accurately predict the test set\n",
    "predictions = np.array([True for x in test])\n",
    "\n",
    "# Evaluate your predictions\n",
    "results = benchmark.evaluate(predictions)\n",
    "\n",
    "# Submit your results\n",
    "# results.upload_to_hub(owner=\"lu-valencelabs\")"
   ]
  },
  {
   "cell_type": "code",
   "execution_count": 20,
   "metadata": {},
   "outputs": [
    {
     "data": {
      "text/html": [
       "<table border=\"1\"><tr><th>name</th><td>None</td></tr><tr><th>description</th><td></td></tr><tr><th>tags</th><td></td></tr><tr><th>user_attributes</th><td></td></tr><tr><th>owner</th><td>None</td></tr><tr><th>polaris_version</th><td>0.8.5.dev6+gb44821c</td></tr><tr><th>github_url</th><td>None</td></tr><tr><th>paper_url</th><td>None</td></tr><tr><th>contributors</th><td>None</td></tr><tr><th>benchmark_name</th><td>EGFR_binders_binary_cls-v1</td></tr><tr><th>benchmark_owner</th><td><table border=\"1\"><tr><th>slug</th><td>adaptyv-bio</td></tr><tr><th>external_id</th><td>org_2lqe2oSyR0fGZEEVd1NUlwqnfjx</td></tr><tr><th>type</th><td>organization</td></tr></table></td></tr><tr><th>artifact_id</th><td>None</td></tr><tr><th>benchmark_artifact_id</th><td>adaptyv-bio/egfr-binders-binary-cls-v1</td></tr><tr><th>results</th><td><table border=\"1\"><thead><tr><th>Test set</th><th>Target label</th><th>Metric</th><th>Score</th></tr></thead><tbody><tr><td>test</td><td>binding_class</td><td>accuracy</td><td>0.0396039604</td></tr><tr><td>test</td><td>binding_class</td><td>balanced_accuracy</td><td>0.5</td></tr><tr><td>test</td><td>binding_class</td><td>f1</td><td>0.0761904762</td></tr><tr><td>test</td><td>binding_class</td><td>mcc</td><td>0.0</td></tr><tr><td>test</td><td>binding_class</td><td>cohen_kappa</td><td>0.0</td></tr></tbody></table></td></tr></table>"
      ],
      "text/plain": [
       "{\n",
       "  \"name\": null,\n",
       "  \"description\": \"\",\n",
       "  \"tags\": [],\n",
       "  \"user_attributes\": {},\n",
       "  \"owner\": null,\n",
       "  \"polaris_version\": \"0.8.5.dev6+gb44821c\",\n",
       "  \"github_url\": null,\n",
       "  \"paper_url\": null,\n",
       "  \"contributors\": null,\n",
       "  \"benchmark_name\": \"EGFR_binders_binary_cls-v1\",\n",
       "  \"benchmark_owner\": {\n",
       "    \"slug\": \"adaptyv-bio\",\n",
       "    \"external_id\": \"org_2lqe2oSyR0fGZEEVd1NUlwqnfjx\",\n",
       "    \"type\": \"organization\"\n",
       "  },\n",
       "  \"artifact_id\": null,\n",
       "  \"benchmark_artifact_id\": \"adaptyv-bio/egfr-binders-binary-cls-v1\",\n",
       "  \"results\": [\n",
       "    {\n",
       "      \"Test set\": \"test\",\n",
       "      \"Target label\": \"binding_class\",\n",
       "      \"Metric\": \"accuracy\",\n",
       "      \"Score\": 0.0396039604\n",
       "    },\n",
       "    {\n",
       "      \"Test set\": \"test\",\n",
       "      \"Target label\": \"binding_class\",\n",
       "      \"Metric\": \"balanced_accuracy\",\n",
       "      \"Score\": 0.5\n",
       "    },\n",
       "    {\n",
       "      \"Test set\": \"test\",\n",
       "      \"Target label\": \"binding_class\",\n",
       "      \"Metric\": \"f1\",\n",
       "      \"Score\": 0.0761904762\n",
       "    },\n",
       "    {\n",
       "      \"Test set\": \"test\",\n",
       "      \"Target label\": \"binding_class\",\n",
       "      \"Metric\": \"mcc\",\n",
       "      \"Score\": 0.0\n",
       "    },\n",
       "    {\n",
       "      \"Test set\": \"test\",\n",
       "      \"Target label\": \"binding_class\",\n",
       "      \"Metric\": \"cohen_kappa\",\n",
       "      \"Score\": 0.0\n",
       "    }\n",
       "  ]\n",
       "}"
      ]
     },
     "execution_count": 20,
     "metadata": {},
     "output_type": "execute_result"
    }
   ],
   "source": [
    "results"
   ]
  },
  {
   "cell_type": "markdown",
   "metadata": {},
   "source": []
  }
 ],
 "metadata": {
  "kernelspec": {
   "display_name": "Python 3 (ipykernel)",
   "language": "python",
   "name": "python3"
  },
  "language_info": {
   "codemirror_mode": {
    "name": "ipython",
    "version": 3
   },
   "file_extension": ".py",
   "mimetype": "text/x-python",
   "name": "python",
   "nbconvert_exporter": "python",
   "pygments_lexer": "ipython3",
   "version": "3.12.4"
  }
 },
 "nbformat": 4,
 "nbformat_minor": 2
}
