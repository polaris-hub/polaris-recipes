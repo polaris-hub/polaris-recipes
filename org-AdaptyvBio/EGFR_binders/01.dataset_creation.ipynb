{
 "cells": [
  {
   "cell_type": "markdown",
   "metadata": {},
   "source": [
    "# Dataset creation with [Polaris](https://github.com/polaris-hub/polaris)"
   ]
  },
  {
   "cell_type": "markdown",
   "metadata": {},
   "source": [
    "## Background\n",
    "\n",
    "### Target details\n",
    "Epidermal Growth Factor Receptor (EGFR) is a transmembrane protein that plays a critical role in cell growth, differentiation, and survival. It is frequently overexpressed or mutated in various cancers, including non-small cell lung cancer, colorectal cancer, and head and neck cancer. This makes EGFR a crucial target for cancer therapies such as Cetuximab, an antibody with more than 1B USD in annual revenue. \n",
    "\n",
    "- Target Protein: EGFR\n",
    "- Organism: HUMAN\n",
    "- Uniprot Accession ID: [P00533](https://www.uniprot.org/uniprotkb/P00533/entry)\n",
    "- Protein sequence: LEEKKVCQGTSNKLTQLGTFEDHFLSLQRMFNNCEVVLGNLEITYVQRNYDLSFLKTIQEVAGYVLIALNTVERIPLENLQIIRGNMYYENSYALAVLSNYDANKTGLKELPMRNLQEILHGAVRFSNNPALCNVESIQWRDIVSSDFLSNMSMDFQNHLGSCQKCDPSCPNGSCWGAGEENCQKLTKIICAQQCSGRCRGKSPSDCCHNQCAAGCTGPRESDCLVCRKFRDEATCKDTCPPLMLYNPTTYQMDVNPEGKYSFGATCVKKCPRNYVVTDHGSCVRACGADSYEMEEDGVRKCKKCEGPCRKVCNGIGIGEFKDSLSINATNIKHFKNCTSISGDLHILPVAFRGDSFTHTPPLDPQELDILKTVKEITGFLLIQAWPENRTDLHAFENLEIIRGRTKQHGQFSLAVVSLNITSLGLRSLKEISDGDVIISGNKNLCYANTINWKKLFGTSGQKTKIISNRGENSCKATGQVCHALCSPEGCWGPEPRDCVSCRNVSRGRECVDKCNLLEGEPREFVENSECIQCHPECLPQAMNITCTGRGPDNCIQCAHYIDGPHCVKTCPAGVMGENNTLVWKYADAGHVCHLCHPNCTYGCTGPGLEGCPTNGPKIPS\n",
    "- Structure PDB: [6ARU](https://www.rcsb.org/structure/6aru)\n",
    "\n",
    "\n",
    "![64ru](https://cdn.rcsb.org/images/structures/6aru_assembly-1.jpeg)\n",
    "\n",
    "### Binding protein designs\n",
    "This dataset contains 202 designed EGFR-binding protein sequences, along with experimental binding affinity results tested by the AdaptyvBio team.\n",
    "\n",
    "## Reference:\n",
    "- https://design.adaptyvbio.com/\n",
    "- https://foundry.adaptyvbio.com/egfr_design_competition"
   ]
  },
  {
   "cell_type": "code",
   "execution_count": 1,
   "metadata": {},
   "outputs": [],
   "source": [
    "%load_ext autoreload\n",
    "%autoreload 2\n",
    "\n",
    "import os\n",
    "import sys\n",
    "import pathlib\n",
    "\n",
    "import pandas as pd\n",
    "import datamol as dm\n",
    "\n",
    "# polaris dataset\n",
    "from polaris.dataset import Dataset, ColumnAnnotation\n",
    "from polaris.utils.types import HubOwner\n",
    "\n",
    "\n",
    "root = pathlib.Path(\"__file__\").absolute().parents[2]\n",
    "os.chdir(root)\n",
    "sys.path.insert(0, str(root))"
   ]
  },
  {
   "cell_type": "code",
   "execution_count": 2,
   "metadata": {},
   "outputs": [
    {
     "data": {
      "text/plain": [
       "PosixPath('/Users/lu.zhu/Documents/Codebase/ValenceLab/polaris-recipes')"
      ]
     },
     "execution_count": 2,
     "metadata": {},
     "output_type": "execute_result"
    }
   ],
   "source": [
    "root"
   ]
  },
  {
   "cell_type": "code",
   "execution_count": 3,
   "metadata": {},
   "outputs": [
    {
     "data": {
      "text/plain": [
       "HubOwner(slug='adaptyv-bio', external_id=None, type='organization')"
      ]
     },
     "execution_count": 3,
     "metadata": {},
     "output_type": "execute_result"
    }
   ],
   "source": [
    "# Get the owner and organization\n",
    "org = \"AdaptyvBio\"\n",
    "data_name = \"EGFR_binders\"\n",
    "dirname = dm.fs.join(root, f\"org-{org}\", data_name)\n",
    "gcp_root = f\"gs://polaris-public/polaris-recipes/org-{org}/{data_name}\"\n",
    "\n",
    "owner = HubOwner(slug=\"adaptyv-bio\", type=\"organization\")\n",
    "owner"
   ]
  },
  {
   "cell_type": "code",
   "execution_count": 4,
   "metadata": {},
   "outputs": [],
   "source": [
    "BENCHMARK_DIR = f\"gs://polaris-public/polaris-recipes/org-{org}/{data_name}/benchmarks\"\n",
    "DATASET_DIR = f\"gs://polaris-public/polaris-recipes/org-{org}/{data_name}/datasets\"\n",
    "FIGURE_DIR = f\"gs://polaris-public/polaris-recipes/org-{org}/{data_name}/figures\""
   ]
  },
  {
   "cell_type": "markdown",
   "metadata": {},
   "source": [
    "## Load existing data"
   ]
  },
  {
   "cell_type": "code",
   "execution_count": 5,
   "metadata": {},
   "outputs": [],
   "source": [
    "# Load the curated data\n",
    "PATH = \"gs://polaris-public/polaris-recipes/org-AdaptyvBio/EGFR_binders/raw/Competition_Binders_to_EGFR_mean.csv\"\n",
    "table = pd.read_csv(PATH)"
   ]
  },
  {
   "cell_type": "markdown",
   "metadata": {},
   "source": [
    "### Below we specify the meta information of data columns"
   ]
  },
  {
   "cell_type": "markdown",
   "metadata": {},
   "source": [
    "It's necessary to specify the key bioactivity columns, molecule structures and identifiers in the dataset with `ColumnAnnotation`. It is possible to add `user_attributes` with any key and values when needed, such as `unit`, `organism`, `scale` and optimization `objective`. "
   ]
  },
  {
   "cell_type": "markdown",
   "metadata": {},
   "source": [
    "This dataset includes two weak binders. Since only six designs exhibit moderate to strong binding affinities, these two weak binders are classified as positive binders in the binary classification setting. The `unknown` binding results are labeled as `False`.\n"
   ]
  },
  {
   "cell_type": "code",
   "execution_count": 6,
   "metadata": {},
   "outputs": [
    {
     "data": {
      "text/plain": [
       "binding\n",
       "False    194\n",
       "True       8\n",
       "Name: count, dtype: int64"
      ]
     },
     "execution_count": 6,
     "metadata": {},
     "output_type": "execute_result"
    }
   ],
   "source": [
    "# fill nans\n",
    "table[\"binding\"] = table[\"binding\"].replace(\"weak\", \"True\").values\n",
    "table[\"binding\"] = table[\"binding\"].replace(\"unknown\", \"False\").values\n",
    "\n",
    "table[\"binding\"].value_counts()"
   ]
  },
  {
   "cell_type": "code",
   "execution_count": 7,
   "metadata": {},
   "outputs": [],
   "source": [
    "# Rename column names for compheransive terms\n",
    "table.rename(columns={\"kd\": \"KD\", \"binding\": \"binding_class\"}, inplace=True)"
   ]
  },
  {
   "cell_type": "code",
   "execution_count": 8,
   "metadata": {},
   "outputs": [],
   "source": [
    "annotations = {\n",
    "    \"name\": ColumnAnnotation(description=\"Sequence design name.\"),\n",
    "    \"sequence\": ColumnAnnotation(description=\"Protein sequence in fasta format.\"),\n",
    "    \"KD\": ColumnAnnotation(\n",
    "        description=\"The equilibrium dissociation constant (KD) for the measure of binding affinity.\",\n",
    "        user_attributes={\n",
    "            \"unit\": \"M\",\n",
    "            \"objective\": \"Lower value\",\n",
    "        },\n",
    "    ),\n",
    "    \"binding_class\": ColumnAnnotation(\n",
    "        description=\"The binding affinity as boolean classes labels.\",\n",
    "        user_attributes={\n",
    "            \"objective\": \"True\",\n",
    "        },\n",
    "    ),\n",
    "}"
   ]
  },
  {
   "cell_type": "markdown",
   "metadata": {},
   "source": [
    "### Define `Dataset` object"
   ]
  },
  {
   "cell_type": "code",
   "execution_count": 9,
   "metadata": {},
   "outputs": [],
   "source": [
    "dataset_version = \"v1\"\n",
    "dataset_name = f\"{data_name}-{dataset_version}\""
   ]
  },
  {
   "cell_type": "code",
   "execution_count": 10,
   "metadata": {},
   "outputs": [],
   "source": [
    "dataset = Dataset(\n",
    "    table=table[annotations.keys()].copy(),\n",
    "    name=dataset_name,\n",
    "    description=\"This dataset includes binding protein designs targeting the Epidermal growth factor receptor(EGFR), a drug target associated with various diseases.\",\n",
    "    source=\"https://design.adaptyvbio.com/\",\n",
    "    annotations=annotations,\n",
    "    owner=owner,\n",
    "    tags=[\"protein-design\"],\n",
    "    license=\"CC-BY-4.0\",\n",
    ")"
   ]
  },
  {
   "cell_type": "markdown",
   "metadata": {},
   "source": [
    "### Dataset overview"
   ]
  },
  {
   "cell_type": "code",
   "execution_count": 11,
   "metadata": {},
   "outputs": [
    {
     "name": "stderr",
     "output_type": "stream",
     "text": [
      "\u001b[32m2024-09-23 16:21:14.227\u001b[0m | \u001b[1mINFO    \u001b[0m | \u001b[36mpolaris.mixins._checksum\u001b[0m:\u001b[36mmd5sum\u001b[0m:\u001b[36m27\u001b[0m - \u001b[1mComputing the checksum. This can be slow for large datasets.\u001b[0m\n"
     ]
    },
    {
     "data": {
      "text/html": [
       "<table border=\"1\"><tr><th>name</th><td>EGFR_binders-v1</td></tr><tr><th>description</th><td>This dataset includes binding protein designs targeting the Epidermal growth factor receptor(EGFR), a drug target associated with various diseases.</td></tr><tr><th>tags</th><td><ul><li>protein-design</li></ul></td></tr><tr><th>user_attributes</th><td></td></tr><tr><th>owner</th><td>adaptyv-bio</td></tr><tr><th>polaris_version</th><td>0.8.5.dev6+gb44821c</td></tr><tr><th>default_adapters</th><td></td></tr><tr><th>zarr_root_path</th><td>None</td></tr><tr><th>readme</th><td></td></tr><tr><th>annotations</th><td><table border=\"1\"><tr><th>name</th><td><table border=\"1\"><tr><th>is_pointer</th><td>False</td></tr><tr><th>modality</th><td>UNKNOWN</td></tr><tr><th>description</th><td>Sequence design name.</td></tr><tr><th>user_attributes</th><td></td></tr><tr><th>dtype</th><td>object</td></tr><tr><th>content_type</th><td>None</td></tr></table></td></tr><tr><th>sequence</th><td><table border=\"1\"><tr><th>is_pointer</th><td>False</td></tr><tr><th>modality</th><td>UNKNOWN</td></tr><tr><th>description</th><td>Protein sequence in fasta format.</td></tr><tr><th>user_attributes</th><td></td></tr><tr><th>dtype</th><td>object</td></tr><tr><th>content_type</th><td>None</td></tr></table></td></tr><tr><th>KD</th><td><table border=\"1\"><tr><th>is_pointer</th><td>False</td></tr><tr><th>modality</th><td>UNKNOWN</td></tr><tr><th>description</th><td>The equilibrium dissociation constant (KD) for the measure of binding affinity.</td></tr><tr><th>user_attributes</th><td><table border=\"1\"><tr><th>unit</th><td>M</td></tr><tr><th>objective</th><td>Lower value</td></tr></table></td></tr><tr><th>dtype</th><td>float64</td></tr><tr><th>content_type</th><td>None</td></tr></table></td></tr><tr><th>binding_class</th><td><table border=\"1\"><tr><th>is_pointer</th><td>False</td></tr><tr><th>modality</th><td>UNKNOWN</td></tr><tr><th>description</th><td>The binding affinity as boolean classes labels.</td></tr><tr><th>user_attributes</th><td><table border=\"1\"><tr><th>objective</th><td>True</td></tr></table></td></tr><tr><th>dtype</th><td>object</td></tr><tr><th>content_type</th><td>None</td></tr></table></td></tr></table></td></tr><tr><th>source</th><td>https://design.adaptyvbio.com/</td></tr><tr><th>license</th><td>CC-BY-4.0</td></tr><tr><th>curation_reference</th><td>None</td></tr><tr><th>cache_dir</th><td>/Users/lu.zhu/Library/Caches/polaris/datasets/4fceb9f2-529e-4a46-8239-0ba8436f335b</td></tr><tr><th>md5sum</th><td>f5c952a1280892883e73cb64ee7a563f</td></tr><tr><th>artifact_id</th><td>adaptyv-bio/egfr-binders-v1</td></tr><tr><th>n_rows</th><td>202</td></tr><tr><th>n_columns</th><td>4</td></tr></table>"
      ],
      "text/plain": [
       "{\n",
       "  \"name\": \"EGFR_binders-v1\",\n",
       "  \"description\": \"This dataset includes binding protein designs targeting the Epidermal growth factor receptor(EGFR), a drug target associated with various diseases.\",\n",
       "  \"tags\": [\n",
       "    \"protein-design\"\n",
       "  ],\n",
       "  \"user_attributes\": {},\n",
       "  \"owner\": \"adaptyv-bio\",\n",
       "  \"polaris_version\": \"0.8.5.dev6+gb44821c\",\n",
       "  \"default_adapters\": {},\n",
       "  \"zarr_root_path\": null,\n",
       "  \"readme\": \"\",\n",
       "  \"annotations\": {\n",
       "    \"name\": {\n",
       "      \"is_pointer\": false,\n",
       "      \"modality\": \"UNKNOWN\",\n",
       "      \"description\": \"Sequence design name.\",\n",
       "      \"user_attributes\": {},\n",
       "      \"dtype\": \"object\",\n",
       "      \"content_type\": null\n",
       "    },\n",
       "    \"sequence\": {\n",
       "      \"is_pointer\": false,\n",
       "      \"modality\": \"UNKNOWN\",\n",
       "      \"description\": \"Protein sequence in fasta format.\",\n",
       "      \"user_attributes\": {},\n",
       "      \"dtype\": \"object\",\n",
       "      \"content_type\": null\n",
       "    },\n",
       "    \"KD\": {\n",
       "      \"is_pointer\": false,\n",
       "      \"modality\": \"UNKNOWN\",\n",
       "      \"description\": \"The equilibrium dissociation constant (KD) for the measure of binding affinity.\",\n",
       "      \"user_attributes\": {\n",
       "        \"unit\": \"M\",\n",
       "        \"objective\": \"Lower value\"\n",
       "      },\n",
       "      \"dtype\": \"float64\",\n",
       "      \"content_type\": null\n",
       "    },\n",
       "    \"binding_class\": {\n",
       "      \"is_pointer\": false,\n",
       "      \"modality\": \"UNKNOWN\",\n",
       "      \"description\": \"The binding affinity as boolean classes labels.\",\n",
       "      \"user_attributes\": {\n",
       "        \"objective\": \"True\"\n",
       "      },\n",
       "      \"dtype\": \"object\",\n",
       "      \"content_type\": null\n",
       "    }\n",
       "  },\n",
       "  \"source\": \"https://design.adaptyvbio.com/\",\n",
       "  \"license\": \"CC-BY-4.0\",\n",
       "  \"curation_reference\": null,\n",
       "  \"cache_dir\": \"/Users/lu.zhu/Library/Caches/polaris/datasets/4fceb9f2-529e-4a46-8239-0ba8436f335b\",\n",
       "  \"md5sum\": \"f5c952a1280892883e73cb64ee7a563f\",\n",
       "  \"artifact_id\": \"adaptyv-bio/egfr-binders-v1\",\n",
       "  \"n_rows\": 202,\n",
       "  \"n_columns\": 4\n",
       "}"
      ]
     },
     "execution_count": 11,
     "metadata": {},
     "output_type": "execute_result"
    }
   ],
   "source": [
    "dataset"
   ]
  },
  {
   "cell_type": "code",
   "execution_count": 1,
   "metadata": {},
   "outputs": [],
   "source": [
    "# # save the dataset to GCP\n",
    "# SAVE_DIR = f\"{DATASET_DIR}/{dataset_name}\"\n",
    "# dataset_path = dataset.to_json(SAVE_DIR)\n",
    "# dataset_path"
   ]
  },
  {
   "cell_type": "markdown",
   "metadata": {},
   "source": [
    "### Upload the dataset to the hub"
   ]
  },
  {
   "cell_type": "code",
   "execution_count": 15,
   "metadata": {},
   "outputs": [
    {
     "name": "stdout",
     "output_type": "stream",
     "text": [
      "✅ SUCCESS: \u001b[1mYour standard dataset has been successfully uploaded to the Hub. View it here: https://polarishub.io/datasets/adaptyv-bio/EGFR_binders-v1\u001b[0m\n",
      " \n"
     ]
    },
    {
     "name": "stderr",
     "output_type": "stream",
     "text": [
      "/Users/lu.zhu/miniconda3/envs/po_dataset/lib/python3.12/site-packages/yaspin/core.py:228: UserWarning: color, on_color and attrs are not supported when running in jupyter\n",
      "  self._color = self._set_color(value) if value else value\n"
     ]
    }
   ],
   "source": [
    "dataset.upload_to_hub()"
   ]
  },
  {
   "cell_type": "markdown",
   "metadata": {},
   "source": []
  }
 ],
 "metadata": {
  "kernelspec": {
   "display_name": "Python 3 (ipykernel)",
   "language": "python",
   "name": "python3"
  },
  "language_info": {
   "codemirror_mode": {
    "name": "ipython",
    "version": 3
   },
   "file_extension": ".py",
   "mimetype": "text/x-python",
   "name": "python",
   "nbconvert_exporter": "python",
   "pygments_lexer": "ipython3",
   "version": "3.12.4"
  }
 },
 "nbformat": 4,
 "nbformat_minor": 2
}
