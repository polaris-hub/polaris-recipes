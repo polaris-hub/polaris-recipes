{
 "cells": [
  {
   "cell_type": "markdown",
   "metadata": {},
   "source": [
    "# Dataset creation with [Polaris](https://github.com/polaris-hub/polaris)"
   ]
  },
  {
   "cell_type": "code",
   "execution_count": 1,
   "metadata": {},
   "outputs": [],
   "source": [
    "%load_ext autoreload\n",
    "%autoreload 2\n",
    "\n",
    "import os\n",
    "import sys\n",
    "import pathlib\n",
    "\n",
    "import pandas as pd\n",
    "import datamol as dm\n",
    "\n",
    "# polaris dataset\n",
    "from polaris.dataset import Dataset, ColumnAnnotation\n",
    "from polaris.utils.types import HubOwner\n",
    "\n",
    "\n",
    "root = pathlib.Path(\"__file__\").absolute().parents[1]\n",
    "os.chdir(root)\n",
    "sys.path.insert(0, str(root))"
   ]
  },
  {
   "cell_type": "code",
   "execution_count": 2,
   "metadata": {},
   "outputs": [
    {
     "data": {
      "text/plain": [
       "HubOwner(slug='adaptyv-bio', external_id=None, type='organization')"
      ]
     },
     "execution_count": 2,
     "metadata": {},
     "output_type": "execute_result"
    }
   ],
   "source": [
    "# Get the owner and organization\n",
    "org = \"AdaptyvBio\"\n",
    "data_name = \"IL7Ra_binders\"\n",
    "dirname = dm.fs.join(root, f\"org-{org}\",data_name)\n",
    "gcp_root = f\"gs://polaris-public/polaris-recipes/org-{org}/{data_name}\"\n",
    "\n",
    "owner = HubOwner(slug=\"adaptyv-bio\", type=\"organization\")\n",
    "owner"
   ]
  },
  {
   "cell_type": "code",
   "execution_count": 4,
   "metadata": {},
   "outputs": [],
   "source": [
    "BENCHMARK_DIR = f\"gs://polaris-public/polaris-recipes/org-{org}/{data_name}/benchmarks\"\n",
    "DATASET_DIR = f\"gs://polaris-public/polaris-recipes/org-{org}/{data_name}/datasets\"\n",
    "FIGURE_DIR = f\"gs://polaris-public/polaris-recipes/org-{org}/{data_name}/figures\""
   ]
  },
  {
   "cell_type": "markdown",
   "metadata": {},
   "source": [
    "## Load existing data"
   ]
  },
  {
   "cell_type": "code",
   "execution_count": 5,
   "metadata": {},
   "outputs": [],
   "source": [
    "# Load the curated data\n",
    "PATH = \"gs://polaris-public/polaris-recipes/org-AdaptyvBio/raw/IL7Ra_binders_data.csv\"\n",
    "table = pd.read_csv(PATH)"
   ]
  },
  {
   "cell_type": "markdown",
   "metadata": {},
   "source": [
    "### Below we specify the meta information of data columns"
   ]
  },
  {
   "cell_type": "markdown",
   "metadata": {},
   "source": [
    "It's necessary to specify the key bioactivity columns, molecule structures and identifiers in the dataset with `ColumnAnnotation`. It is possible to add `user_attributes` with any key and values when needed, such as `unit`, `organism`, `scale` and optimization `objective`. "
   ]
  },
  {
   "cell_type": "code",
   "execution_count": 15,
   "metadata": {},
   "outputs": [
    {
     "data": {
      "text/plain": [
       "Binder_class\n",
       "inactive    61\n",
       "strong      19\n",
       "weak        15\n",
       "Name: count, dtype: int64"
      ]
     },
     "execution_count": 15,
     "metadata": {},
     "output_type": "execute_result"
    }
   ],
   "source": [
    "# Here we simplify the column names\n",
    "table = table.rename(\n",
    "    columns={\n",
    "        \"KD (M)\": \"KD\"\n",
    "    }\n",
    ")\n",
    "# fill nans\n",
    "table[\"Binder_class\"] = table[\"Binder_class\"].fillna(\"inactive\").replace(\"none\", \"inactive\").values\n",
    "table[\"Binder_class\"].value_counts()"
   ]
  },
  {
   "cell_type": "code",
   "execution_count": 18,
   "metadata": {},
   "outputs": [],
   "source": [
    "annotations = {\n",
    "    \"sequence\": ColumnAnnotation(\n",
    "        description=\"Protein sequence in fasta format\"\n",
    "    ),\n",
    "    \"KD\": ColumnAnnotation(\n",
    "        description=\"Kd for the measure of binding affinity.\",\n",
    "            user_attributes={\n",
    "            \"unit\": \"M\", \n",
    "            \"objective\": \"Lower value\",}\n",
    "    ),\n",
    "    \"Binder_class\": ColumnAnnotation(\n",
    "        description=\"The binding affinity as three classes labels.\",\n",
    "        user_attributes={\n",
    "            \"objective\": \"strong\",}\n",
    "    ),\n",
    "    \"Binder_bool\": ColumnAnnotation(\n",
    "        description=\"The binding affinity as boolean class label\",\n",
    "        user_attributes={\n",
    "            \"objective\": \"True\",\n",
    "        },\n",
    "    ),\n",
    "}"
   ]
  },
  {
   "cell_type": "markdown",
   "metadata": {},
   "source": [
    "### Define `Dataset` object"
   ]
  },
  {
   "cell_type": "code",
   "execution_count": 17,
   "metadata": {},
   "outputs": [],
   "source": [
    "dataset_version = \"v1\"\n",
    "dataset_name = f\"IL7Ra_binders-{dataset_version}\""
   ]
  },
  {
   "cell_type": "code",
   "execution_count": 20,
   "metadata": {},
   "outputs": [],
   "source": [
    "dataset = Dataset(\n",
    "    table=table[annotations.keys()].copy(),\n",
    "    name=dataset_name,\n",
    "    description=\"This dataset includes binding protein designs targeting the interleukin-7 receptor alpha chain (IL7RA), a drug target associated with various diseases.\",\n",
    "    source=\"https://www.adaptyvbio.com\",\n",
    "    annotations=annotations,\n",
    "    owner=owner,\n",
    "    tags=[\"protein-design\"],\n",
    "    license=\"CC-BY-4.0\")"
   ]
  },
  {
   "cell_type": "markdown",
   "metadata": {},
   "source": [
    "### Dataset overview"
   ]
  },
  {
   "cell_type": "code",
   "execution_count": 24,
   "metadata": {},
   "outputs": [
    {
     "data": {
      "text/html": [
       "<table border=\"1\"><tr><th>name</th><td>IL7Ra_binders-v1</td></tr><tr><th>description</th><td>This dataset includes binding protein designs targeting the interleukin-7 receptor alpha chain (IL7RA), a drug target associated with various diseases.</td></tr><tr><th>tags</th><td><ul><li>protein-design</li></ul></td></tr><tr><th>user_attributes</th><td></td></tr><tr><th>owner</th><td>adaptyv-bio</td></tr><tr><th>polaris_version</th><td>0.7.9</td></tr><tr><th>default_adapters</th><td></td></tr><tr><th>zarr_root_path</th><td>None</td></tr><tr><th>readme</th><td></td></tr><tr><th>annotations</th><td><table border=\"1\"><tr><th>sequence</th><td><table border=\"1\"><tr><th>is_pointer</th><td>False</td></tr><tr><th>modality</th><td>UNKNOWN</td></tr><tr><th>description</th><td>Protein sequence in fasta format</td></tr><tr><th>user_attributes</th><td></td></tr><tr><th>dtype</th><td>object</td></tr></table></td></tr><tr><th>KD</th><td><table border=\"1\"><tr><th>is_pointer</th><td>False</td></tr><tr><th>modality</th><td>UNKNOWN</td></tr><tr><th>description</th><td>Kd for the measure of binding affinity.</td></tr><tr><th>user_attributes</th><td><table border=\"1\"><tr><th>unit</th><td>M</td></tr><tr><th>objective</th><td>Lower value</td></tr></table></td></tr><tr><th>dtype</th><td>object</td></tr></table></td></tr><tr><th>Binder_class</th><td><table border=\"1\"><tr><th>is_pointer</th><td>False</td></tr><tr><th>modality</th><td>UNKNOWN</td></tr><tr><th>description</th><td>The binding affinity as three classes labels.</td></tr><tr><th>user_attributes</th><td><table border=\"1\"><tr><th>objective</th><td>strong</td></tr></table></td></tr><tr><th>dtype</th><td>object</td></tr></table></td></tr><tr><th>Binder_bool</th><td><table border=\"1\"><tr><th>is_pointer</th><td>False</td></tr><tr><th>modality</th><td>UNKNOWN</td></tr><tr><th>description</th><td>The binding affinity as boolean class label</td></tr><tr><th>user_attributes</th><td><table border=\"1\"><tr><th>objective</th><td>True</td></tr></table></td></tr><tr><th>dtype</th><td>bool</td></tr></table></td></tr></table></td></tr><tr><th>source</th><td>https://www.adaptyvbio.com</td></tr><tr><th>license</th><td>CC-BY-4.0</td></tr><tr><th>curation_reference</th><td>None</td></tr><tr><th>cache_dir</th><td>/Users/lu.zhu/Library/Caches/polaris/datasets/69ed8871-f69b-453b-adef-e34e76db9898</td></tr><tr><th>md5sum</th><td>7b6821da4069ec6a96603ac3cc238d3b</td></tr><tr><th>artifact_id</th><td>adaptyv-bio/il7ra-binders-v1</td></tr><tr><th>n_rows</th><td>95</td></tr><tr><th>n_columns</th><td>4</td></tr></table>"
      ],
      "text/plain": [
       "{\n",
       "  \"name\": \"IL7Ra_binders-v1\",\n",
       "  \"description\": \"This dataset includes binding protein designs targeting the interleukin-7 receptor alpha chain (IL7RA), a drug target associated with various diseases.\",\n",
       "  \"tags\": [\n",
       "    \"protein-design\"\n",
       "  ],\n",
       "  \"user_attributes\": {},\n",
       "  \"owner\": \"adaptyv-bio\",\n",
       "  \"polaris_version\": \"0.7.9\",\n",
       "  \"default_adapters\": {},\n",
       "  \"zarr_root_path\": null,\n",
       "  \"readme\": \"\",\n",
       "  \"annotations\": {\n",
       "    \"sequence\": {\n",
       "      \"is_pointer\": false,\n",
       "      \"modality\": \"UNKNOWN\",\n",
       "      \"description\": \"Protein sequence in fasta format\",\n",
       "      \"user_attributes\": {},\n",
       "      \"dtype\": \"object\"\n",
       "    },\n",
       "    \"KD\": {\n",
       "      \"is_pointer\": false,\n",
       "      \"modality\": \"UNKNOWN\",\n",
       "      \"description\": \"Kd for the measure of binding affinity.\",\n",
       "      \"user_attributes\": {\n",
       "        \"unit\": \"M\",\n",
       "        \"objective\": \"Lower value\"\n",
       "      },\n",
       "      \"dtype\": \"object\"\n",
       "    },\n",
       "    \"Binder_class\": {\n",
       "      \"is_pointer\": false,\n",
       "      \"modality\": \"UNKNOWN\",\n",
       "      \"description\": \"The binding affinity as three classes labels.\",\n",
       "      \"user_attributes\": {\n",
       "        \"objective\": \"strong\"\n",
       "      },\n",
       "      \"dtype\": \"object\"\n",
       "    },\n",
       "    \"Binder_bool\": {\n",
       "      \"is_pointer\": false,\n",
       "      \"modality\": \"UNKNOWN\",\n",
       "      \"description\": \"The binding affinity as boolean class label\",\n",
       "      \"user_attributes\": {\n",
       "        \"objective\": \"True\"\n",
       "      },\n",
       "      \"dtype\": \"bool\"\n",
       "    }\n",
       "  },\n",
       "  \"source\": \"https://www.adaptyvbio.com\",\n",
       "  \"license\": \"CC-BY-4.0\",\n",
       "  \"curation_reference\": null,\n",
       "  \"cache_dir\": \"/Users/lu.zhu/Library/Caches/polaris/datasets/69ed8871-f69b-453b-adef-e34e76db9898\",\n",
       "  \"md5sum\": \"7b6821da4069ec6a96603ac3cc238d3b\",\n",
       "  \"artifact_id\": \"adaptyv-bio/il7ra-binders-v1\",\n",
       "  \"n_rows\": 95,\n",
       "  \"n_columns\": 4\n",
       "}"
      ]
     },
     "execution_count": 24,
     "metadata": {},
     "output_type": "execute_result"
    }
   ],
   "source": [
    "dataset"
   ]
  },
  {
   "cell_type": "code",
   "execution_count": 21,
   "metadata": {},
   "outputs": [
    {
     "data": {
      "text/plain": [
       "'gs://polaris-public/polaris-recipes/org-AdaptyvBio/IL7Ra_binders/datasets/IL7Ra_binders-v1/dataset.json'"
      ]
     },
     "execution_count": 21,
     "metadata": {},
     "output_type": "execute_result"
    }
   ],
   "source": [
    "# save the dataset to GCP\n",
    "SAVE_DIR = f\"{DATASET_DIR}/{dataset_name}\"\n",
    "dataset_path = dataset.to_json(SAVE_DIR)\n",
    "dataset_path"
   ]
  },
  {
   "cell_type": "markdown",
   "metadata": {},
   "source": [
    "### Upload the dataset to the hub"
   ]
  },
  {
   "cell_type": "code",
   "execution_count": 23,
   "metadata": {},
   "outputs": [
    {
     "name": "stdout",
     "output_type": "stream",
     "text": [
      "💥 ERROR: Failed to upload dataset. \n"
     ]
    },
    {
     "name": "stderr",
     "output_type": "stream",
     "text": [
      "/Users/lu.zhu/miniconda3/envs/po_dataset/lib/python3.12/site-packages/yaspin/core.py:228: UserWarning: color, on_color and attrs are not supported when running in jupyter\n",
      "  self._color = self._set_color(value) if value else value\n"
     ]
    },
    {
     "ename": "PolarisCreateArtifactError",
     "evalue": "The request to the Polaris Hub failed. The Hub responded with:\n{\n  \"message\": \"Cannot create a dataset for owner 'adaptyv-bio'\"\n}\n\u001b[1m\u001b[93mNote: If you can confirm that you are authorized to perform this action, please call 'polaris login --overwrite' and try again. If the issue persists, please reach out to the Polaris team for support.\u001b[0m",
     "output_type": "error",
     "traceback": [
      "\u001b[0;31m---------------------------------------------------------------------------\u001b[0m",
      "\u001b[0;31mHTTPStatusError\u001b[0m                           Traceback (most recent call last)",
      "File \u001b[0;32m~/miniconda3/envs/po_dataset/lib/python3.12/site-packages/polaris/hub/client.py:168\u001b[0m, in \u001b[0;36mPolarisHubClient._base_request_to_hub\u001b[0;34m(self, url, method, **kwargs)\u001b[0m\n\u001b[1;32m    167\u001b[0m \u001b[38;5;28;01mtry\u001b[39;00m:\n\u001b[0;32m--> 168\u001b[0m     \u001b[43mresponse\u001b[49m\u001b[38;5;241;43m.\u001b[39;49m\u001b[43mraise_for_status\u001b[49m\u001b[43m(\u001b[49m\u001b[43m)\u001b[49m\n\u001b[1;32m    170\u001b[0m \u001b[38;5;28;01mexcept\u001b[39;00m HTTPStatusError \u001b[38;5;28;01mas\u001b[39;00m error:\n",
      "File \u001b[0;32m~/miniconda3/envs/po_dataset/lib/python3.12/site-packages/httpx/_models.py:761\u001b[0m, in \u001b[0;36mResponse.raise_for_status\u001b[0;34m(self)\u001b[0m\n\u001b[1;32m    760\u001b[0m message \u001b[38;5;241m=\u001b[39m message\u001b[38;5;241m.\u001b[39mformat(\u001b[38;5;28mself\u001b[39m, error_type\u001b[38;5;241m=\u001b[39merror_type)\n\u001b[0;32m--> 761\u001b[0m \u001b[38;5;28;01mraise\u001b[39;00m HTTPStatusError(message, request\u001b[38;5;241m=\u001b[39mrequest, response\u001b[38;5;241m=\u001b[39m\u001b[38;5;28mself\u001b[39m)\n",
      "\u001b[0;31mHTTPStatusError\u001b[0m: Client error '403 Forbidden' for url 'https://polarishub.io/api/v1/dataset/adaptyv-bio/IL7Ra_binders-v1'\nFor more information check: https://developer.mozilla.org/en-US/docs/Web/HTTP/Status/403",
      "\nThe above exception was the direct cause of the following exception:\n",
      "\u001b[0;31mPolarisCreateArtifactError\u001b[0m                Traceback (most recent call last)",
      "Cell \u001b[0;32mIn[23], line 1\u001b[0m\n\u001b[0;32m----> 1\u001b[0m \u001b[43mdataset\u001b[49m\u001b[38;5;241;43m.\u001b[39;49m\u001b[43mupload_to_hub\u001b[49m\u001b[43m(\u001b[49m\u001b[43m)\u001b[49m\n",
      "File \u001b[0;32m~/miniconda3/envs/po_dataset/lib/python3.12/site-packages/polaris/dataset/_dataset.py:377\u001b[0m, in \u001b[0;36mDataset.upload_to_hub\u001b[0;34m(self, access, owner)\u001b[0m\n\u001b[1;32m    370\u001b[0m \u001b[38;5;28;01mdef\u001b[39;00m \u001b[38;5;21mupload_to_hub\u001b[39m(\n\u001b[1;32m    371\u001b[0m     \u001b[38;5;28mself\u001b[39m, access: Optional[AccessType] \u001b[38;5;241m=\u001b[39m \u001b[38;5;124m\"\u001b[39m\u001b[38;5;124mprivate\u001b[39m\u001b[38;5;124m\"\u001b[39m, owner: Optional[Union[HubOwner, \u001b[38;5;28mstr\u001b[39m]] \u001b[38;5;241m=\u001b[39m \u001b[38;5;28;01mNone\u001b[39;00m\n\u001b[1;32m    372\u001b[0m ):\n\u001b[1;32m    373\u001b[0m \u001b[38;5;250m    \u001b[39m\u001b[38;5;124;03m\"\"\"\u001b[39;00m\n\u001b[1;32m    374\u001b[0m \u001b[38;5;124;03m    Very light, convenient wrapper around the\u001b[39;00m\n\u001b[1;32m    375\u001b[0m \u001b[38;5;124;03m    [`PolarisHubClient.upload_dataset`][polaris.hub.client.PolarisHubClient.upload_dataset] method.\u001b[39;00m\n\u001b[1;32m    376\u001b[0m \u001b[38;5;124;03m    \"\"\"\u001b[39;00m\n\u001b[0;32m--> 377\u001b[0m     \u001b[38;5;28;43mself\u001b[39;49m\u001b[38;5;241;43m.\u001b[39;49m\u001b[43mclient\u001b[49m\u001b[38;5;241;43m.\u001b[39;49m\u001b[43mupload_dataset\u001b[49m\u001b[43m(\u001b[49m\u001b[38;5;28;43mself\u001b[39;49m\u001b[43m,\u001b[49m\u001b[43m \u001b[49m\u001b[43maccess\u001b[49m\u001b[38;5;241;43m=\u001b[39;49m\u001b[43maccess\u001b[49m\u001b[43m,\u001b[49m\u001b[43m \u001b[49m\u001b[43mowner\u001b[49m\u001b[38;5;241;43m=\u001b[39;49m\u001b[43mowner\u001b[49m\u001b[43m)\u001b[49m\n",
      "File \u001b[0;32m~/miniconda3/envs/po_dataset/lib/python3.12/site-packages/polaris/hub/client.py:575\u001b[0m, in \u001b[0;36mPolarisHubClient.upload_dataset\u001b[0;34m(self, dataset, access, timeout, owner, if_exists)\u001b[0m\n\u001b[1;32m    571\u001b[0m \u001b[38;5;66;03m# Step 1: Upload meta-data\u001b[39;00m\n\u001b[1;32m    572\u001b[0m \u001b[38;5;66;03m# Instead of directly uploading the data, we announce to the hub that we intend to upload it.\u001b[39;00m\n\u001b[1;32m    573\u001b[0m \u001b[38;5;66;03m# We do so separately for the Zarr archive and Parquet file.\u001b[39;00m\n\u001b[1;32m    574\u001b[0m url \u001b[38;5;241m=\u001b[39m \u001b[38;5;124mf\u001b[39m\u001b[38;5;124m\"\u001b[39m\u001b[38;5;124m/dataset/\u001b[39m\u001b[38;5;132;01m{\u001b[39;00mdataset\u001b[38;5;241m.\u001b[39mowner\u001b[38;5;132;01m}\u001b[39;00m\u001b[38;5;124m/\u001b[39m\u001b[38;5;132;01m{\u001b[39;00mdataset\u001b[38;5;241m.\u001b[39mname\u001b[38;5;132;01m}\u001b[39;00m\u001b[38;5;124m\"\u001b[39m\n\u001b[0;32m--> 575\u001b[0m response \u001b[38;5;241m=\u001b[39m \u001b[38;5;28;43mself\u001b[39;49m\u001b[38;5;241;43m.\u001b[39;49m\u001b[43m_base_request_to_hub\u001b[49m\u001b[43m(\u001b[49m\n\u001b[1;32m    576\u001b[0m \u001b[43m    \u001b[49m\u001b[43murl\u001b[49m\u001b[38;5;241;43m=\u001b[39;49m\u001b[43murl\u001b[49m\u001b[43m,\u001b[49m\n\u001b[1;32m    577\u001b[0m \u001b[43m    \u001b[49m\u001b[43mmethod\u001b[49m\u001b[38;5;241;43m=\u001b[39;49m\u001b[38;5;124;43m\"\u001b[39;49m\u001b[38;5;124;43mPUT\u001b[39;49m\u001b[38;5;124;43m\"\u001b[39;49m\u001b[43m,\u001b[49m\n\u001b[1;32m    578\u001b[0m \u001b[43m    \u001b[49m\u001b[43mjson\u001b[49m\u001b[38;5;241;43m=\u001b[39;49m\u001b[43m{\u001b[49m\n\u001b[1;32m    579\u001b[0m \u001b[43m        \u001b[49m\u001b[38;5;124;43m\"\u001b[39;49m\u001b[38;5;124;43mtableContent\u001b[39;49m\u001b[38;5;124;43m\"\u001b[39;49m\u001b[43m:\u001b[49m\u001b[43m \u001b[49m\u001b[43m{\u001b[49m\n\u001b[1;32m    580\u001b[0m \u001b[43m            \u001b[49m\u001b[38;5;124;43m\"\u001b[39;49m\u001b[38;5;124;43msize\u001b[39;49m\u001b[38;5;124;43m\"\u001b[39;49m\u001b[43m:\u001b[49m\u001b[43m \u001b[49m\u001b[43mparquet_size\u001b[49m\u001b[43m,\u001b[49m\n\u001b[1;32m    581\u001b[0m \u001b[43m            \u001b[49m\u001b[38;5;124;43m\"\u001b[39;49m\u001b[38;5;124;43mfileType\u001b[39;49m\u001b[38;5;124;43m\"\u001b[39;49m\u001b[43m:\u001b[49m\u001b[43m \u001b[49m\u001b[38;5;124;43m\"\u001b[39;49m\u001b[38;5;124;43mparquet\u001b[39;49m\u001b[38;5;124;43m\"\u001b[39;49m\u001b[43m,\u001b[49m\n\u001b[1;32m    582\u001b[0m \u001b[43m            \u001b[49m\u001b[38;5;124;43m\"\u001b[39;49m\u001b[38;5;124;43mmd5Sum\u001b[39;49m\u001b[38;5;124;43m\"\u001b[39;49m\u001b[43m:\u001b[49m\u001b[43m \u001b[49m\u001b[43mparquet_md5\u001b[49m\u001b[43m,\u001b[49m\n\u001b[1;32m    583\u001b[0m \u001b[43m        \u001b[49m\u001b[43m}\u001b[49m\u001b[43m,\u001b[49m\n\u001b[1;32m    584\u001b[0m \u001b[43m        \u001b[49m\u001b[38;5;124;43m\"\u001b[39;49m\u001b[38;5;124;43mzarrContent\u001b[39;49m\u001b[38;5;124;43m\"\u001b[39;49m\u001b[43m:\u001b[49m\u001b[43m \u001b[49m\u001b[43m[\u001b[49m\u001b[43mmd5sum\u001b[49m\u001b[38;5;241;43m.\u001b[39;49m\u001b[43mmodel_dump\u001b[49m\u001b[43m(\u001b[49m\u001b[43m)\u001b[49m\u001b[43m \u001b[49m\u001b[38;5;28;43;01mfor\u001b[39;49;00m\u001b[43m \u001b[49m\u001b[43mmd5sum\u001b[49m\u001b[43m \u001b[49m\u001b[38;5;129;43;01min\u001b[39;49;00m\u001b[43m \u001b[49m\u001b[43mdataset\u001b[49m\u001b[38;5;241;43m.\u001b[39;49m\u001b[43m_zarr_md5sum_manifest\u001b[49m\u001b[43m]\u001b[49m\u001b[43m,\u001b[49m\n\u001b[1;32m    585\u001b[0m \u001b[43m        \u001b[49m\u001b[38;5;124;43m\"\u001b[39;49m\u001b[38;5;124;43maccess\u001b[39;49m\u001b[38;5;124;43m\"\u001b[39;49m\u001b[43m:\u001b[49m\u001b[43m \u001b[49m\u001b[43maccess\u001b[49m\u001b[43m,\u001b[49m\n\u001b[1;32m    586\u001b[0m \u001b[43m        \u001b[49m\u001b[38;5;241;43m*\u001b[39;49m\u001b[38;5;241;43m*\u001b[39;49m\u001b[43mdataset_json\u001b[49m\u001b[43m,\u001b[49m\n\u001b[1;32m    587\u001b[0m \u001b[43m    \u001b[49m\u001b[43m}\u001b[49m\u001b[43m,\u001b[49m\n\u001b[1;32m    588\u001b[0m \u001b[43m    \u001b[49m\u001b[43mtimeout\u001b[49m\u001b[38;5;241;43m=\u001b[39;49m\u001b[43mtimeout\u001b[49m\u001b[43m,\u001b[49m\n\u001b[1;32m    589\u001b[0m \u001b[43m\u001b[49m\u001b[43m)\u001b[49m\n\u001b[1;32m    591\u001b[0m \u001b[38;5;66;03m# Step 2: Upload the parquet file\u001b[39;00m\n\u001b[1;32m    592\u001b[0m \u001b[38;5;66;03m# create an empty PUT request to get the table content URL from cloudflare\u001b[39;00m\n\u001b[1;32m    593\u001b[0m hub_response \u001b[38;5;241m=\u001b[39m \u001b[38;5;28mself\u001b[39m\u001b[38;5;241m.\u001b[39mrequest(\n\u001b[1;32m    594\u001b[0m     url\u001b[38;5;241m=\u001b[39mresponse[\u001b[38;5;124m\"\u001b[39m\u001b[38;5;124mtableContent\u001b[39m\u001b[38;5;124m\"\u001b[39m][\u001b[38;5;124m\"\u001b[39m\u001b[38;5;124murl\u001b[39m\u001b[38;5;124m\"\u001b[39m],\n\u001b[1;32m    595\u001b[0m     method\u001b[38;5;241m=\u001b[39m\u001b[38;5;124m\"\u001b[39m\u001b[38;5;124mPUT\u001b[39m\u001b[38;5;124m\"\u001b[39m,\n\u001b[0;32m   (...)\u001b[0m\n\u001b[1;32m    599\u001b[0m     timeout\u001b[38;5;241m=\u001b[39mtimeout,\n\u001b[1;32m    600\u001b[0m )\n",
      "File \u001b[0;32m~/miniconda3/envs/po_dataset/lib/python3.12/site-packages/polaris/hub/client.py:195\u001b[0m, in \u001b[0;36mPolarisHubClient._base_request_to_hub\u001b[0;34m(self, url, method, **kwargs)\u001b[0m\n\u001b[1;32m    191\u001b[0m \u001b[38;5;66;03m# The below two error cases can happen due to the JWT token containing outdated information.\u001b[39;00m\n\u001b[1;32m    192\u001b[0m \u001b[38;5;66;03m# We therefore throw a custom error with a recommended next step.\u001b[39;00m\n\u001b[1;32m    193\u001b[0m \u001b[38;5;28;01mif\u001b[39;00m response_status_code \u001b[38;5;241m==\u001b[39m \u001b[38;5;241m403\u001b[39m:\n\u001b[1;32m    194\u001b[0m     \u001b[38;5;66;03m# This happens when trying to create an artifact for an owner the user has no access to.\u001b[39;00m\n\u001b[0;32m--> 195\u001b[0m     \u001b[38;5;28;01mraise\u001b[39;00m PolarisCreateArtifactError(response\u001b[38;5;241m=\u001b[39mresponse) \u001b[38;5;28;01mfrom\u001b[39;00m \u001b[38;5;21;01merror\u001b[39;00m\n\u001b[1;32m    197\u001b[0m \u001b[38;5;28;01mif\u001b[39;00m response_status_code \u001b[38;5;241m==\u001b[39m \u001b[38;5;241m404\u001b[39m:\n\u001b[1;32m    198\u001b[0m     \u001b[38;5;66;03m# This happens when an artifact doesn't exist _or_ when the user has no access to that artifact.\u001b[39;00m\n\u001b[1;32m    199\u001b[0m     \u001b[38;5;28;01mraise\u001b[39;00m PolarisRetrieveArtifactError(response\u001b[38;5;241m=\u001b[39mresponse) \u001b[38;5;28;01mfrom\u001b[39;00m \u001b[38;5;21;01merror\u001b[39;00m\n",
      "\u001b[0;31mPolarisCreateArtifactError\u001b[0m: The request to the Polaris Hub failed. The Hub responded with:\n{\n  \"message\": \"Cannot create a dataset for owner 'adaptyv-bio'\"\n}\n\u001b[1m\u001b[93mNote: If you can confirm that you are authorized to perform this action, please call 'polaris login --overwrite' and try again. If the issue persists, please reach out to the Polaris team for support.\u001b[0m"
     ]
    }
   ],
   "source": [
    "dataset.upload_to_hub()"
   ]
  },
  {
   "cell_type": "markdown",
   "metadata": {},
   "source": []
  }
 ],
 "metadata": {
  "kernelspec": {
   "display_name": "po_datasets",
   "language": "python",
   "name": "python3"
  },
  "language_info": {
   "codemirror_mode": {
    "name": "ipython",
    "version": 3
   },
   "file_extension": ".py",
   "mimetype": "text/x-python",
   "name": "python",
   "nbconvert_exporter": "python",
   "pygments_lexer": "ipython3",
   "version": "3.12.4"
  }
 },
 "nbformat": 4,
 "nbformat_minor": 2
}
