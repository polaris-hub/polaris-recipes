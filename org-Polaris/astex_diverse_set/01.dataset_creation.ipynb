{
 "cells": [
  {
   "cell_type": "markdown",
   "metadata": {},
   "source": [
    "This notebook outlines the steps for dataset creation of Astex Diverse Set.\n",
    "\n"
   ]
  },
  {
   "cell_type": "markdown",
   "metadata": {},
   "source": [
    "## Background\n",
    "\n",
    "The Astex Diverse set is a well-established and commonly-used benchmark for evaluating docking methods. It was published in 2007 is a set of hand-picked, relevant, diverse, and high-quality protein–ligand complexes from the PDB. The complexes were downloaded from the PDB as MMTF files and PyMOL was used to remove solvents and all occurrences of the ligand of interest from the complexes before saving the proteins with the cofactors in PDB files and the ligands in SDF files.\n",
    "\n",
    "## Data source\n",
    "- Reference: [Hartshorn  et al.](https://pubs.acs.org/doi/abs/10.1021/jm061277y)\n",
    "- Orignial: https://zenodo.org/records/8278563\n",
    "- Polaris: polaris-public/polaris-recipes/org-polaris/posebusters/posebusters_paper_data/astex_diverse_set\n"
   ]
  },
  {
   "cell_type": "code",
   "execution_count": 1,
   "metadata": {},
   "outputs": [],
   "source": [
    "%load_ext autoreload\n",
    "%autoreload 2\n",
    "from pathlib import Path\n",
    "import platformdirs\n",
    "import numpy as np\n",
    "import pandas as pd\n",
    "import datamol as dm\n",
    "from polaris.dataset import DatasetFactory\n",
    "from polaris.dataset.converters import SDFConverter, PDBConverter, ZarrConverter"
   ]
  },
  {
   "cell_type": "code",
   "execution_count": 5,
   "metadata": {},
   "outputs": [],
   "source": [
    "DATA_ROOT = \"/Users/lu.zhu/Downloads/8278563/posebusters_paper_data\"\n",
    "dataset_name = \"astex_diverse_set\"\n",
    "proteins = [Path(folder).name for folder in dm.fs.glob(f\"{DATA_ROOT}/{dataset_name}/*\")]\n",
    "file_list = [\"ligand\", \"ligand_start_conf\", \"ligands\", \"protein\"]\n",
    "\n",
    "\n",
    "SAVE_DIR = dm.fs.join(\n",
    "    platformdirs.user_cache_dir(appname=\"polaris-recipes\"), \"posebusters\"\n",
    ")"
   ]
  },
  {
   "cell_type": "code",
   "execution_count": 6,
   "metadata": {},
   "outputs": [],
   "source": [
    "ligands = [\n",
    "    dm.fs.join(DATA_ROOT, dataset_name, protein, f\"{protein}_ligands.sdf\")\n",
    "    for protein in proteins\n",
    "]\n",
    "ligand_start_conf = [\n",
    "    dm.fs.join(DATA_ROOT, dataset_name, protein, f\"{protein}_ligand_start_conf.sdf\")\n",
    "    for protein in proteins\n",
    "]\n",
    "ligand = [\n",
    "    dm.fs.join(DATA_ROOT, dataset_name, protein, f\"{protein}_ligand.sdf\")\n",
    "    for protein in proteins\n",
    "]\n",
    "protein = [\n",
    "    dm.fs.join(DATA_ROOT, dataset_name, protein, f\"{protein}_protein.pdb\")\n",
    "    for protein in proteins\n",
    "]"
   ]
  },
  {
   "cell_type": "code",
   "execution_count": 7,
   "metadata": {},
   "outputs": [],
   "source": [
    "# Preprocess sdf and add protein group\n",
    "# This step is to facilitate the data aggregation later on\n",
    "# It's neccessary for adding a list of ligands and conformers for one protein in a single row in the dataset\n",
    "ligands_files = []\n",
    "for sdf in ligands:\n",
    "    mols = dm.read_sdf(sdf)\n",
    "    protein_name = Path(sdf).parent.name\n",
    "    for mol in mols:\n",
    "        mol.SetProp(\"protein_group\", protein_name)\n",
    "    url = dm.fs.join(SAVE_DIR, protein_name, Path(sdf).name)\n",
    "    dm.to_sdf(mols, url)\n",
    "    ligands_files.append(url)"
   ]
  },
  {
   "cell_type": "code",
   "execution_count": 8,
   "metadata": {},
   "outputs": [],
   "source": [
    "# Create a new factory\n",
    "\n",
    "save_dst = dm.fs.join(SAVE_DIR, f\"{dataset_name}.zarr\")\n",
    "factory = DatasetFactory(zarr_root_path=save_dst)\n",
    "factory.reset(save_dst)\n",
    "\n",
    "converter = SDFConverter(\n",
    "        smiles_column=f\"ligands_smiles\",\n",
    "        mol_column=\"ligands\",\n",
    "    ) \n",
    "\n",
    "factory.register_converter(\n",
    "    \"sdf\",\n",
    "    converter\n",
    ")\n",
    "factory.add_from_files(paths=ligands_files, axis=0)\n",
    "\n",
    "# aggregate the table to map a list of ligands to one protein\n",
    "agg_fn_ligands = lambda x: converter.get_pointer(converter.mol_column, f\"{x.index[0]}:{x.index[-1]}\" if len(x) >1 else f\"{x.index[0]}\" )\n",
    "agg_fn_ligands_smiles = lambda x: str(np.unique(x).tolist())\n",
    "factory._table = factory._table.groupby(\"protein_group\").agg({\"ligands\": agg_fn_ligands, \"ligands_smiles\":agg_fn_ligands_smiles}).reset_index()"
   ]
  },
  {
   "cell_type": "code",
   "execution_count": 9,
   "metadata": {},
   "outputs": [
    {
     "name": "stderr",
     "output_type": "stream",
     "text": [
      "\u001b[32m2024-08-27 11:52:30.551\u001b[0m | \u001b[1mINFO    \u001b[0m | \u001b[36mpolaris.dataset._factory\u001b[0m:\u001b[36mregister_converter\u001b[0m:\u001b[36m136\u001b[0m - \u001b[1mYou are overwriting the converter for the sdf extension.\u001b[0m\n",
      "\u001b[32m2024-08-27 11:52:30.822\u001b[0m | \u001b[1mINFO    \u001b[0m | \u001b[36mpolaris.dataset._factory\u001b[0m:\u001b[36mregister_converter\u001b[0m:\u001b[36m136\u001b[0m - \u001b[1mYou are overwriting the converter for the sdf extension.\u001b[0m\n"
     ]
    }
   ],
   "source": [
    "# add protein pdbs\n",
    "factory.register_converter(\"pdb\", PDBConverter(pdb_column=\"protein\"))\n",
    "factory.add_from_files(paths=protein, axis=0)\n",
    "\n",
    "# add ligand sdfs\n",
    "factory.register_converter(\n",
    "    \"sdf\",\n",
    "    SDFConverter(\n",
    "        smiles_column=\"ligand_smiles\", mol_column=\"ligand\", mol_prop_as_cols=False\n",
    "    ),\n",
    ")\n",
    "factory.add_from_files(paths=ligand, axis=0)\n",
    "\n",
    "# add ligand start conformers\n",
    "factory.register_converter(\n",
    "    \"sdf\",\n",
    "    SDFConverter(\n",
    "        smiles_column=\"ligand_start_conf_smiles\",\n",
    "        mol_column=\"ligand_start_conf\",\n",
    "        mol_prop_as_cols=False,\n",
    "    ),\n",
    ")\n",
    "factory.add_from_files(paths=ligand_start_conf, axis=0)"
   ]
  },
  {
   "cell_type": "code",
   "execution_count": 10,
   "metadata": {},
   "outputs": [],
   "source": [
    "# Build the dataset through factory\n",
    "dataset = factory.build()"
   ]
  },
  {
   "cell_type": "code",
   "execution_count": 17,
   "metadata": {},
   "outputs": [
    {
     "name": "stderr",
     "output_type": "stream",
     "text": [
      "\u001b[32m2024-08-27 11:23:39.048\u001b[0m | \u001b[1mINFO    \u001b[0m | \u001b[36mpolaris.mixins._checksum\u001b[0m:\u001b[36mmd5sum\u001b[0m:\u001b[36m27\u001b[0m - \u001b[1mComputing the checksum. This can be slow for large datasets.\u001b[0m\n",
      "Finding all files in the Zarr archive: 100%|██████████| 14057/14057 [00:01<00:00, 8218.85it/s]\n"
     ]
    },
    {
     "data": {
      "text/html": [
       "<table border=\"1\"><tr><th>name</th><td>None</td></tr><tr><th>description</th><td></td></tr><tr><th>tags</th><td></td></tr><tr><th>user_attributes</th><td></td></tr><tr><th>owner</th><td>None</td></tr><tr><th>polaris_version</th><td>0.8.0</td></tr><tr><th>default_adapters</th><td><table border=\"1\"><tr><th>ligands</th><td>BYTES_TO_MOL</td></tr><tr><th>protein</th><td>ARRAY_TO_PDB</td></tr><tr><th>ligand</th><td>BYTES_TO_MOL</td></tr><tr><th>ligand_start_conf</th><td>BYTES_TO_MOL</td></tr></table></td></tr><tr><th>zarr_root_path</th><td>/Users/lu.zhu/Library/Caches/polaris-recipes/posebusters/posebusters_benchmark_set.zarr</td></tr><tr><th>readme</th><td></td></tr><tr><th>annotations</th><td><table border=\"1\"><tr><th>ligands_smiles</th><td><table border=\"1\"><tr><th>is_pointer</th><td>False</td></tr><tr><th>modality</th><td>MOLECULE</td></tr><tr><th>description</th><td>None</td></tr><tr><th>user_attributes</th><td></td></tr><tr><th>dtype</th><td>object</td></tr><tr><th>content_type</th><td>SMILES</td></tr></table></td></tr><tr><th>protein_group</th><td><table border=\"1\"><tr><th>is_pointer</th><td>False</td></tr><tr><th>modality</th><td>UNKNOWN</td></tr><tr><th>description</th><td>None</td></tr><tr><th>user_attributes</th><td></td></tr><tr><th>dtype</th><td>object</td></tr><tr><th>content_type</th><td>None</td></tr></table></td></tr><tr><th>ligands</th><td><table border=\"1\"><tr><th>is_pointer</th><td>True</td></tr><tr><th>modality</th><td>MOLECULE_3D</td></tr><tr><th>description</th><td>None</td></tr><tr><th>user_attributes</th><td></td></tr><tr><th>dtype</th><td>object</td></tr><tr><th>content_type</th><td>None</td></tr></table></td></tr><tr><th>protein</th><td><table border=\"1\"><tr><th>is_pointer</th><td>True</td></tr><tr><th>modality</th><td>PROTEIN_3D</td></tr><tr><th>description</th><td>None</td></tr><tr><th>user_attributes</th><td></td></tr><tr><th>dtype</th><td>object</td></tr><tr><th>content_type</th><td>PDB</td></tr></table></td></tr><tr><th>ligand_smiles</th><td><table border=\"1\"><tr><th>is_pointer</th><td>False</td></tr><tr><th>modality</th><td>MOLECULE</td></tr><tr><th>description</th><td>None</td></tr><tr><th>user_attributes</th><td></td></tr><tr><th>dtype</th><td>object</td></tr><tr><th>content_type</th><td>SMILES</td></tr></table></td></tr><tr><th>ligand</th><td><table border=\"1\"><tr><th>is_pointer</th><td>True</td></tr><tr><th>modality</th><td>MOLECULE_3D</td></tr><tr><th>description</th><td>None</td></tr><tr><th>user_attributes</th><td></td></tr><tr><th>dtype</th><td>object</td></tr><tr><th>content_type</th><td>None</td></tr></table></td></tr><tr><th>ligand_start_conf_smiles</th><td><table border=\"1\"><tr><th>is_pointer</th><td>False</td></tr><tr><th>modality</th><td>MOLECULE</td></tr><tr><th>description</th><td>None</td></tr><tr><th>user_attributes</th><td></td></tr><tr><th>dtype</th><td>object</td></tr><tr><th>content_type</th><td>SMILES</td></tr></table></td></tr><tr><th>ligand_start_conf</th><td><table border=\"1\"><tr><th>is_pointer</th><td>True</td></tr><tr><th>modality</th><td>MOLECULE_3D</td></tr><tr><th>description</th><td>None</td></tr><tr><th>user_attributes</th><td></td></tr><tr><th>dtype</th><td>object</td></tr><tr><th>content_type</th><td>None</td></tr></table></td></tr></table></td></tr><tr><th>source</th><td>None</td></tr><tr><th>license</th><td>None</td></tr><tr><th>curation_reference</th><td>None</td></tr><tr><th>cache_dir</th><td>/Users/lu.zhu/Library/Caches/polaris/datasets/773a8475-bf7a-4f4c-85fc-5feea1564e77</td></tr><tr><th>md5sum</th><td>aae0b8451cc8bfa49fb8944b63e007ce</td></tr><tr><th>artifact_id</th><td>None</td></tr><tr><th>n_rows</th><td>428</td></tr><tr><th>n_columns</th><td>8</td></tr></table>"
      ],
      "text/plain": [
       "{\n",
       "  \"name\": null,\n",
       "  \"description\": \"\",\n",
       "  \"tags\": [],\n",
       "  \"user_attributes\": {},\n",
       "  \"owner\": null,\n",
       "  \"polaris_version\": \"0.8.0\",\n",
       "  \"default_adapters\": {\n",
       "    \"ligands\": \"BYTES_TO_MOL\",\n",
       "    \"protein\": \"ARRAY_TO_PDB\",\n",
       "    \"ligand\": \"BYTES_TO_MOL\",\n",
       "    \"ligand_start_conf\": \"BYTES_TO_MOL\"\n",
       "  },\n",
       "  \"zarr_root_path\": \"/Users/lu.zhu/Library/Caches/polaris-recipes/posebusters/posebusters_benchmark_set.zarr\",\n",
       "  \"readme\": \"\",\n",
       "  \"annotations\": {\n",
       "    \"ligands_smiles\": {\n",
       "      \"is_pointer\": false,\n",
       "      \"modality\": \"MOLECULE\",\n",
       "      \"description\": null,\n",
       "      \"user_attributes\": {},\n",
       "      \"dtype\": \"object\",\n",
       "      \"content_type\": \"SMILES\"\n",
       "    },\n",
       "    \"protein_group\": {\n",
       "      \"is_pointer\": false,\n",
       "      \"modality\": \"UNKNOWN\",\n",
       "      \"description\": null,\n",
       "      \"user_attributes\": {},\n",
       "      \"dtype\": \"object\",\n",
       "      \"content_type\": null\n",
       "    },\n",
       "    \"ligands\": {\n",
       "      \"is_pointer\": true,\n",
       "      \"modality\": \"MOLECULE_3D\",\n",
       "      \"description\": null,\n",
       "      \"user_attributes\": {},\n",
       "      \"dtype\": \"object\",\n",
       "      \"content_type\": null\n",
       "    },\n",
       "    \"protein\": {\n",
       "      \"is_pointer\": true,\n",
       "      \"modality\": \"PROTEIN_3D\",\n",
       "      \"description\": null,\n",
       "      \"user_attributes\": {},\n",
       "      \"dtype\": \"object\",\n",
       "      \"content_type\": \"PDB\"\n",
       "    },\n",
       "    \"ligand_smiles\": {\n",
       "      \"is_pointer\": false,\n",
       "      \"modality\": \"MOLECULE\",\n",
       "      \"description\": null,\n",
       "      \"user_attributes\": {},\n",
       "      \"dtype\": \"object\",\n",
       "      \"content_type\": \"SMILES\"\n",
       "    },\n",
       "    \"ligand\": {\n",
       "      \"is_pointer\": true,\n",
       "      \"modality\": \"MOLECULE_3D\",\n",
       "      \"description\": null,\n",
       "      \"user_attributes\": {},\n",
       "      \"dtype\": \"object\",\n",
       "      \"content_type\": null\n",
       "    },\n",
       "    \"ligand_start_conf_smiles\": {\n",
       "      \"is_pointer\": false,\n",
       "      \"modality\": \"MOLECULE\",\n",
       "      \"description\": null,\n",
       "      \"user_attributes\": {},\n",
       "      \"dtype\": \"object\",\n",
       "      \"content_type\": \"SMILES\"\n",
       "    },\n",
       "    \"ligand_start_conf\": {\n",
       "      \"is_pointer\": true,\n",
       "      \"modality\": \"MOLECULE_3D\",\n",
       "      \"description\": null,\n",
       "      \"user_attributes\": {},\n",
       "      \"dtype\": \"object\",\n",
       "      \"content_type\": null\n",
       "    }\n",
       "  },\n",
       "  \"source\": null,\n",
       "  \"license\": null,\n",
       "  \"curation_reference\": null,\n",
       "  \"cache_dir\": \"/Users/lu.zhu/Library/Caches/polaris/datasets/773a8475-bf7a-4f4c-85fc-5feea1564e77\",\n",
       "  \"md5sum\": \"aae0b8451cc8bfa49fb8944b63e007ce\",\n",
       "  \"artifact_id\": null,\n",
       "  \"n_rows\": 428,\n",
       "  \"n_columns\": 8\n",
       "}"
      ]
     },
     "execution_count": 17,
     "metadata": {},
     "output_type": "execute_result"
    }
   ],
   "source": [
    "dataset"
   ]
  },
  {
   "cell_type": "markdown",
   "metadata": {},
   "source": [
    "### Update the annotations"
   ]
  },
  {
   "cell_type": "code",
   "execution_count": 11,
   "metadata": {},
   "outputs": [],
   "source": [
    "dataset.annotations[\"protein\"].description = (\n",
    "    \"The protein structure without the ligand of interest without solvents and with all cofactors.\"\n",
    ")\n",
    "dataset.annotations[\"ligand\"].description = (\n",
    "    \"One of the instances of the ligand of interest. This crystal pose marks the binding site for those docking methods that require a binding site.\"\n",
    ")\n",
    "\n",
    "dataset.annotations[\"ligands\"].description = \"All instances of the ligand of interest.\"\n",
    "dataset.annotations[\"ligand_start_conf\"].description = (\n",
    "    \"One generated molecule conformation for the ligand of interest generated with RDKit's ETKDGv3 followed by an energy minimization with the UFF.\"\n",
    ")"
   ]
  },
  {
   "cell_type": "code",
   "execution_count": 14,
   "metadata": {},
   "outputs": [],
   "source": [
    "from polaris.utils.types import HubOwner\n",
    "dataset.owner = HubOwner(slug=\"polaris\")\n",
    "dataset.name = \"astex_diverse_set-v1\"\n",
    "dataset.tags = ['docking']\n",
    "dataset.description = \"The Astex Diverse set is a well-established and commonly-used benchmark for evaluating docking methods.\""
   ]
  },
  {
   "cell_type": "code",
   "execution_count": 13,
   "metadata": {},
   "outputs": [
    {
     "data": {
      "text/html": [
       "<table border=\"1\"><tr><th>name</th><td>astex_diverse_set-v1</td></tr><tr><th>description</th><td>The Astex Diverse set is a well-established and commonly-used benchmark for evaluating docking methods.</td></tr><tr><th>tags</th><td><ul><li>docking</li></ul></td></tr><tr><th>user_attributes</th><td></td></tr><tr><th>owner</th><td>polaris</td></tr><tr><th>polaris_version</th><td>0.8.0</td></tr><tr><th>default_adapters</th><td><table border=\"1\"><tr><th>ligands</th><td>BYTES_TO_MOL</td></tr><tr><th>protein</th><td>ARRAY_TO_PDB</td></tr><tr><th>ligand</th><td>BYTES_TO_MOL</td></tr><tr><th>ligand_start_conf</th><td>BYTES_TO_MOL</td></tr></table></td></tr><tr><th>zarr_root_path</th><td>/Users/lu.zhu/Library/Caches/polaris-recipes/posebusters/astex_diverse_set.zarr</td></tr><tr><th>readme</th><td></td></tr><tr><th>annotations</th><td><table border=\"1\"><tr><th>ligands_smiles</th><td><table border=\"1\"><tr><th>is_pointer</th><td>False</td></tr><tr><th>modality</th><td>MOLECULE</td></tr><tr><th>description</th><td>None</td></tr><tr><th>user_attributes</th><td></td></tr><tr><th>dtype</th><td>object</td></tr><tr><th>content_type</th><td>SMILES</td></tr></table></td></tr><tr><th>protein_group</th><td><table border=\"1\"><tr><th>is_pointer</th><td>False</td></tr><tr><th>modality</th><td>UNKNOWN</td></tr><tr><th>description</th><td>None</td></tr><tr><th>user_attributes</th><td></td></tr><tr><th>dtype</th><td>object</td></tr><tr><th>content_type</th><td>None</td></tr></table></td></tr><tr><th>ligands</th><td><table border=\"1\"><tr><th>is_pointer</th><td>True</td></tr><tr><th>modality</th><td>MOLECULE_3D</td></tr><tr><th>description</th><td>All instances of the ligand of interest.</td></tr><tr><th>user_attributes</th><td></td></tr><tr><th>dtype</th><td>object</td></tr><tr><th>content_type</th><td>None</td></tr></table></td></tr><tr><th>protein</th><td><table border=\"1\"><tr><th>is_pointer</th><td>True</td></tr><tr><th>modality</th><td>PROTEIN_3D</td></tr><tr><th>description</th><td>The protein structure without the ligand of interest without solvents and with all cofactors.</td></tr><tr><th>user_attributes</th><td></td></tr><tr><th>dtype</th><td>object</td></tr><tr><th>content_type</th><td>PDB</td></tr></table></td></tr><tr><th>ligand_smiles</th><td><table border=\"1\"><tr><th>is_pointer</th><td>False</td></tr><tr><th>modality</th><td>MOLECULE</td></tr><tr><th>description</th><td>None</td></tr><tr><th>user_attributes</th><td></td></tr><tr><th>dtype</th><td>object</td></tr><tr><th>content_type</th><td>SMILES</td></tr></table></td></tr><tr><th>ligand</th><td><table border=\"1\"><tr><th>is_pointer</th><td>True</td></tr><tr><th>modality</th><td>MOLECULE_3D</td></tr><tr><th>description</th><td>One of the instances of the ligand of interest. This crystal pose marks the binding site for those docking methods that require a binding site.</td></tr><tr><th>user_attributes</th><td></td></tr><tr><th>dtype</th><td>object</td></tr><tr><th>content_type</th><td>None</td></tr></table></td></tr><tr><th>ligand_start_conf_smiles</th><td><table border=\"1\"><tr><th>is_pointer</th><td>False</td></tr><tr><th>modality</th><td>MOLECULE</td></tr><tr><th>description</th><td>None</td></tr><tr><th>user_attributes</th><td></td></tr><tr><th>dtype</th><td>object</td></tr><tr><th>content_type</th><td>SMILES</td></tr></table></td></tr><tr><th>ligand_start_conf</th><td><table border=\"1\"><tr><th>is_pointer</th><td>True</td></tr><tr><th>modality</th><td>MOLECULE_3D</td></tr><tr><th>description</th><td>One generated molecule conformation for the ligand of interest generated with RDKit&#x27;s ETKDGv3 followed by an energy minimization with the UFF.</td></tr><tr><th>user_attributes</th><td></td></tr><tr><th>dtype</th><td>object</td></tr><tr><th>content_type</th><td>None</td></tr></table></td></tr></table></td></tr><tr><th>source</th><td>None</td></tr><tr><th>license</th><td>None</td></tr><tr><th>curation_reference</th><td>None</td></tr><tr><th>cache_dir</th><td>/Users/lu.zhu/Library/Caches/polaris/datasets/19ccc0a9-9ba0-4e75-9886-f56376bae0aa</td></tr><tr><th>md5sum</th><td>4c3021605382941ab4a9e90f38d23a48</td></tr><tr><th>artifact_id</th><td>polaris/astex-diverse-set-v1</td></tr><tr><th>n_rows</th><td>85</td></tr><tr><th>n_columns</th><td>8</td></tr></table>"
      ],
      "text/plain": [
       "{\n",
       "  \"name\": \"astex_diverse_set-v1\",\n",
       "  \"description\": \"The Astex Diverse set is a well-established and commonly-used benchmark for evaluating docking methods.\",\n",
       "  \"tags\": [\n",
       "    \"docking\"\n",
       "  ],\n",
       "  \"user_attributes\": {},\n",
       "  \"owner\": \"polaris\",\n",
       "  \"polaris_version\": \"0.8.0\",\n",
       "  \"default_adapters\": {\n",
       "    \"ligands\": \"BYTES_TO_MOL\",\n",
       "    \"protein\": \"ARRAY_TO_PDB\",\n",
       "    \"ligand\": \"BYTES_TO_MOL\",\n",
       "    \"ligand_start_conf\": \"BYTES_TO_MOL\"\n",
       "  },\n",
       "  \"zarr_root_path\": \"/Users/lu.zhu/Library/Caches/polaris-recipes/posebusters/astex_diverse_set.zarr\",\n",
       "  \"readme\": \"\",\n",
       "  \"annotations\": {\n",
       "    \"ligands_smiles\": {\n",
       "      \"is_pointer\": false,\n",
       "      \"modality\": \"MOLECULE\",\n",
       "      \"description\": null,\n",
       "      \"user_attributes\": {},\n",
       "      \"dtype\": \"object\",\n",
       "      \"content_type\": \"SMILES\"\n",
       "    },\n",
       "    \"protein_group\": {\n",
       "      \"is_pointer\": false,\n",
       "      \"modality\": \"UNKNOWN\",\n",
       "      \"description\": null,\n",
       "      \"user_attributes\": {},\n",
       "      \"dtype\": \"object\",\n",
       "      \"content_type\": null\n",
       "    },\n",
       "    \"ligands\": {\n",
       "      \"is_pointer\": true,\n",
       "      \"modality\": \"MOLECULE_3D\",\n",
       "      \"description\": \"All instances of the ligand of interest.\",\n",
       "      \"user_attributes\": {},\n",
       "      \"dtype\": \"object\",\n",
       "      \"content_type\": null\n",
       "    },\n",
       "    \"protein\": {\n",
       "      \"is_pointer\": true,\n",
       "      \"modality\": \"PROTEIN_3D\",\n",
       "      \"description\": \"The protein structure without the ligand of interest without solvents and with all cofactors.\",\n",
       "      \"user_attributes\": {},\n",
       "      \"dtype\": \"object\",\n",
       "      \"content_type\": \"PDB\"\n",
       "    },\n",
       "    \"ligand_smiles\": {\n",
       "      \"is_pointer\": false,\n",
       "      \"modality\": \"MOLECULE\",\n",
       "      \"description\": null,\n",
       "      \"user_attributes\": {},\n",
       "      \"dtype\": \"object\",\n",
       "      \"content_type\": \"SMILES\"\n",
       "    },\n",
       "    \"ligand\": {\n",
       "      \"is_pointer\": true,\n",
       "      \"modality\": \"MOLECULE_3D\",\n",
       "      \"description\": \"One of the instances of the ligand of interest. This crystal pose marks the binding site for those docking methods that require a binding site.\",\n",
       "      \"user_attributes\": {},\n",
       "      \"dtype\": \"object\",\n",
       "      \"content_type\": null\n",
       "    },\n",
       "    \"ligand_start_conf_smiles\": {\n",
       "      \"is_pointer\": false,\n",
       "      \"modality\": \"MOLECULE\",\n",
       "      \"description\": null,\n",
       "      \"user_attributes\": {},\n",
       "      \"dtype\": \"object\",\n",
       "      \"content_type\": \"SMILES\"\n",
       "    },\n",
       "    \"ligand_start_conf\": {\n",
       "      \"is_pointer\": true,\n",
       "      \"modality\": \"MOLECULE_3D\",\n",
       "      \"description\": \"One generated molecule conformation for the ligand of interest generated with RDKit's ETKDGv3 followed by an energy minimization with the UFF.\",\n",
       "      \"user_attributes\": {},\n",
       "      \"dtype\": \"object\",\n",
       "      \"content_type\": null\n",
       "    }\n",
       "  },\n",
       "  \"source\": null,\n",
       "  \"license\": null,\n",
       "  \"curation_reference\": null,\n",
       "  \"cache_dir\": \"/Users/lu.zhu/Library/Caches/polaris/datasets/19ccc0a9-9ba0-4e75-9886-f56376bae0aa\",\n",
       "  \"md5sum\": \"4c3021605382941ab4a9e90f38d23a48\",\n",
       "  \"artifact_id\": \"polaris/astex-diverse-set-v1\",\n",
       "  \"n_rows\": 85,\n",
       "  \"n_columns\": 8\n",
       "}"
      ]
     },
     "execution_count": 13,
     "metadata": {},
     "output_type": "execute_result"
    }
   ],
   "source": [
    "dataset"
   ]
  },
  {
   "cell_type": "code",
   "execution_count": 15,
   "metadata": {},
   "outputs": [
    {
     "name": "stderr",
     "output_type": "stream",
     "text": [
      "\u001b[32m2024-08-27 11:59:38.025\u001b[0m | \u001b[1mINFO    \u001b[0m | \u001b[36mpolaris.dataset._dataset\u001b[0m:\u001b[36mto_json\u001b[0m:\u001b[36m433\u001b[0m - \u001b[1mCopying Zarr archive to gs://polaris-public/polaris-recipes/org-polaris/posebusters/datasets/astex_diverse_set-v1/data.zarr. This may take a while.\u001b[0m\n"
     ]
    }
   ],
   "source": [
    "dataset.to_json(f\"gs://polaris-public/polaris-recipes/org-polaris/posebusters/datasets/{dataset.name}\")"
   ]
  },
  {
   "cell_type": "code",
   "execution_count": null,
   "metadata": {},
   "outputs": [],
   "source": []
  }
 ],
 "metadata": {
  "kernelspec": {
   "display_name": "auroris",
   "language": "python",
   "name": "python3"
  },
  "language_info": {
   "codemirror_mode": {
    "name": "ipython",
    "version": 3
   },
   "file_extension": ".py",
   "mimetype": "text/x-python",
   "name": "python",
   "nbconvert_exporter": "python",
   "pygments_lexer": "ipython3",
   "version": "3.12.3"
  }
 },
 "nbformat": 4,
 "nbformat_minor": 2
}
