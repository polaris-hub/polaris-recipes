{
 "cells": [
  {
   "cell_type": "markdown",
   "metadata": {},
   "source": [
    "This notebook outlines the steps for dataset creation of Astex Diverse Set.\n",
    "\n"
   ]
  },
  {
   "cell_type": "markdown",
   "metadata": {},
   "source": [
    "## Background\n",
    "\n",
    "The Astex Diverse set is a well-established and commonly-used benchmark for evaluating docking methods. It was published in 2007 is a set of hand-picked, relevant, diverse, and high-quality protein–ligand complexes from the PDB. The complexes were downloaded from the PDB as MMTF files and PyMOL was used to remove solvents and all occurrences of the ligand of interest from the complexes before saving the proteins with the cofactors in PDB files and the ligands in SDF files.\n",
    "\n",
    "## Data source\n",
    "- Reference: [Hartshorn  et al.](https://pubs.acs.org/doi/abs/10.1021/jm061277y)\n",
    "- Orignial: https://zenodo.org/records/8278563\n",
    "- Polaris: polaris-public/polaris-recipes/org-polaris/posebusters/posebusters_paper_data/astex_diverse_set\n"
   ]
  },
  {
   "cell_type": "code",
   "execution_count": null,
   "metadata": {},
   "outputs": [],
   "source": [
    "%load_ext autoreload\n",
    "%autoreload 2\n",
    "from pathlib import Path\n",
    "import platformdirs\n",
    "import os\n",
    "import numpy as np\n",
    "import pandas as pd\n",
    "import datamol as dm\n",
    "from polaris.dataset import DatasetFactory\n",
    "from polaris.dataset.converters import SDFConverter, PDBConverter, ZarrConverter"
   ]
  },
  {
   "cell_type": "code",
   "execution_count": 2,
   "metadata": {},
   "outputs": [],
   "source": [
    "DATA_ROOT = f\"{os.environ['HOME']}/sandbox/polaris_cache/posebusters_paper_data\"\n",
    "dataset_name = \"astex_diverse_set\"\n",
    "proteins = [Path(folder).name for folder in dm.fs.glob(f\"{DATA_ROOT}/{dataset_name}/*\")]\n",
    "file_list = [\"ligand\", \"ligand_start_conf\", \"ligands\", \"protein\"]\n",
    "\n",
    "\n",
    "SAVE_DIR = dm.fs.join(\n",
    "    platformdirs.user_cache_dir(appname=\"polaris-recipes\"), \"posebusters\"\n",
    ")"
   ]
  },
  {
   "cell_type": "code",
   "execution_count": 3,
   "metadata": {},
   "outputs": [],
   "source": [
    "ligands = [\n",
    "    dm.fs.join(DATA_ROOT, dataset_name, protein, f\"{protein}_ligands.sdf\")\n",
    "    for protein in proteins\n",
    "]\n",
    "ligand_start_conf = [\n",
    "    dm.fs.join(DATA_ROOT, dataset_name, protein, f\"{protein}_ligand_start_conf.sdf\")\n",
    "    for protein in proteins\n",
    "]\n",
    "ligand = [\n",
    "    dm.fs.join(DATA_ROOT, dataset_name, protein, f\"{protein}_ligand.sdf\")\n",
    "    for protein in proteins\n",
    "]\n",
    "protein = [\n",
    "    dm.fs.join(DATA_ROOT, dataset_name, protein, f\"{protein}_protein.pdb\")\n",
    "    for protein in proteins\n",
    "]"
   ]
  },
  {
   "cell_type": "code",
   "execution_count": 4,
   "metadata": {},
   "outputs": [],
   "source": [
    "# Preprocess sdf and add protein group\n",
    "# This step is to facilitate the data aggregation later on\n",
    "# It's neccessary for adding a list of ligands and conformers for one protein in a single row in the dataset\n",
    "ligands_files = []\n",
    "for sdf in ligands:\n",
    "    mols = dm.read_sdf(sdf)\n",
    "    protein_name = Path(sdf).parent.name\n",
    "    for mol in mols:\n",
    "        mol.SetProp(\"protein_group\", protein_name)\n",
    "    url = dm.fs.join(SAVE_DIR, protein_name, Path(sdf).name)\n",
    "    dm.to_sdf(mols, url)\n",
    "    ligands_files.append(url)"
   ]
  },
  {
   "cell_type": "code",
   "execution_count": 5,
   "metadata": {},
   "outputs": [],
   "source": [
    "# Create a new factory\n",
    "\n",
    "save_dst = dm.fs.join(SAVE_DIR, f\"{dataset_name}.zarr\")\n",
    "factory = DatasetFactory(zarr_root_path=save_dst)\n",
    "factory.reset(save_dst)\n",
    "\n",
    "converter = SDFConverter(\n",
    "    smiles_column=f\"ligands_smiles\",\n",
    "    mol_column=\"ligands\",\n",
    ")\n",
    "\n",
    "factory.register_converter(\"sdf\", converter)\n",
    "factory.add_from_files(paths=ligands_files, axis=0)\n",
    "\n",
    "# aggregate the table to map a list of ligands to one protein\n",
    "agg_fn_ligands = lambda x: converter.get_pointer(\n",
    "    converter.mol_column,\n",
    "    f\"{x.index[0]}:{x.index[-1]}\" if len(x) > 1 else f\"{x.index[0]}\",\n",
    ")\n",
    "agg_fn_ligands_smiles = lambda x: str(np.unique(x).tolist())\n",
    "factory._table = (\n",
    "    factory._table.groupby(\"protein_group\")\n",
    "    .agg({\"ligands\": agg_fn_ligands, \"ligands_smiles\": agg_fn_ligands_smiles})\n",
    "    .reset_index()\n",
    ")"
   ]
  },
  {
   "cell_type": "code",
   "execution_count": 6,
   "metadata": {},
   "outputs": [
    {
     "name": "stderr",
     "output_type": "stream",
     "text": [
      "\u001b[32m2024-09-06 21:40:51.305\u001b[0m | \u001b[1mINFO    \u001b[0m | \u001b[36mpolaris.dataset._factory\u001b[0m:\u001b[36mregister_converter\u001b[0m:\u001b[36m136\u001b[0m - \u001b[1mYou are overwriting the converter for the sdf extension.\u001b[0m\n",
      "\u001b[32m2024-09-06 21:41:01.570\u001b[0m | \u001b[1mINFO    \u001b[0m | \u001b[36mpolaris.dataset._factory\u001b[0m:\u001b[36mregister_converter\u001b[0m:\u001b[36m136\u001b[0m - \u001b[1mYou are overwriting the converter for the sdf extension.\u001b[0m\n"
     ]
    }
   ],
   "source": [
    "# add protein pdbs\n",
    "factory.register_converter(\"pdb\", PDBConverter(pdb_column=\"protein\"))\n",
    "factory.add_from_files(paths=protein, axis=0)\n",
    "\n",
    "# add ligand sdfs\n",
    "factory.register_converter(\n",
    "    \"sdf\",\n",
    "    SDFConverter(\n",
    "        smiles_column=\"ligand_smiles\", mol_column=\"ligand\", mol_prop_as_cols=False\n",
    "    ),\n",
    ")\n",
    "factory.add_from_files(paths=ligand, axis=0)\n",
    "\n",
    "# add ligand start conformers\n",
    "factory.register_converter(\n",
    "    \"sdf\",\n",
    "    SDFConverter(\n",
    "        smiles_column=\"ligand_start_conf_smiles\",\n",
    "        mol_column=\"ligand_start_conf\",\n",
    "        mol_prop_as_cols=False,\n",
    "    ),\n",
    ")\n",
    "factory.add_from_files(paths=ligand_start_conf, axis=0)"
   ]
  },
  {
   "cell_type": "code",
   "execution_count": 7,
   "metadata": {},
   "outputs": [],
   "source": [
    "# Build the dataset through factory\n",
    "dataset = factory.build()"
   ]
  },
  {
   "cell_type": "code",
   "execution_count": 8,
   "metadata": {},
   "outputs": [
    {
     "name": "stderr",
     "output_type": "stream",
     "text": [
      "\u001b[32m2024-09-06 21:41:28.064\u001b[0m | \u001b[1mINFO    \u001b[0m | \u001b[36mpolaris.mixins._checksum\u001b[0m:\u001b[36mmd5sum\u001b[0m:\u001b[36m27\u001b[0m - \u001b[1mComputing the checksum. This can be slow for large datasets.\u001b[0m\n",
      "Finding all files in the Zarr archive: 100%|██████████| 2796/2796 [00:05<00:00, 520.96it/s]\n"
     ]
    },
    {
     "data": {
      "text/html": [
       "<table border=\"1\"><tr><th>name</th><td>None</td></tr><tr><th>description</th><td></td></tr><tr><th>tags</th><td></td></tr><tr><th>user_attributes</th><td></td></tr><tr><th>owner</th><td>None</td></tr><tr><th>polaris_version</th><td>0.8.5.dev2+gf245e9e.d20240907</td></tr><tr><th>default_adapters</th><td><table border=\"1\"><tr><th>ligands</th><td>BYTES_TO_MOL</td></tr><tr><th>protein</th><td>ARRAY_TO_PDB</td></tr><tr><th>ligand</th><td>BYTES_TO_MOL</td></tr><tr><th>ligand_start_conf</th><td>BYTES_TO_MOL</td></tr></table></td></tr><tr><th>zarr_root_path</th><td>/mnt/ps/home/CORP/lu.zhu/.cache/polaris-recipes/posebusters/astex_diverse_set.zarr</td></tr><tr><th>readme</th><td></td></tr><tr><th>annotations</th><td><table border=\"1\"><tr><th>ligands_smiles</th><td><table border=\"1\"><tr><th>is_pointer</th><td>False</td></tr><tr><th>modality</th><td>MOLECULE</td></tr><tr><th>description</th><td>None</td></tr><tr><th>user_attributes</th><td></td></tr><tr><th>dtype</th><td>object</td></tr><tr><th>content_type</th><td>SMILES</td></tr></table></td></tr><tr><th>protein_group</th><td><table border=\"1\"><tr><th>is_pointer</th><td>False</td></tr><tr><th>modality</th><td>UNKNOWN</td></tr><tr><th>description</th><td>None</td></tr><tr><th>user_attributes</th><td></td></tr><tr><th>dtype</th><td>object</td></tr><tr><th>content_type</th><td>None</td></tr></table></td></tr><tr><th>ligands</th><td><table border=\"1\"><tr><th>is_pointer</th><td>True</td></tr><tr><th>modality</th><td>MOLECULE_3D</td></tr><tr><th>description</th><td>None</td></tr><tr><th>user_attributes</th><td></td></tr><tr><th>dtype</th><td>object</td></tr><tr><th>content_type</th><td>None</td></tr></table></td></tr><tr><th>protein</th><td><table border=\"1\"><tr><th>is_pointer</th><td>True</td></tr><tr><th>modality</th><td>PROTEIN_3D</td></tr><tr><th>description</th><td>None</td></tr><tr><th>user_attributes</th><td></td></tr><tr><th>dtype</th><td>object</td></tr><tr><th>content_type</th><td>PDB</td></tr></table></td></tr><tr><th>ligand_smiles</th><td><table border=\"1\"><tr><th>is_pointer</th><td>False</td></tr><tr><th>modality</th><td>MOLECULE</td></tr><tr><th>description</th><td>None</td></tr><tr><th>user_attributes</th><td></td></tr><tr><th>dtype</th><td>object</td></tr><tr><th>content_type</th><td>SMILES</td></tr></table></td></tr><tr><th>ligand</th><td><table border=\"1\"><tr><th>is_pointer</th><td>True</td></tr><tr><th>modality</th><td>MOLECULE_3D</td></tr><tr><th>description</th><td>None</td></tr><tr><th>user_attributes</th><td></td></tr><tr><th>dtype</th><td>object</td></tr><tr><th>content_type</th><td>None</td></tr></table></td></tr><tr><th>ligand_start_conf_smiles</th><td><table border=\"1\"><tr><th>is_pointer</th><td>False</td></tr><tr><th>modality</th><td>MOLECULE</td></tr><tr><th>description</th><td>None</td></tr><tr><th>user_attributes</th><td></td></tr><tr><th>dtype</th><td>object</td></tr><tr><th>content_type</th><td>SMILES</td></tr></table></td></tr><tr><th>ligand_start_conf</th><td><table border=\"1\"><tr><th>is_pointer</th><td>True</td></tr><tr><th>modality</th><td>MOLECULE_3D</td></tr><tr><th>description</th><td>None</td></tr><tr><th>user_attributes</th><td></td></tr><tr><th>dtype</th><td>object</td></tr><tr><th>content_type</th><td>None</td></tr></table></td></tr></table></td></tr><tr><th>source</th><td>None</td></tr><tr><th>license</th><td>None</td></tr><tr><th>curation_reference</th><td>None</td></tr><tr><th>cache_dir</th><td>/mnt/ps/home/CORP/lu.zhu/.cache/polaris/datasets/4f360014-690e-4195-8163-48c07c0f8549</td></tr><tr><th>md5sum</th><td>4c3021605382941ab4a9e90f38d23a48</td></tr><tr><th>artifact_id</th><td>None</td></tr><tr><th>n_rows</th><td>85</td></tr><tr><th>n_columns</th><td>8</td></tr></table>"
      ],
      "text/plain": [
       "{\n",
       "  \"name\": null,\n",
       "  \"description\": \"\",\n",
       "  \"tags\": [],\n",
       "  \"user_attributes\": {},\n",
       "  \"owner\": null,\n",
       "  \"polaris_version\": \"0.8.5.dev2+gf245e9e.d20240907\",\n",
       "  \"default_adapters\": {\n",
       "    \"ligands\": \"BYTES_TO_MOL\",\n",
       "    \"protein\": \"ARRAY_TO_PDB\",\n",
       "    \"ligand\": \"BYTES_TO_MOL\",\n",
       "    \"ligand_start_conf\": \"BYTES_TO_MOL\"\n",
       "  },\n",
       "  \"zarr_root_path\": \"/mnt/ps/home/CORP/lu.zhu/.cache/polaris-recipes/posebusters/astex_diverse_set.zarr\",\n",
       "  \"readme\": \"\",\n",
       "  \"annotations\": {\n",
       "    \"ligands_smiles\": {\n",
       "      \"is_pointer\": false,\n",
       "      \"modality\": \"MOLECULE\",\n",
       "      \"description\": null,\n",
       "      \"user_attributes\": {},\n",
       "      \"dtype\": \"object\",\n",
       "      \"content_type\": \"SMILES\"\n",
       "    },\n",
       "    \"protein_group\": {\n",
       "      \"is_pointer\": false,\n",
       "      \"modality\": \"UNKNOWN\",\n",
       "      \"description\": null,\n",
       "      \"user_attributes\": {},\n",
       "      \"dtype\": \"object\",\n",
       "      \"content_type\": null\n",
       "    },\n",
       "    \"ligands\": {\n",
       "      \"is_pointer\": true,\n",
       "      \"modality\": \"MOLECULE_3D\",\n",
       "      \"description\": null,\n",
       "      \"user_attributes\": {},\n",
       "      \"dtype\": \"object\",\n",
       "      \"content_type\": null\n",
       "    },\n",
       "    \"protein\": {\n",
       "      \"is_pointer\": true,\n",
       "      \"modality\": \"PROTEIN_3D\",\n",
       "      \"description\": null,\n",
       "      \"user_attributes\": {},\n",
       "      \"dtype\": \"object\",\n",
       "      \"content_type\": \"PDB\"\n",
       "    },\n",
       "    \"ligand_smiles\": {\n",
       "      \"is_pointer\": false,\n",
       "      \"modality\": \"MOLECULE\",\n",
       "      \"description\": null,\n",
       "      \"user_attributes\": {},\n",
       "      \"dtype\": \"object\",\n",
       "      \"content_type\": \"SMILES\"\n",
       "    },\n",
       "    \"ligand\": {\n",
       "      \"is_pointer\": true,\n",
       "      \"modality\": \"MOLECULE_3D\",\n",
       "      \"description\": null,\n",
       "      \"user_attributes\": {},\n",
       "      \"dtype\": \"object\",\n",
       "      \"content_type\": null\n",
       "    },\n",
       "    \"ligand_start_conf_smiles\": {\n",
       "      \"is_pointer\": false,\n",
       "      \"modality\": \"MOLECULE\",\n",
       "      \"description\": null,\n",
       "      \"user_attributes\": {},\n",
       "      \"dtype\": \"object\",\n",
       "      \"content_type\": \"SMILES\"\n",
       "    },\n",
       "    \"ligand_start_conf\": {\n",
       "      \"is_pointer\": true,\n",
       "      \"modality\": \"MOLECULE_3D\",\n",
       "      \"description\": null,\n",
       "      \"user_attributes\": {},\n",
       "      \"dtype\": \"object\",\n",
       "      \"content_type\": null\n",
       "    }\n",
       "  },\n",
       "  \"source\": null,\n",
       "  \"license\": null,\n",
       "  \"curation_reference\": null,\n",
       "  \"cache_dir\": \"/mnt/ps/home/CORP/lu.zhu/.cache/polaris/datasets/4f360014-690e-4195-8163-48c07c0f8549\",\n",
       "  \"md5sum\": \"4c3021605382941ab4a9e90f38d23a48\",\n",
       "  \"artifact_id\": null,\n",
       "  \"n_rows\": 85,\n",
       "  \"n_columns\": 8\n",
       "}"
      ]
     },
     "execution_count": 8,
     "metadata": {},
     "output_type": "execute_result"
    }
   ],
   "source": [
    "dataset"
   ]
  },
  {
   "cell_type": "markdown",
   "metadata": {},
   "source": [
    "### Update the annotations"
   ]
  },
  {
   "cell_type": "code",
   "execution_count": 9,
   "metadata": {},
   "outputs": [],
   "source": [
    "dataset.annotations[\n",
    "    \"protein\"\n",
    "].description = \"The protein structure without the ligand of interest without solvents and with all cofactors.\"\n",
    "dataset.annotations[\n",
    "    \"ligand\"\n",
    "].description = \"One of the instances of the ligand of interest. This crystal pose marks the binding site for those docking methods that require a binding site.\"\n",
    "\n",
    "dataset.annotations[\"ligands\"].description = \"All instances of the ligand of interest.\"\n",
    "dataset.annotations[\n",
    "    \"ligand_start_conf\"\n",
    "].description = \"One generated molecule conformation for the ligand of interest generated with RDKit's ETKDGv3 followed by an energy minimization with the UFF.\""
   ]
  },
  {
   "cell_type": "code",
   "execution_count": 10,
   "metadata": {},
   "outputs": [],
   "source": [
    "from polaris.utils.types import HubOwner\n",
    "\n",
    "owner = HubOwner(slug=\"polaris\")\n",
    "dataset.owner = HubOwner(slug=\"polaris\")\n",
    "dataset.name = \"astex-diverse-set-v1\"\n",
    "dataset.tags = [\"docking\"]\n",
    "dataset.description = \"The Astex Diverse set is a well-established and commonly-used benchmark for evaluating docking methods.\"\n",
    "dataset.license = \"CC-BY-4.0\"\n",
    "dataset.user_attributes = {\"year\": \"2007\"}\n",
    "dataset.source = \"https://pubs.acs.org/doi/abs/10.1021/jm061277y\""
   ]
  },
  {
   "cell_type": "code",
   "execution_count": 11,
   "metadata": {},
   "outputs": [
    {
     "data": {
      "text/html": [
       "<table border=\"1\"><tr><th>name</th><td>astex-diverse-set-v1</td></tr><tr><th>description</th><td>The Astex Diverse set is a well-established and commonly-used benchmark for evaluating docking methods.</td></tr><tr><th>tags</th><td><ul><li>docking</li></ul></td></tr><tr><th>user_attributes</th><td><table border=\"1\"><tr><th>year</th><td>2007</td></tr></table></td></tr><tr><th>owner</th><td>polaris</td></tr><tr><th>polaris_version</th><td>0.8.5.dev2+gf245e9e.d20240907</td></tr><tr><th>default_adapters</th><td><table border=\"1\"><tr><th>ligands</th><td>BYTES_TO_MOL</td></tr><tr><th>protein</th><td>ARRAY_TO_PDB</td></tr><tr><th>ligand</th><td>BYTES_TO_MOL</td></tr><tr><th>ligand_start_conf</th><td>BYTES_TO_MOL</td></tr></table></td></tr><tr><th>zarr_root_path</th><td>/mnt/ps/home/CORP/lu.zhu/.cache/polaris-recipes/posebusters/astex_diverse_set.zarr</td></tr><tr><th>readme</th><td></td></tr><tr><th>annotations</th><td><table border=\"1\"><tr><th>ligands_smiles</th><td><table border=\"1\"><tr><th>is_pointer</th><td>False</td></tr><tr><th>modality</th><td>MOLECULE</td></tr><tr><th>description</th><td>None</td></tr><tr><th>user_attributes</th><td></td></tr><tr><th>dtype</th><td>object</td></tr><tr><th>content_type</th><td>SMILES</td></tr></table></td></tr><tr><th>protein_group</th><td><table border=\"1\"><tr><th>is_pointer</th><td>False</td></tr><tr><th>modality</th><td>UNKNOWN</td></tr><tr><th>description</th><td>None</td></tr><tr><th>user_attributes</th><td></td></tr><tr><th>dtype</th><td>object</td></tr><tr><th>content_type</th><td>None</td></tr></table></td></tr><tr><th>ligands</th><td><table border=\"1\"><tr><th>is_pointer</th><td>True</td></tr><tr><th>modality</th><td>MOLECULE_3D</td></tr><tr><th>description</th><td>All instances of the ligand of interest.</td></tr><tr><th>user_attributes</th><td></td></tr><tr><th>dtype</th><td>object</td></tr><tr><th>content_type</th><td>None</td></tr></table></td></tr><tr><th>protein</th><td><table border=\"1\"><tr><th>is_pointer</th><td>True</td></tr><tr><th>modality</th><td>PROTEIN_3D</td></tr><tr><th>description</th><td>The protein structure without the ligand of interest without solvents and with all cofactors.</td></tr><tr><th>user_attributes</th><td></td></tr><tr><th>dtype</th><td>object</td></tr><tr><th>content_type</th><td>PDB</td></tr></table></td></tr><tr><th>ligand_smiles</th><td><table border=\"1\"><tr><th>is_pointer</th><td>False</td></tr><tr><th>modality</th><td>MOLECULE</td></tr><tr><th>description</th><td>None</td></tr><tr><th>user_attributes</th><td></td></tr><tr><th>dtype</th><td>object</td></tr><tr><th>content_type</th><td>SMILES</td></tr></table></td></tr><tr><th>ligand</th><td><table border=\"1\"><tr><th>is_pointer</th><td>True</td></tr><tr><th>modality</th><td>MOLECULE_3D</td></tr><tr><th>description</th><td>One of the instances of the ligand of interest. This crystal pose marks the binding site for those docking methods that require a binding site.</td></tr><tr><th>user_attributes</th><td></td></tr><tr><th>dtype</th><td>object</td></tr><tr><th>content_type</th><td>None</td></tr></table></td></tr><tr><th>ligand_start_conf_smiles</th><td><table border=\"1\"><tr><th>is_pointer</th><td>False</td></tr><tr><th>modality</th><td>MOLECULE</td></tr><tr><th>description</th><td>None</td></tr><tr><th>user_attributes</th><td></td></tr><tr><th>dtype</th><td>object</td></tr><tr><th>content_type</th><td>SMILES</td></tr></table></td></tr><tr><th>ligand_start_conf</th><td><table border=\"1\"><tr><th>is_pointer</th><td>True</td></tr><tr><th>modality</th><td>MOLECULE_3D</td></tr><tr><th>description</th><td>One generated molecule conformation for the ligand of interest generated with RDKit&#x27;s ETKDGv3 followed by an energy minimization with the UFF.</td></tr><tr><th>user_attributes</th><td></td></tr><tr><th>dtype</th><td>object</td></tr><tr><th>content_type</th><td>None</td></tr></table></td></tr></table></td></tr><tr><th>source</th><td>https://pubs.acs.org/doi/abs/10.1021/jm061277y</td></tr><tr><th>license</th><td>CC-BY-4.0</td></tr><tr><th>curation_reference</th><td>None</td></tr><tr><th>cache_dir</th><td>/mnt/ps/home/CORP/lu.zhu/.cache/polaris/datasets/4f360014-690e-4195-8163-48c07c0f8549</td></tr><tr><th>md5sum</th><td>4c3021605382941ab4a9e90f38d23a48</td></tr><tr><th>artifact_id</th><td>polaris/astex-diverse-set-v1</td></tr><tr><th>n_rows</th><td>85</td></tr><tr><th>n_columns</th><td>8</td></tr></table>"
      ],
      "text/plain": [
       "{\n",
       "  \"name\": \"astex-diverse-set-v1\",\n",
       "  \"description\": \"The Astex Diverse set is a well-established and commonly-used benchmark for evaluating docking methods.\",\n",
       "  \"tags\": [\n",
       "    \"docking\"\n",
       "  ],\n",
       "  \"user_attributes\": {\n",
       "    \"year\": \"2007\"\n",
       "  },\n",
       "  \"owner\": \"polaris\",\n",
       "  \"polaris_version\": \"0.8.5.dev2+gf245e9e.d20240907\",\n",
       "  \"default_adapters\": {\n",
       "    \"ligands\": \"BYTES_TO_MOL\",\n",
       "    \"protein\": \"ARRAY_TO_PDB\",\n",
       "    \"ligand\": \"BYTES_TO_MOL\",\n",
       "    \"ligand_start_conf\": \"BYTES_TO_MOL\"\n",
       "  },\n",
       "  \"zarr_root_path\": \"/mnt/ps/home/CORP/lu.zhu/.cache/polaris-recipes/posebusters/astex_diverse_set.zarr\",\n",
       "  \"readme\": \"\",\n",
       "  \"annotations\": {\n",
       "    \"ligands_smiles\": {\n",
       "      \"is_pointer\": false,\n",
       "      \"modality\": \"MOLECULE\",\n",
       "      \"description\": null,\n",
       "      \"user_attributes\": {},\n",
       "      \"dtype\": \"object\",\n",
       "      \"content_type\": \"SMILES\"\n",
       "    },\n",
       "    \"protein_group\": {\n",
       "      \"is_pointer\": false,\n",
       "      \"modality\": \"UNKNOWN\",\n",
       "      \"description\": null,\n",
       "      \"user_attributes\": {},\n",
       "      \"dtype\": \"object\",\n",
       "      \"content_type\": null\n",
       "    },\n",
       "    \"ligands\": {\n",
       "      \"is_pointer\": true,\n",
       "      \"modality\": \"MOLECULE_3D\",\n",
       "      \"description\": \"All instances of the ligand of interest.\",\n",
       "      \"user_attributes\": {},\n",
       "      \"dtype\": \"object\",\n",
       "      \"content_type\": null\n",
       "    },\n",
       "    \"protein\": {\n",
       "      \"is_pointer\": true,\n",
       "      \"modality\": \"PROTEIN_3D\",\n",
       "      \"description\": \"The protein structure without the ligand of interest without solvents and with all cofactors.\",\n",
       "      \"user_attributes\": {},\n",
       "      \"dtype\": \"object\",\n",
       "      \"content_type\": \"PDB\"\n",
       "    },\n",
       "    \"ligand_smiles\": {\n",
       "      \"is_pointer\": false,\n",
       "      \"modality\": \"MOLECULE\",\n",
       "      \"description\": null,\n",
       "      \"user_attributes\": {},\n",
       "      \"dtype\": \"object\",\n",
       "      \"content_type\": \"SMILES\"\n",
       "    },\n",
       "    \"ligand\": {\n",
       "      \"is_pointer\": true,\n",
       "      \"modality\": \"MOLECULE_3D\",\n",
       "      \"description\": \"One of the instances of the ligand of interest. This crystal pose marks the binding site for those docking methods that require a binding site.\",\n",
       "      \"user_attributes\": {},\n",
       "      \"dtype\": \"object\",\n",
       "      \"content_type\": null\n",
       "    },\n",
       "    \"ligand_start_conf_smiles\": {\n",
       "      \"is_pointer\": false,\n",
       "      \"modality\": \"MOLECULE\",\n",
       "      \"description\": null,\n",
       "      \"user_attributes\": {},\n",
       "      \"dtype\": \"object\",\n",
       "      \"content_type\": \"SMILES\"\n",
       "    },\n",
       "    \"ligand_start_conf\": {\n",
       "      \"is_pointer\": true,\n",
       "      \"modality\": \"MOLECULE_3D\",\n",
       "      \"description\": \"One generated molecule conformation for the ligand of interest generated with RDKit's ETKDGv3 followed by an energy minimization with the UFF.\",\n",
       "      \"user_attributes\": {},\n",
       "      \"dtype\": \"object\",\n",
       "      \"content_type\": null\n",
       "    }\n",
       "  },\n",
       "  \"source\": \"https://pubs.acs.org/doi/abs/10.1021/jm061277y\",\n",
       "  \"license\": \"CC-BY-4.0\",\n",
       "  \"curation_reference\": null,\n",
       "  \"cache_dir\": \"/mnt/ps/home/CORP/lu.zhu/.cache/polaris/datasets/4f360014-690e-4195-8163-48c07c0f8549\",\n",
       "  \"md5sum\": \"4c3021605382941ab4a9e90f38d23a48\",\n",
       "  \"artifact_id\": \"polaris/astex-diverse-set-v1\",\n",
       "  \"n_rows\": 85,\n",
       "  \"n_columns\": 8\n",
       "}"
      ]
     },
     "execution_count": 11,
     "metadata": {},
     "output_type": "execute_result"
    }
   ],
   "source": [
    "dataset"
   ]
  },
  {
   "cell_type": "code",
   "execution_count": 15,
   "metadata": {},
   "outputs": [
    {
     "name": "stdout",
     "output_type": "stream",
     "text": [
      "⠏ Uploading artifact... "
     ]
    },
    {
     "name": "stderr",
     "output_type": "stream",
     "text": [
      "\u001b[32m2024-09-06 21:48:34.746\u001b[0m | \u001b[1mINFO    \u001b[0m | \u001b[36mpolaris.hub.client\u001b[0m:\u001b[36m_upload_dataset\u001b[0m:\u001b[36m697\u001b[0m - \u001b[1mCopying Zarr archive to the Hub. This may take a while.\u001b[0m\n"
     ]
    },
    {
     "name": "stdout",
     "output_type": "stream",
     "text": [
      "✅ SUCCESS: \u001b[1mYour standard dataset has been successfully uploaded to the Hub. View it here: https://polarishub.io/datasets/polaris/astex-diverse-set-v1\u001b[0m\n",
      " \n"
     ]
    }
   ],
   "source": [
    "dataset.upload_to_hub(timeout=20000)"
   ]
  },
  {
   "cell_type": "code",
   "execution_count": null,
   "metadata": {},
   "outputs": [],
   "source": []
  }
 ],
 "metadata": {
  "kernelspec": {
   "display_name": "po_datasets",
   "language": "python",
   "name": "python3"
  },
  "language_info": {
   "codemirror_mode": {
    "name": "ipython",
    "version": 3
   },
   "file_extension": ".py",
   "mimetype": "text/x-python",
   "name": "python",
   "nbconvert_exporter": "python",
   "pygments_lexer": "ipython3",
   "version": "3.12.4"
  }
 },
 "nbformat": 4,
 "nbformat_minor": 2
}
