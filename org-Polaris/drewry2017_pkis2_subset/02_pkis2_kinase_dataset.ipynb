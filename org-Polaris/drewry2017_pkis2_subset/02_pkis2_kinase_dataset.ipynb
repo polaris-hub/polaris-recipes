{
 "cells": [
  {
   "cell_type": "markdown",
   "id": "2b798393-db49-47fe-ab32-b2bdbc4fccda",
   "metadata": {},
   "source": [
    "# PKIS 2 Dataset creation"
   ]
  },
  {
   "cell_type": "code",
   "execution_count": 1,
   "id": "bdfe05d8-7f95-4d14-87c8-c1963683a0e3",
   "metadata": {},
   "outputs": [],
   "source": [
    "%load_ext autoreload\n",
    "%autoreload 2\n",
    "\n",
    "import os\n",
    "import sys\n",
    "import pathlib\n",
    "\n",
    "import pandas as pd\n",
    "import datamol as dm\n",
    "\n",
    "# polaris dataset\n",
    "from polaris.dataset import Dataset, ColumnAnnotation\n",
    "\n",
    "from polaris.utils.types import HubOwner\n",
    "\n",
    "\n",
    "root = pathlib.Path(\"__file__\").absolute().parents[2]\n",
    "os.chdir(root)\n",
    "sys.path.insert(0, str(root))\n",
    "from utils.docs_utils import load_readme"
   ]
  },
  {
   "cell_type": "code",
   "execution_count": 2,
   "id": "a9ca76d9-9b4b-49a0-951e-2e31e43a8222",
   "metadata": {},
   "outputs": [
    {
     "data": {
      "text/plain": [
       "HubOwner(slug='polaris', external_id=None, type='organization')"
      ]
     },
     "execution_count": 2,
     "metadata": {},
     "output_type": "execute_result"
    }
   ],
   "source": [
    "# Get the owner and organization\n",
    "org = \"polaris\"\n",
    "data_name = \"drewry2017_pkis2_subset\"\n",
    "dirname = dm.fs.join(root, f\"org-{org}\", data_name)\n",
    "gcp_root = f\"gs://polaris-public/polaris-recipes/org-{org}/{data_name}\"\n",
    "\n",
    "owner = HubOwner(slug=org, type=\"organization\")\n",
    "owner"
   ]
  },
  {
   "cell_type": "code",
   "execution_count": 3,
   "id": "cb3c1424-8fc9-4908-ac7d-fd93d663f525",
   "metadata": {},
   "outputs": [],
   "source": [
    "BENCHMARK_DIR = f\"{gcp_root}/benchmarks\"\n",
    "DATASET_DIR = f\"{gcp_root}/datasets\"\n",
    "FIGURE_DIR = f\"{gcp_root}/figures\""
   ]
  },
  {
   "cell_type": "markdown",
   "id": "8d41a8e8-e7ad-4678-9444-231823462fbe",
   "metadata": {},
   "source": [
    "## Load existing data"
   ]
  },
  {
   "cell_type": "code",
   "execution_count": 5,
   "id": "ee8fbe6a-5354-4c7b-84cc-dd2cb389750a",
   "metadata": {},
   "outputs": [
    {
     "data": {
      "text/plain": [
       "Index(['Smiles', 'EGFR', 'KIT', 'LOK', 'RET', 'SLK', 'MOL_smiles',\n",
       "       'MOL_molhash_id', 'MOL_molhash_id_no_stereo', 'MOL_num_stereoisomers',\n",
       "       'MOL_num_undefined_stereoisomers', 'MOL_num_defined_stereo_center',\n",
       "       'MOL_num_undefined_stereo_center', 'MOL_num_stereo_center',\n",
       "       'MOL_undefined_E_D', 'MOL_undefined_E/Z', 'CLS_EGFR', 'CLS_KIT',\n",
       "       'CLS_RET', 'CLS_LOK', 'CLS_SLK', 'OUTLIER_EGFR', 'OUTLIER_KIT',\n",
       "       'OUTLIER_LOK', 'OUTLIER_RET', 'OUTLIER_SLK', 'AC_CLS_EGFR',\n",
       "       'AC_CLS_KIT', 'AC_CLS_LOK', 'AC_CLS_RET', 'AC_CLS_SLK'],\n",
       "      dtype='object')"
      ]
     },
     "execution_count": 5,
     "metadata": {},
     "output_type": "execute_result"
    }
   ],
   "source": [
    "PATH = f\"{gcp_root}/data/curation/{data_name}_curated_v3.csv\"\n",
    "table = pd.read_csv(PATH)\n",
    "table.columns"
   ]
  },
  {
   "cell_type": "markdown",
   "id": "0c7b2e3e",
   "metadata": {},
   "source": [
    "## Below we specify the meta information of data columns"
   ]
  },
  {
   "cell_type": "code",
   "execution_count": 6,
   "id": "e59cb5c5-0a52-47ed-8afb-812bb786157b",
   "metadata": {},
   "outputs": [],
   "source": [
    "data_cols = [\"EGFR\", \"KIT\", \"RET\", \"LOK\", \"SLK\"]\n",
    "threshold = 80"
   ]
  },
  {
   "cell_type": "code",
   "execution_count": 7,
   "id": "f92c0ab5-dd41-44a9-a1b9-912da38133ff",
   "metadata": {},
   "outputs": [],
   "source": [
    "import re\n",
    "\n",
    "mutant_anno = {}\n",
    "mutant_cls_anno = {}\n",
    "\n",
    "for col in data_cols:\n",
    "    tar = col.split(\"_\")[0]\n",
    "    mut_var = re.findall(r\"_\\((\\S+)\\)\", data_cols[0])\n",
    "    mut_var = \"NaN\" if len(mut_var) == 0 else mut_var[0]\n",
    "    if mut_var is None:\n",
    "        anno = ColumnAnnotation(\n",
    "            description=f\"Percentage of inhibition on {tar} wide type\",\n",
    "            user_attributes={\n",
    "                \"unit\": \"%\",\n",
    "                \"concentration\": \"1uM\",\n",
    "                \"organism\": \"Human\",\n",
    "                \"objective\": \"Higher value\",\n",
    "                \"source\": \"PKIS2\",\n",
    "                \"mutation\": \"None\",\n",
    "                \"target\": tar,\n",
    "            },\n",
    "        )\n",
    "        cls_anno = ColumnAnnotation(\n",
    "            description=f\"Binarized label based on the percentage of inhibition on {tar} wide type\",\n",
    "            user_attributes={\n",
    "                \"thresholds\": f\"Greather than {threshold}\",\n",
    "                \"label_order\": \"ascending\",\n",
    "                \"ref_col\": col,\n",
    "            },\n",
    "        )\n",
    "    else:\n",
    "        anno = ColumnAnnotation(\n",
    "            description=f\"Percentage of inhibition on {tar} with mutation {mut_var}\",\n",
    "            user_attributes={\n",
    "                \"unit\": \"%\",\n",
    "                \"concentration\": \"1uM\",\n",
    "                \"organism\": \"Human\",\n",
    "                \"objective\": \"Higher value\",\n",
    "                \"source\": \"PKIS2\",\n",
    "                \"mutation\": mut_var,\n",
    "                \"target\": tar,\n",
    "            },\n",
    "        )\n",
    "\n",
    "        cls_anno = ColumnAnnotation(\n",
    "            protocol=f\"Binarized label based on the percentage of inhibition on {tar} {mut_var}\",\n",
    "            user_attributes={\n",
    "                \"thresholds\": f\"Greather than {threshold}\",\n",
    "                \"label_order\": \"ascending\",\n",
    "                \"ref_col\": col,\n",
    "            },\n",
    "        )\n",
    "    mutant_anno[col] = anno\n",
    "    mutant_cls_anno[f\"CLS_{col}\"] = cls_anno"
   ]
  },
  {
   "cell_type": "code",
   "execution_count": 8,
   "id": "9101750d-068e-408c-993d-5411886246e1",
   "metadata": {},
   "outputs": [],
   "source": [
    "pkis2_annotations = {\n",
    "    # Molecule identifiers\n",
    "    \"MOL_molhash_id\": ColumnAnnotation(\n",
    "        description=\"Molecular hash ID. See <datamol.mol.hash_mol>\"\n",
    "    ),\n",
    "    \"MOL_smiles\": ColumnAnnotation(\n",
    "        description=\"Molecule SMILES string\", modality=\"molecule\"\n",
    "    ),\n",
    "    **mutant_anno,\n",
    "    **mutant_cls_anno,\n",
    "}"
   ]
  },
  {
   "cell_type": "code",
   "execution_count": 9,
   "id": "65926a63-1caa-4040-bd25-86259ae60942",
   "metadata": {},
   "outputs": [],
   "source": [
    "version = \"v3\"\n",
    "dataset_name = f\"drewry2017_pkis2_subset-{version}\"\n",
    "dataset = Dataset(\n",
    "    table=table[pkis2_annotations.keys()],\n",
    "    name=dataset_name,\n",
    "    description=f\"A subset of PKIS 2 dataset only including EGFR, RET, KIT, LOK and SLK kinases. Profile of kinases PKIS2 which contains 640 small molecule for 468 kinases.\",\n",
    "    source=\" https://www.ncbi.nlm.nih.gov/pubmed/28767711\",\n",
    "    annotations=pkis2_annotations,\n",
    "    owner=owner,\n",
    "    tags=[\"Kinase\", \"HitDiscovery\", \"Selectivity\"],\n",
    "    user_attributes={\"year\": \"2017\"},\n",
    "    readme=load_readme(\"org-Polaris/drewry2017_pkis2_subset/pkis2_subset_readme.md\"),\n",
    "    license=\"CC-BY-4.0\",\n",
    "    curation_reference=\"https://github.com/polaris-hub/polaris-recipes/org-Polaris/drewry2017_pkis2_subset/01_pkis2_kinase_data_curation.ipynb\",\n",
    ")"
   ]
  },
  {
   "cell_type": "code",
   "execution_count": 10,
   "id": "a64af011-e010-413a-b3ba-be8f6465fe92",
   "metadata": {},
   "outputs": [
    {
     "data": {
      "text/plain": [
       "'gs://polaris-public/polaris-recipes/org-polaris/drewry2017_pkis2_subset/datasets/drewry2017_pkis2_subset-v3/dataset.json'"
      ]
     },
     "execution_count": 10,
     "metadata": {},
     "output_type": "execute_result"
    }
   ],
   "source": [
    "# save the dataset to GCP\n",
    "SAVE_DIR = f\"{DATASET_DIR}/{dataset_name}\"\n",
    "dataset_path = dataset.to_json(SAVE_DIR)\n",
    "dataset_path"
   ]
  },
  {
   "cell_type": "code",
   "execution_count": 12,
   "id": "d0cdbd6a-158b-40bd-9743-d7dd9efda250",
   "metadata": {},
   "outputs": [
    {
     "name": "stdout",
     "output_type": "stream",
     "text": [
      "✅ SUCCESS: \u001b[1mYour dataset has been successfully uploaded to the Hub. View it here: https://polarishub.io/datasets/polaris/drewry2017_pkis2_subset-v3\u001b[0m\n",
      " \n"
     ]
    },
    {
     "name": "stderr",
     "output_type": "stream",
     "text": [
      "/Users/lu.zhu/miniconda3/envs/po_dataset/lib/python3.12/site-packages/yaspin/core.py:228: UserWarning: color, on_color and attrs are not supported when running in jupyter\n",
      "  self._color = self._set_color(value) if value else value\n"
     ]
    }
   ],
   "source": [
    "# upload to Polaris Hub\n",
    "dataset.upload_to_hub(owner=owner, access=\"private\")"
   ]
  },
  {
   "cell_type": "markdown",
   "id": "139013d4",
   "metadata": {},
   "source": [
    "## Disclaimers"
   ]
  },
  {
   "cell_type": "markdown",
   "id": "22148575",
   "metadata": {},
   "source": [
    "<div style=\"background-color: lightyellow; padding: 10px; border: 1px solid black;\">\n",
    "        <span>Here are some additional details that may be of use when deciding whether or not to use these datasets.</span><br /><br />\n",
    "        <strong>Some advantages include: </strong>\n",
    "        <ul>\n",
    "        <li>The dataset was generated by one group that carried out the assays under a consistent set of conditions.</li>\n",
    "        <li>Dataset contains only a small number of molecules with unspecified stereocenters.</li>\n",
    "        <li>There are no duplicate structures in the dataset.</li>\n",
    "        <li>The data is based on a well-defined biomedical endpoints.</li>\n",
    "        </ul>\n",
    "        <strong>Some limitations to consider: </strong>\n",
    "        <ul>\n",
    "        <li>The assay endpoint is % inhibition, which is less desirable than a dose-response but similar to what is commonly encountered with <a herf=\"https://www.bmglabtech.com/en/blog/high-throughput-screening/#:~:text=What%20is%20high%2Dthroughput%20screening,for%20example%20through%20binding%20assays.\">HTS</a> data.</li>\n",
    "        <li>The compounds are highly clustered, with the largest cluster containing 50 compounds. Thus, generalizability of your model may be affected due to the limited diversity of compounds in this dataset.</li>\n",
    "        <li>The dataset is relatively small, containing only 640 compounds. This, combined with the fact that the data is highly clustered, will make it difficult to see statistically significant differences between methods. This will be highly acute when the splits are based on clusters or scaffolds.</li>\n",
    "        </ul>\n",
    "        \n",
    "</div>\n"
   ]
  },
  {
   "cell_type": "markdown",
   "id": "7ab47c09",
   "metadata": {},
   "source": []
  }
 ],
 "metadata": {
  "kernelspec": {
   "display_name": "Python 3 (ipykernel)",
   "language": "python",
   "name": "python3"
  },
  "language_info": {
   "codemirror_mode": {
    "name": "ipython",
    "version": 3
   },
   "file_extension": ".py",
   "mimetype": "text/x-python",
   "name": "python",
   "nbconvert_exporter": "python",
   "pygments_lexer": "ipython3",
   "version": "3.12.4"
  }
 },
 "nbformat": 4,
 "nbformat_minor": 5
}
