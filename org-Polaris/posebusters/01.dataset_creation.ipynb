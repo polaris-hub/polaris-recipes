{
 "cells": [
  {
   "cell_type": "markdown",
   "metadata": {},
   "source": [
    "This notebook outlines the steps for dataset creation using PoseBusters.\n",
    "\n"
   ]
  },
  {
   "cell_type": "markdown",
   "metadata": {},
   "source": [
    "## Background\n",
    "The PoseBusters dataset set is a new set of carefully-selected publicly-available crystal complexes from the PDB. It is a diverse set of recent high-quality protein–ligand complexes which contain drug-like molecules. It only contains complexes released since 2021 and therefore does not contain any complexes present in the PDBbind General Set v2020 used to train many of the methods. \n",
    "\n",
    "\n",
    "[Buttenschoen et al.](https://pubs.rsc.org/en/content/articlehtml/2024/sc/d3sc04185a) lists the steps used to select the 308 unique proteins and 308 unique ligands in the PoseBusters dataset set. The complexes were downloaded from the PDB as MMTF files and PyMOL was used to remove solvents and all occurrences of the ligand of interest before saving the proteins with the cofactors in PDB files and the ligands in SDF files. \n",
    "\n",
    "\n",
    "## Data source\n",
    "- Orignial: https://zenodo.org/records/8278563\n",
    "- Polaris: gs://polaris-public/polaris-recipes/org-polaris/posebusters/posebusters_paper_data/posebusters_benchmark_set\n",
    "\n",
    "## Other links\n",
    "- Github: https://github.com/maabuu/posebusters/tree/main"
   ]
  },
  {
   "cell_type": "code",
   "execution_count": null,
   "metadata": {},
   "outputs": [],
   "source": [
    "%load_ext autoreload\n",
    "%autoreload 2\n",
    "from pathlib import Path\n",
    "import platformdirs\n",
    "import os\n",
    "import numpy as np\n",
    "import pandas as pd\n",
    "import datamol as dm\n",
    "from polaris.dataset import DatasetFactory\n",
    "from polaris.dataset.converters import SDFConverter, PDBConverter, ZarrConverter"
   ]
  },
  {
   "cell_type": "code",
   "execution_count": 2,
   "metadata": {},
   "outputs": [],
   "source": [
    "DATA_ROOT = f\"{os.environ['HOME']}/sandbox/polaris_cache/posebusters_paper_data\"\n",
    "dataset_name = \"posebusters_benchmark_set\"\n",
    "proteins = [Path(folder).name for folder in dm.fs.glob(f\"{DATA_ROOT}/{dataset_name}/*\")]\n",
    "file_list = [\"ligand\", \"ligand_start_conf\", \"ligands\", \"protein\"]\n",
    "\n",
    "\n",
    "SAVE_DIR = dm.fs.join(\n",
    "    platformdirs.user_cache_dir(appname=\"polaris-recipes\"), \"posebusters\"\n",
    ")"
   ]
  },
  {
   "cell_type": "code",
   "execution_count": 3,
   "metadata": {},
   "outputs": [],
   "source": [
    "ligands = [\n",
    "    dm.fs.join(DATA_ROOT, dataset_name, protein, f\"{protein}_ligands.sdf\")\n",
    "    for protein in proteins\n",
    "]\n",
    "ligand_start_conf = [\n",
    "    dm.fs.join(DATA_ROOT, dataset_name, protein, f\"{protein}_ligand_start_conf.sdf\")\n",
    "    for protein in proteins\n",
    "]\n",
    "ligand = [\n",
    "    dm.fs.join(DATA_ROOT, dataset_name, protein, f\"{protein}_ligand.sdf\")\n",
    "    for protein in proteins\n",
    "]\n",
    "protein = [\n",
    "    dm.fs.join(DATA_ROOT, dataset_name, protein, f\"{protein}_protein.pdb\")\n",
    "    for protein in proteins\n",
    "]"
   ]
  },
  {
   "cell_type": "code",
   "execution_count": 4,
   "metadata": {},
   "outputs": [],
   "source": [
    "# Preprocess sdf and add protein group\n",
    "# This step is to facilitate the data aggregation later on\n",
    "# It's neccessary for adding a list of ligands and conformers for one protein in a single row in the dataset\n",
    "ligands_files = []\n",
    "for sdf in ligands:\n",
    "    mols = dm.read_sdf(sdf)\n",
    "    protein_name = Path(sdf).parent.name\n",
    "    for mol in mols:\n",
    "        mol.SetProp(\"protein_group\", protein_name)\n",
    "    url = dm.fs.join(SAVE_DIR, protein_name, Path(sdf).name)\n",
    "    dm.to_sdf(mols, url)\n",
    "    ligands_files.append(url)"
   ]
  },
  {
   "cell_type": "code",
   "execution_count": 5,
   "metadata": {},
   "outputs": [],
   "source": [
    "# Create a new factory\n",
    "\n",
    "save_dst = dm.fs.join(SAVE_DIR, f\"{dataset_name}.zarr\")\n",
    "factory = DatasetFactory(zarr_root_path=save_dst)\n",
    "factory.reset(save_dst)\n",
    "\n",
    "converter = SDFConverter(\n",
    "    smiles_column=f\"ligands_smiles\",\n",
    "    mol_column=\"ligands\",\n",
    ")\n",
    "\n",
    "factory.register_converter(\"sdf\", converter)\n",
    "factory.add_from_files(paths=ligands_files, axis=0)\n",
    "\n",
    "# aggregate the table to map a list of ligands to one protein\n",
    "agg_fn_ligands = lambda x: converter.get_pointer(\n",
    "    converter.mol_column,\n",
    "    f\"{x.index[0]}:{x.index[-1]}\" if len(x) > 1 else f\"{x.index[0]}\",\n",
    ")\n",
    "agg_fn_ligands_smiles = lambda x: str(np.unique(x).tolist())\n",
    "factory._table = (\n",
    "    factory._table.groupby(\"protein_group\")\n",
    "    .agg({\"ligands\": agg_fn_ligands, \"ligands_smiles\": agg_fn_ligands_smiles})\n",
    "    .reset_index()\n",
    ")"
   ]
  },
  {
   "cell_type": "code",
   "execution_count": 6,
   "metadata": {},
   "outputs": [
    {
     "name": "stderr",
     "output_type": "stream",
     "text": [
      "\u001b[32m2024-09-06 09:41:14.419\u001b[0m | \u001b[1mINFO    \u001b[0m | \u001b[36mpolaris.dataset._factory\u001b[0m:\u001b[36mregister_converter\u001b[0m:\u001b[36m136\u001b[0m - \u001b[1mYou are overwriting the converter for the sdf extension.\u001b[0m\n",
      "\u001b[32m2024-09-06 09:43:11.238\u001b[0m | \u001b[1mINFO    \u001b[0m | \u001b[36mpolaris.dataset._factory\u001b[0m:\u001b[36mregister_converter\u001b[0m:\u001b[36m136\u001b[0m - \u001b[1mYou are overwriting the converter for the sdf extension.\u001b[0m\n"
     ]
    }
   ],
   "source": [
    "# add protein pdbs\n",
    "factory.register_converter(\"pdb\", PDBConverter(pdb_column=\"protein\"))\n",
    "factory.add_from_files(paths=protein, axis=0)\n",
    "\n",
    "# add ligand sdfs\n",
    "factory.register_converter(\n",
    "    \"sdf\",\n",
    "    SDFConverter(\n",
    "        smiles_column=\"ligand_smiles\", mol_column=\"ligand\", mol_prop_as_cols=False\n",
    "    ),\n",
    ")\n",
    "factory.add_from_files(paths=ligand, axis=0)\n",
    "\n",
    "# add ligand start conformers\n",
    "factory.register_converter(\n",
    "    \"sdf\",\n",
    "    SDFConverter(\n",
    "        smiles_column=\"ligand_start_conf_smiles\",\n",
    "        mol_column=\"ligand_start_conf\",\n",
    "        mol_prop_as_cols=False,\n",
    "    ),\n",
    ")\n",
    "factory.add_from_files(paths=ligand_start_conf, axis=0)"
   ]
  },
  {
   "cell_type": "code",
   "execution_count": 7,
   "metadata": {},
   "outputs": [],
   "source": [
    "# Build the dataset through factory\n",
    "dataset = factory.build()"
   ]
  },
  {
   "cell_type": "code",
   "execution_count": 8,
   "metadata": {},
   "outputs": [
    {
     "name": "stderr",
     "output_type": "stream",
     "text": [
      "\u001b[32m2024-09-06 09:45:55.864\u001b[0m | \u001b[1mINFO    \u001b[0m | \u001b[36mpolaris.mixins._checksum\u001b[0m:\u001b[36mmd5sum\u001b[0m:\u001b[36m27\u001b[0m - \u001b[1mComputing the checksum. This can be slow for large datasets.\u001b[0m\n"
     ]
    },
    {
     "name": "stderr",
     "output_type": "stream",
     "text": [
      "Finding all files in the Zarr archive: 100%|██████████| 14057/14057 [00:31<00:00, 445.13it/s]\n"
     ]
    },
    {
     "data": {
      "text/html": [
       "<table border=\"1\"><tr><th>name</th><td>None</td></tr><tr><th>description</th><td></td></tr><tr><th>tags</th><td></td></tr><tr><th>user_attributes</th><td></td></tr><tr><th>owner</th><td>None</td></tr><tr><th>polaris_version</th><td>0.8.5.dev1+gc910f28.d20240906</td></tr><tr><th>default_adapters</th><td><table border=\"1\"><tr><th>ligands</th><td>BYTES_TO_MOL</td></tr><tr><th>protein</th><td>ARRAY_TO_PDB</td></tr><tr><th>ligand</th><td>BYTES_TO_MOL</td></tr><tr><th>ligand_start_conf</th><td>BYTES_TO_MOL</td></tr></table></td></tr><tr><th>zarr_root_path</th><td>/mnt/ps/home/CORP/lu.zhu/.cache/polaris-recipes/posebusters/posebusters_benchmark_set.zarr</td></tr><tr><th>readme</th><td></td></tr><tr><th>annotations</th><td><table border=\"1\"><tr><th>ligands_smiles</th><td><table border=\"1\"><tr><th>is_pointer</th><td>False</td></tr><tr><th>modality</th><td>MOLECULE</td></tr><tr><th>description</th><td>None</td></tr><tr><th>user_attributes</th><td></td></tr><tr><th>dtype</th><td>object</td></tr><tr><th>content_type</th><td>SMILES</td></tr></table></td></tr><tr><th>protein_group</th><td><table border=\"1\"><tr><th>is_pointer</th><td>False</td></tr><tr><th>modality</th><td>UNKNOWN</td></tr><tr><th>description</th><td>None</td></tr><tr><th>user_attributes</th><td></td></tr><tr><th>dtype</th><td>object</td></tr><tr><th>content_type</th><td>None</td></tr></table></td></tr><tr><th>ligands</th><td><table border=\"1\"><tr><th>is_pointer</th><td>True</td></tr><tr><th>modality</th><td>MOLECULE_3D</td></tr><tr><th>description</th><td>None</td></tr><tr><th>user_attributes</th><td></td></tr><tr><th>dtype</th><td>object</td></tr><tr><th>content_type</th><td>None</td></tr></table></td></tr><tr><th>protein</th><td><table border=\"1\"><tr><th>is_pointer</th><td>True</td></tr><tr><th>modality</th><td>PROTEIN_3D</td></tr><tr><th>description</th><td>None</td></tr><tr><th>user_attributes</th><td></td></tr><tr><th>dtype</th><td>object</td></tr><tr><th>content_type</th><td>PDB</td></tr></table></td></tr><tr><th>ligand_smiles</th><td><table border=\"1\"><tr><th>is_pointer</th><td>False</td></tr><tr><th>modality</th><td>MOLECULE</td></tr><tr><th>description</th><td>None</td></tr><tr><th>user_attributes</th><td></td></tr><tr><th>dtype</th><td>object</td></tr><tr><th>content_type</th><td>SMILES</td></tr></table></td></tr><tr><th>ligand</th><td><table border=\"1\"><tr><th>is_pointer</th><td>True</td></tr><tr><th>modality</th><td>MOLECULE_3D</td></tr><tr><th>description</th><td>None</td></tr><tr><th>user_attributes</th><td></td></tr><tr><th>dtype</th><td>object</td></tr><tr><th>content_type</th><td>None</td></tr></table></td></tr><tr><th>ligand_start_conf_smiles</th><td><table border=\"1\"><tr><th>is_pointer</th><td>False</td></tr><tr><th>modality</th><td>MOLECULE</td></tr><tr><th>description</th><td>None</td></tr><tr><th>user_attributes</th><td></td></tr><tr><th>dtype</th><td>object</td></tr><tr><th>content_type</th><td>SMILES</td></tr></table></td></tr><tr><th>ligand_start_conf</th><td><table border=\"1\"><tr><th>is_pointer</th><td>True</td></tr><tr><th>modality</th><td>MOLECULE_3D</td></tr><tr><th>description</th><td>None</td></tr><tr><th>user_attributes</th><td></td></tr><tr><th>dtype</th><td>object</td></tr><tr><th>content_type</th><td>None</td></tr></table></td></tr></table></td></tr><tr><th>source</th><td>None</td></tr><tr><th>license</th><td>None</td></tr><tr><th>curation_reference</th><td>None</td></tr><tr><th>cache_dir</th><td>/mnt/ps/home/CORP/lu.zhu/.cache/polaris/datasets/95416e57-ca9c-4a35-befe-ffd8747081f8</td></tr><tr><th>md5sum</th><td>3810e8268c3c9c89caf0193e1f97e35f</td></tr><tr><th>artifact_id</th><td>None</td></tr><tr><th>n_rows</th><td>428</td></tr><tr><th>n_columns</th><td>8</td></tr></table>"
      ],
      "text/plain": [
       "{\n",
       "  \"name\": null,\n",
       "  \"description\": \"\",\n",
       "  \"tags\": [],\n",
       "  \"user_attributes\": {},\n",
       "  \"owner\": null,\n",
       "  \"polaris_version\": \"0.8.5.dev1+gc910f28.d20240906\",\n",
       "  \"default_adapters\": {\n",
       "    \"ligands\": \"BYTES_TO_MOL\",\n",
       "    \"protein\": \"ARRAY_TO_PDB\",\n",
       "    \"ligand\": \"BYTES_TO_MOL\",\n",
       "    \"ligand_start_conf\": \"BYTES_TO_MOL\"\n",
       "  },\n",
       "  \"zarr_root_path\": \"/mnt/ps/home/CORP/lu.zhu/.cache/polaris-recipes/posebusters/posebusters_benchmark_set.zarr\",\n",
       "  \"readme\": \"\",\n",
       "  \"annotations\": {\n",
       "    \"ligands_smiles\": {\n",
       "      \"is_pointer\": false,\n",
       "      \"modality\": \"MOLECULE\",\n",
       "      \"description\": null,\n",
       "      \"user_attributes\": {},\n",
       "      \"dtype\": \"object\",\n",
       "      \"content_type\": \"SMILES\"\n",
       "    },\n",
       "    \"protein_group\": {\n",
       "      \"is_pointer\": false,\n",
       "      \"modality\": \"UNKNOWN\",\n",
       "      \"description\": null,\n",
       "      \"user_attributes\": {},\n",
       "      \"dtype\": \"object\",\n",
       "      \"content_type\": null\n",
       "    },\n",
       "    \"ligands\": {\n",
       "      \"is_pointer\": true,\n",
       "      \"modality\": \"MOLECULE_3D\",\n",
       "      \"description\": null,\n",
       "      \"user_attributes\": {},\n",
       "      \"dtype\": \"object\",\n",
       "      \"content_type\": null\n",
       "    },\n",
       "    \"protein\": {\n",
       "      \"is_pointer\": true,\n",
       "      \"modality\": \"PROTEIN_3D\",\n",
       "      \"description\": null,\n",
       "      \"user_attributes\": {},\n",
       "      \"dtype\": \"object\",\n",
       "      \"content_type\": \"PDB\"\n",
       "    },\n",
       "    \"ligand_smiles\": {\n",
       "      \"is_pointer\": false,\n",
       "      \"modality\": \"MOLECULE\",\n",
       "      \"description\": null,\n",
       "      \"user_attributes\": {},\n",
       "      \"dtype\": \"object\",\n",
       "      \"content_type\": \"SMILES\"\n",
       "    },\n",
       "    \"ligand\": {\n",
       "      \"is_pointer\": true,\n",
       "      \"modality\": \"MOLECULE_3D\",\n",
       "      \"description\": null,\n",
       "      \"user_attributes\": {},\n",
       "      \"dtype\": \"object\",\n",
       "      \"content_type\": null\n",
       "    },\n",
       "    \"ligand_start_conf_smiles\": {\n",
       "      \"is_pointer\": false,\n",
       "      \"modality\": \"MOLECULE\",\n",
       "      \"description\": null,\n",
       "      \"user_attributes\": {},\n",
       "      \"dtype\": \"object\",\n",
       "      \"content_type\": \"SMILES\"\n",
       "    },\n",
       "    \"ligand_start_conf\": {\n",
       "      \"is_pointer\": true,\n",
       "      \"modality\": \"MOLECULE_3D\",\n",
       "      \"description\": null,\n",
       "      \"user_attributes\": {},\n",
       "      \"dtype\": \"object\",\n",
       "      \"content_type\": null\n",
       "    }\n",
       "  },\n",
       "  \"source\": null,\n",
       "  \"license\": null,\n",
       "  \"curation_reference\": null,\n",
       "  \"cache_dir\": \"/mnt/ps/home/CORP/lu.zhu/.cache/polaris/datasets/95416e57-ca9c-4a35-befe-ffd8747081f8\",\n",
       "  \"md5sum\": \"3810e8268c3c9c89caf0193e1f97e35f\",\n",
       "  \"artifact_id\": null,\n",
       "  \"n_rows\": 428,\n",
       "  \"n_columns\": 8\n",
       "}"
      ]
     },
     "execution_count": 8,
     "metadata": {},
     "output_type": "execute_result"
    }
   ],
   "source": [
    "dataset"
   ]
  },
  {
   "cell_type": "markdown",
   "metadata": {},
   "source": [
    "### Update the annotations"
   ]
  },
  {
   "cell_type": "code",
   "execution_count": 9,
   "metadata": {},
   "outputs": [],
   "source": [
    "dataset.annotations[\n",
    "    \"protein\"\n",
    "].description = \"The protein structure without the ligand of interest without solvents and with all cofactors.\"\n",
    "dataset.annotations[\n",
    "    \"ligand\"\n",
    "].description = \"One of the instances of the ligand of interest. This crystal pose marks the binding site for those docking methods that require a binding site.\"\n",
    "\n",
    "dataset.annotations[\"ligands\"].description = \"All instances of the ligand of interest.\"\n",
    "dataset.annotations[\n",
    "    \"ligand_start_conf\"\n",
    "].description = \"One generated molecule conformation for the ligand of interest generated with RDKit's ETKDGv3 followed by an energy minimization with the UFF.\""
   ]
  },
  {
   "cell_type": "code",
   "execution_count": 10,
   "metadata": {},
   "outputs": [],
   "source": [
    "from polaris.utils.types import HubOwner\n",
    "\n",
    "owner = HubOwner(slug=\"polaris\")\n",
    "dataset.owner = owner\n",
    "dataset.name = \"posebusters-v1\"\n",
    "dataset.tags = [\"AI-based docking\"]\n",
    "dataset.description = \"A diverse datasset of recent high-quality protein–ligand complexes which contain drug-like molecules for AI-based docking method evaluation.\"\n",
    "dataset.license = \"CC-BY-4.0\"\n",
    "dataset.user_attributes = {\"year\": \"2024\"}\n",
    "dataset.source = \"https://pubs.rsc.org/en/content/articlehtml/2024/sc/d3sc04185a\""
   ]
  },
  {
   "cell_type": "code",
   "execution_count": 11,
   "metadata": {},
   "outputs": [
    {
     "data": {
      "text/html": [
       "<table border=\"1\"><tr><th>name</th><td>posebusters-v1</td></tr><tr><th>description</th><td>A diverse datasset of recent high-quality protein–ligand complexes which contain drug-like molecules for AI-based docking method evaluation.</td></tr><tr><th>tags</th><td><ul><li>AI-based docking</li></ul></td></tr><tr><th>user_attributes</th><td><table border=\"1\"><tr><th>year</th><td>2024</td></tr></table></td></tr><tr><th>owner</th><td>polaris</td></tr><tr><th>polaris_version</th><td>0.8.5.dev1+gc910f28.d20240906</td></tr><tr><th>default_adapters</th><td><table border=\"1\"><tr><th>ligands</th><td>BYTES_TO_MOL</td></tr><tr><th>protein</th><td>ARRAY_TO_PDB</td></tr><tr><th>ligand</th><td>BYTES_TO_MOL</td></tr><tr><th>ligand_start_conf</th><td>BYTES_TO_MOL</td></tr></table></td></tr><tr><th>zarr_root_path</th><td>/mnt/ps/home/CORP/lu.zhu/.cache/polaris-recipes/posebusters/posebusters_benchmark_set.zarr</td></tr><tr><th>readme</th><td></td></tr><tr><th>annotations</th><td><table border=\"1\"><tr><th>ligands_smiles</th><td><table border=\"1\"><tr><th>is_pointer</th><td>False</td></tr><tr><th>modality</th><td>MOLECULE</td></tr><tr><th>description</th><td>None</td></tr><tr><th>user_attributes</th><td></td></tr><tr><th>dtype</th><td>object</td></tr><tr><th>content_type</th><td>SMILES</td></tr></table></td></tr><tr><th>protein_group</th><td><table border=\"1\"><tr><th>is_pointer</th><td>False</td></tr><tr><th>modality</th><td>UNKNOWN</td></tr><tr><th>description</th><td>None</td></tr><tr><th>user_attributes</th><td></td></tr><tr><th>dtype</th><td>object</td></tr><tr><th>content_type</th><td>None</td></tr></table></td></tr><tr><th>ligands</th><td><table border=\"1\"><tr><th>is_pointer</th><td>True</td></tr><tr><th>modality</th><td>MOLECULE_3D</td></tr><tr><th>description</th><td>All instances of the ligand of interest.</td></tr><tr><th>user_attributes</th><td></td></tr><tr><th>dtype</th><td>object</td></tr><tr><th>content_type</th><td>None</td></tr></table></td></tr><tr><th>protein</th><td><table border=\"1\"><tr><th>is_pointer</th><td>True</td></tr><tr><th>modality</th><td>PROTEIN_3D</td></tr><tr><th>description</th><td>The protein structure without the ligand of interest without solvents and with all cofactors.</td></tr><tr><th>user_attributes</th><td></td></tr><tr><th>dtype</th><td>object</td></tr><tr><th>content_type</th><td>PDB</td></tr></table></td></tr><tr><th>ligand_smiles</th><td><table border=\"1\"><tr><th>is_pointer</th><td>False</td></tr><tr><th>modality</th><td>MOLECULE</td></tr><tr><th>description</th><td>None</td></tr><tr><th>user_attributes</th><td></td></tr><tr><th>dtype</th><td>object</td></tr><tr><th>content_type</th><td>SMILES</td></tr></table></td></tr><tr><th>ligand</th><td><table border=\"1\"><tr><th>is_pointer</th><td>True</td></tr><tr><th>modality</th><td>MOLECULE_3D</td></tr><tr><th>description</th><td>One of the instances of the ligand of interest. This crystal pose marks the binding site for those docking methods that require a binding site.</td></tr><tr><th>user_attributes</th><td></td></tr><tr><th>dtype</th><td>object</td></tr><tr><th>content_type</th><td>None</td></tr></table></td></tr><tr><th>ligand_start_conf_smiles</th><td><table border=\"1\"><tr><th>is_pointer</th><td>False</td></tr><tr><th>modality</th><td>MOLECULE</td></tr><tr><th>description</th><td>None</td></tr><tr><th>user_attributes</th><td></td></tr><tr><th>dtype</th><td>object</td></tr><tr><th>content_type</th><td>SMILES</td></tr></table></td></tr><tr><th>ligand_start_conf</th><td><table border=\"1\"><tr><th>is_pointer</th><td>True</td></tr><tr><th>modality</th><td>MOLECULE_3D</td></tr><tr><th>description</th><td>One generated molecule conformation for the ligand of interest generated with RDKit&#x27;s ETKDGv3 followed by an energy minimization with the UFF.</td></tr><tr><th>user_attributes</th><td></td></tr><tr><th>dtype</th><td>object</td></tr><tr><th>content_type</th><td>None</td></tr></table></td></tr></table></td></tr><tr><th>source</th><td>https://pubs.rsc.org/en/content/articlehtml/2024/sc/d3sc04185a</td></tr><tr><th>license</th><td>CC-BY-4.0</td></tr><tr><th>curation_reference</th><td>None</td></tr><tr><th>cache_dir</th><td>/mnt/ps/home/CORP/lu.zhu/.cache/polaris/datasets/95416e57-ca9c-4a35-befe-ffd8747081f8</td></tr><tr><th>md5sum</th><td>3810e8268c3c9c89caf0193e1f97e35f</td></tr><tr><th>artifact_id</th><td>polaris/posebusters-v1</td></tr><tr><th>n_rows</th><td>428</td></tr><tr><th>n_columns</th><td>8</td></tr></table>"
      ],
      "text/plain": [
       "{\n",
       "  \"name\": \"posebusters-v1\",\n",
       "  \"description\": \"A diverse datasset of recent high-quality protein\\u2013ligand complexes which contain drug-like molecules for AI-based docking method evaluation.\",\n",
       "  \"tags\": [\n",
       "    \"AI-based docking\"\n",
       "  ],\n",
       "  \"user_attributes\": {\n",
       "    \"year\": \"2024\"\n",
       "  },\n",
       "  \"owner\": \"polaris\",\n",
       "  \"polaris_version\": \"0.8.5.dev1+gc910f28.d20240906\",\n",
       "  \"default_adapters\": {\n",
       "    \"ligands\": \"BYTES_TO_MOL\",\n",
       "    \"protein\": \"ARRAY_TO_PDB\",\n",
       "    \"ligand\": \"BYTES_TO_MOL\",\n",
       "    \"ligand_start_conf\": \"BYTES_TO_MOL\"\n",
       "  },\n",
       "  \"zarr_root_path\": \"/mnt/ps/home/CORP/lu.zhu/.cache/polaris-recipes/posebusters/posebusters_benchmark_set.zarr\",\n",
       "  \"readme\": \"\",\n",
       "  \"annotations\": {\n",
       "    \"ligands_smiles\": {\n",
       "      \"is_pointer\": false,\n",
       "      \"modality\": \"MOLECULE\",\n",
       "      \"description\": null,\n",
       "      \"user_attributes\": {},\n",
       "      \"dtype\": \"object\",\n",
       "      \"content_type\": \"SMILES\"\n",
       "    },\n",
       "    \"protein_group\": {\n",
       "      \"is_pointer\": false,\n",
       "      \"modality\": \"UNKNOWN\",\n",
       "      \"description\": null,\n",
       "      \"user_attributes\": {},\n",
       "      \"dtype\": \"object\",\n",
       "      \"content_type\": null\n",
       "    },\n",
       "    \"ligands\": {\n",
       "      \"is_pointer\": true,\n",
       "      \"modality\": \"MOLECULE_3D\",\n",
       "      \"description\": \"All instances of the ligand of interest.\",\n",
       "      \"user_attributes\": {},\n",
       "      \"dtype\": \"object\",\n",
       "      \"content_type\": null\n",
       "    },\n",
       "    \"protein\": {\n",
       "      \"is_pointer\": true,\n",
       "      \"modality\": \"PROTEIN_3D\",\n",
       "      \"description\": \"The protein structure without the ligand of interest without solvents and with all cofactors.\",\n",
       "      \"user_attributes\": {},\n",
       "      \"dtype\": \"object\",\n",
       "      \"content_type\": \"PDB\"\n",
       "    },\n",
       "    \"ligand_smiles\": {\n",
       "      \"is_pointer\": false,\n",
       "      \"modality\": \"MOLECULE\",\n",
       "      \"description\": null,\n",
       "      \"user_attributes\": {},\n",
       "      \"dtype\": \"object\",\n",
       "      \"content_type\": \"SMILES\"\n",
       "    },\n",
       "    \"ligand\": {\n",
       "      \"is_pointer\": true,\n",
       "      \"modality\": \"MOLECULE_3D\",\n",
       "      \"description\": \"One of the instances of the ligand of interest. This crystal pose marks the binding site for those docking methods that require a binding site.\",\n",
       "      \"user_attributes\": {},\n",
       "      \"dtype\": \"object\",\n",
       "      \"content_type\": null\n",
       "    },\n",
       "    \"ligand_start_conf_smiles\": {\n",
       "      \"is_pointer\": false,\n",
       "      \"modality\": \"MOLECULE\",\n",
       "      \"description\": null,\n",
       "      \"user_attributes\": {},\n",
       "      \"dtype\": \"object\",\n",
       "      \"content_type\": \"SMILES\"\n",
       "    },\n",
       "    \"ligand_start_conf\": {\n",
       "      \"is_pointer\": true,\n",
       "      \"modality\": \"MOLECULE_3D\",\n",
       "      \"description\": \"One generated molecule conformation for the ligand of interest generated with RDKit's ETKDGv3 followed by an energy minimization with the UFF.\",\n",
       "      \"user_attributes\": {},\n",
       "      \"dtype\": \"object\",\n",
       "      \"content_type\": null\n",
       "    }\n",
       "  },\n",
       "  \"source\": \"https://pubs.rsc.org/en/content/articlehtml/2024/sc/d3sc04185a\",\n",
       "  \"license\": \"CC-BY-4.0\",\n",
       "  \"curation_reference\": null,\n",
       "  \"cache_dir\": \"/mnt/ps/home/CORP/lu.zhu/.cache/polaris/datasets/95416e57-ca9c-4a35-befe-ffd8747081f8\",\n",
       "  \"md5sum\": \"3810e8268c3c9c89caf0193e1f97e35f\",\n",
       "  \"artifact_id\": \"polaris/posebusters-v1\",\n",
       "  \"n_rows\": 428,\n",
       "  \"n_columns\": 8\n",
       "}"
      ]
     },
     "execution_count": 11,
     "metadata": {},
     "output_type": "execute_result"
    }
   ],
   "source": [
    "dataset"
   ]
  },
  {
   "cell_type": "code",
   "execution_count": null,
   "metadata": {},
   "outputs": [],
   "source": [
    "dataset.upload_to_hub(timeout=20000)"
   ]
  }
 ],
 "metadata": {
  "kernelspec": {
   "display_name": "auroris",
   "language": "python",
   "name": "python3"
  },
  "language_info": {
   "codemirror_mode": {
    "name": "ipython",
    "version": 3
   },
   "file_extension": ".py",
   "mimetype": "text/x-python",
   "name": "python",
   "nbconvert_exporter": "python",
   "pygments_lexer": "ipython3",
   "version": "3.12.4"
  }
 },
 "nbformat": 4,
 "nbformat_minor": 2
}
