{
 "cells": [
  {
   "cell_type": "markdown",
   "id": "545099e3-0eb9-4a80-a0c6-0448c0674502",
   "metadata": {},
   "source": [
    "# Dataset creation with [Polaris](https://github.com/polaris-hub/polaris)\n",
    "The first step of creating a benchmark is to set up a standard dataset which allows accessing the curated dataset (which has been demonstrated in <01_polaris_adme-fang_data_curation.ipynb>), and all necessary information about the dataset such as data source, description of endpoints, units etc. "
   ]
  },
  {
   "cell_type": "code",
   "execution_count": 1,
   "id": "30138c1e",
   "metadata": {
    "scrolled": true
   },
   "outputs": [],
   "source": [
    "%load_ext autoreload\n",
    "%autoreload 2\n",
    "\n",
    "import os\n",
    "import sys\n",
    "import pathlib\n",
    "\n",
    "import pandas as pd\n",
    "import datamol as dm\n",
    "\n",
    "# polaris dataset\n",
    "from polaris.dataset import Dataset, ColumnAnnotation\n",
    "from polaris.utils.types import HubOwner\n",
    "\n",
    "\n",
    "root = pathlib.Path(\"__file__\").absolute().parents[2]\n",
    "os.chdir(root)\n",
    "sys.path.insert(0, str(root))\n",
    "from utils.docs_utils import load_readme"
   ]
  },
  {
   "cell_type": "code",
   "execution_count": 2,
   "id": "b5c6d872",
   "metadata": {},
   "outputs": [
    {
     "data": {
      "text/plain": [
       "HubOwner(slug='biogen', external_id=None, type='organization')"
      ]
     },
     "execution_count": 2,
     "metadata": {},
     "output_type": "execute_result"
    }
   ],
   "source": [
    "# Get the owner and organization\n",
    "org = \"biogen\"\n",
    "data_name = \"fang2023_ADME\"\n",
    "dirname = dm.fs.join(root, f\"org-{org}\", \"biogen\", data_name)\n",
    "gcp_root = f\"gs://polaris-public/polaris-recipes/org-{org}/{data_name}\"\n",
    "\n",
    "owner = HubOwner(slug=org, type=\"organization\")\n",
    "owner"
   ]
  },
  {
   "cell_type": "code",
   "execution_count": 3,
   "id": "2b30cfce-4ca6-40d5-9cc0-5eab86a11901",
   "metadata": {},
   "outputs": [],
   "source": [
    "BENCHMARK_DIR = f\"gs://polaris-public/polaris-recipes/org-{org}/{data_name}/benchmarks\"\n",
    "DATASET_DIR = f\"gs://polaris-public/polaris-recipes/org-{org}/{data_name}/datasets\"\n",
    "FIGURE_DIR = f\"gs://polaris-public/polaris-recipes/org-{org}/{data_name}/figures\""
   ]
  },
  {
   "cell_type": "markdown",
   "id": "7f22cb4b-6303-425c-9a15-d437705baff9",
   "metadata": {},
   "source": [
    "## Load existing data\n",
    "> **Attention:** \\\n",
    "> The original dataset is published in [`Fang et al. 2023`](https://doi.org/10.1021/acs.jcim.3c00160). \n",
    "https://github.com/molecularinformatics/Computational-ADME/blob/main/ADME_public_set_3521.csv \\ \\\n",
    "> To **maintain consistency** with other benchmarks in the Polaris Hub, a thorough data curation process is carried out to ensure the accuracy of molecular presentations.\n",
    "> Therefore, the raw data from the data resource is not used here. \n",
    "> See more curation details in [01_polaris_adme-fang-1_data_curation.ipynb](https://github.com/polaris-hub/polaris-recipes/org-Biogen/fang2023_ADME/01_polaris_adme-fang-1_data_curation.ipynb)."
   ]
  },
  {
   "cell_type": "code",
   "execution_count": 4,
   "id": "917f6297",
   "metadata": {},
   "outputs": [],
   "source": [
    "# Load the curated data\n",
    "PATH = f\"gs://polaris-public/polaris-recipes/org-biogen/fang2023_ADME/data/curation/fang2023_ADME_curated.csv\"\n",
    "table = pd.read_csv(PATH)"
   ]
  },
  {
   "cell_type": "markdown",
   "id": "39e9b589-c4fc-4229-98d6-5a78ce236da7",
   "metadata": {},
   "source": [
    "### Below we specify the meta information of data columns"
   ]
  },
  {
   "cell_type": "code",
   "execution_count": 5,
   "id": "64f8d241-61db-4c25-a317-1ec6eafb065e",
   "metadata": {},
   "outputs": [],
   "source": [
    "# Here we simplify the column names\n",
    "table = table.rename(\n",
    "    columns={\n",
    "        \"MOL_molhash_id\": \"UNIQUE_ID\",\n",
    "        \"LOG HLM_CLint (mL/min/kg)\": \"LOG_HLM_CLint\",\n",
    "        \"LOG RLM_CLint (mL/min/kg)\": \"LOG_RLM_CLint\",\n",
    "        \"LOG MDR1-MDCK ER (B-A/A-B)\": \"LOG_MDR1-MDCK_ER\",\n",
    "        \"LOG PLASMA PROTEIN BINDING (HUMAN) (% unbound)\": \"LOG_HPPB\",\n",
    "        \"LOG PLASMA PROTEIN BINDING (RAT) (% unbound)\": \"LOG_RPPB\",\n",
    "        \"LOG SOLUBILITY PH 6.8 (ug/mL)\": \"LOG_SOLUBILITY\",\n",
    "    }\n",
    ")\n",
    "\n",
    "# molecule column\n",
    "mol_col = \"MOL_smiles\""
   ]
  },
  {
   "cell_type": "code",
   "execution_count": 6,
   "id": "0c40b1eb-4f9f-4d5e-bece-1d2de39df707",
   "metadata": {},
   "outputs": [],
   "source": [
    "table.reset_index(drop=True, inplace=True)"
   ]
  },
  {
   "cell_type": "markdown",
   "id": "22ddf97e-52ad-42fb-872e-17a8b6f3fb57",
   "metadata": {},
   "source": [
    "Not all the columns are necessary, only the columns which are useful for the benchmarks will be annotated. Here we only use the columns that were used for training in the original paper. "
   ]
  },
  {
   "cell_type": "markdown",
   "id": "63f59e2f-3f3b-4cfe-802f-8b8e530c9e5f",
   "metadata": {},
   "source": [
    "It's necessary to specify the key bioactivity columns, molecule structures and identifiers in the dataset with `ColumnAnnotation`. It is possible to add `user_attributes` with any key and values when needed, such as `unit`, `organism`, `scale` and optimization `objective`. \n",
    "\n",
    "**Abbrevations for the endpoint objective**\n",
    "- THTB: the higher the better\n",
    "- TLTB: the lower the better"
   ]
  },
  {
   "cell_type": "code",
   "execution_count": 7,
   "id": "3145fc25-e670-413a-8926-8ab9d6fcb3b0",
   "metadata": {},
   "outputs": [],
   "source": [
    "annotations = {\n",
    "    \"UNIQUE_ID\": ColumnAnnotation(\n",
    "        description=\"Molecular hash ID. See <datamol.mol.hash_mol>\"\n",
    "    ),\n",
    "    \"MOL_smiles\": ColumnAnnotation(\n",
    "        description=\"Molecule SMILES string after cleaning and standardization.\",\n",
    "        modality=\"molecule\",\n",
    "    ),\n",
    "    \"SMILES\": ColumnAnnotation(\n",
    "        description=\"Original molecule SMILES string from the publication.\"\n",
    "    ),\n",
    "    \"LOG_HLM_CLint\": ColumnAnnotation(\n",
    "        description=\"Human liver microsomal stability reported as intrinsic clearance\",\n",
    "        user_attributes={\n",
    "            \"unit\": \"mL/min/kg\",\n",
    "            \"scale\": \"log\",\n",
    "            \"organism\": \"human\",\n",
    "            \"objective\": \"Higher value\",\n",
    "        },\n",
    "    ),\n",
    "    \"LOG_RLM_CLint\": ColumnAnnotation(\n",
    "        description=\"Rat liver microsomal stability reported as intrinsic clearance\",\n",
    "        user_attributes={\n",
    "            \"unit\": \"mL/min/kg\",\n",
    "            \"scale\": \"log\",\n",
    "            \"organism\": \"rat\",\n",
    "            \"objective\": \"Lower value\",\n",
    "        },\n",
    "    ),\n",
    "    \"LOG_MDR1-MDCK_ER\": ColumnAnnotation(\n",
    "        description=\"MDR1-MDCK efflux ratio (B-A/A-B)\",\n",
    "        user_attributes={\n",
    "            \"unit\": \"mL/min/kg\",\n",
    "            \"scale\": \"log\",\n",
    "            \"objective\": \"Higher value\",\n",
    "        },\n",
    "    ),\n",
    "    \"LOG_HPPB\": ColumnAnnotation(\n",
    "        description=\"Human plasma protein binding\",\n",
    "        user_attributes={\"unit\": \"% unbound\", \"objective\": \"Lower value\"},\n",
    "    ),\n",
    "    \"LOG_RPPB\": ColumnAnnotation(\n",
    "        description=\"Rat plasma protein binding\",\n",
    "        user_attributes={\"unit\": \"% unbound\", \"objective\": \"Lower value\"},\n",
    "    ),\n",
    "    \"LOG_SOLUBILITY\": ColumnAnnotation(\n",
    "        description=\"Solubility was measured after equilibrium between the dissolved and solid state\",\n",
    "        user_attributes={\n",
    "            \"unit\": \"ug/mL\",\n",
    "            \"scale\": \"log\",\n",
    "            \"PH\": \"6.8\",\n",
    "            \"objective\": \"Higher value\",\n",
    "        },\n",
    "    ),\n",
    "}"
   ]
  },
  {
   "cell_type": "markdown",
   "id": "b1e0af61-896b-42f0-af62-5ffbf0004aec",
   "metadata": {},
   "source": [
    "### Define `Dataset` object"
   ]
  },
  {
   "cell_type": "code",
   "execution_count": 8,
   "id": "a1289480-0835-4730-89cf-1167de1e62f2",
   "metadata": {},
   "outputs": [],
   "source": [
    "dataset_version = \"v2\"\n",
    "dataset_name = f\"adme-fang-{dataset_version}\""
   ]
  },
  {
   "cell_type": "code",
   "execution_count": 9,
   "id": "9e606547-f711-4e4d-8c93-97002a8a2236",
   "metadata": {},
   "outputs": [],
   "source": [
    "dataset = Dataset(\n",
    "    table=table[annotations.keys()].copy(),\n",
    "    name=dataset_name,\n",
    "    description=\"A DMPK datasets of six ADME in vitro endpoints from fang et al. 2023. \",\n",
    "    source=\"https://doi.org/10.1021/acs.jcim.3c00160\",\n",
    "    annotations=annotations,\n",
    "    owner=owner,\n",
    "    tags=[\"adme\"],\n",
    "    readme=load_readme(f\"org-Biogen/{data_name}/fang2023_ADME_readme.md\"),\n",
    "    license=\"CC-BY-4.0\",\n",
    "    curation_reference=\"https://github.com/polaris-hub/polaris-recipes/org-Biogen/fang2023_ADME/01_polaris_adme-fang-1_data_curation.ipynb\",\n",
    ")"
   ]
  },
  {
   "cell_type": "code",
   "execution_count": 10,
   "id": "8b295721-e50f-4dae-881f-a7660f1284a9",
   "metadata": {},
   "outputs": [
    {
     "data": {
      "text/plain": [
       "'gs://polaris-public/polaris-recipes/org-biogen/fang2023_ADME/datasets/adme-fang-v2/dataset.json'"
      ]
     },
     "execution_count": 10,
     "metadata": {},
     "output_type": "execute_result"
    }
   ],
   "source": [
    "# save the dataset to GCP\n",
    "SAVE_DIR = f\"{DATASET_DIR}/{dataset_name}\"\n",
    "dataset_path = dataset.to_json(SAVE_DIR)\n",
    "dataset_path"
   ]
  },
  {
   "cell_type": "code",
   "execution_count": 13,
   "id": "ae54f85a",
   "metadata": {},
   "outputs": [
    {
     "name": "stderr",
     "output_type": "stream",
     "text": [
      "\u001b[32m2024-07-30 13:02:28.788\u001b[0m | \u001b[32m\u001b[1mSUCCESS \u001b[0m | \u001b[36mpolaris.hub.client\u001b[0m:\u001b[36mlogin\u001b[0m:\u001b[36m260\u001b[0m - \u001b[32m\u001b[1mYou are successfully logged in to the Polaris Hub.\u001b[0m\n"
     ]
    },
    {
     "name": "stdout",
     "output_type": "stream",
     "text": [
      "✅ SUCCESS: \u001b[1mYour dataset has been successfully uploaded to the Hub. View it here: https://polarishub.io/datasets/biogen/adme-fang-v2\u001b[0m\n",
      " \n"
     ]
    },
    {
     "name": "stderr",
     "output_type": "stream",
     "text": [
      "/Users/lu.zhu/miniconda3/envs/po_dataset/lib/python3.12/site-packages/yaspin/core.py:228: UserWarning: color, on_color and attrs are not supported when running in jupyter\n",
      "  self._color = self._set_color(value) if value else value\n"
     ]
    },
    {
     "data": {
      "text/plain": [
       "{'id': 'bXClU6RThexkUaj4cDHF6',\n",
       " 'createdAt': '2024-07-30T17:02:28.969Z',\n",
       " 'deletedAt': None,\n",
       " 'name': 'adme-fang-v2',\n",
       " 'slug': 'adme-fang-v2',\n",
       " 'description': 'A DMPK datasets of six ADME in vitro endpoints from fang et al. 2023. ',\n",
       " 'tags': ['adme'],\n",
       " 'userAttributes': {},\n",
       " 'access': 'private',\n",
       " 'isCertified': False,\n",
       " 'polarisVersion': '0.7.9',\n",
       " 'readme': '![ADME](https://storage.googleapis.com/polaris-public/icons/icon_fang.png) \\n\\n## Background\\n\\nThe goal of assessing ADME properties is to understand how a potential drug candidate interacts with the human body, including absorption, distribution, metabolism, and excretion. This knowledge is crucial for evaluating efficacy, safety, and clinical potential, guiding drug development for optimal therapeutic outcomes. [Fang et al. 2023](https://doi.org/10.1021/acs.jcim.3c00160) disclosed DMPK datasets collected over 20 months across six ADME in vitro endpoints: human and rat liver microsomal stability, MDR1-MDCK efflux ratio, solubility, and human and rat plasma protein binding. The dataset includes between 885 and 3,087 measurements for each corresponding endpoint. The compounds show the chemical diversity across all ranges of the endpoints which are microsomal stability, plasma protein binding, permeability, and solubility.\\n\\n## Description of readout\\n- Microsomal stability (human and rat):  `LOG HLM_CLint (mL/min/kg)`, `LOG RLM_CLint (mL/min/kg)`\\n- Plasma protein binding (human and rat): `LOG PLASMA PROTEIN BINDING (HUMAN) (% unbound)`, `LOG PLASMA PROTEIN BINDING (RAT) (% unbound)`\\n- Permeability: `LOG MDR1-MDCK ER (B-A/A-B)`\\n- Solubility: `LOG SOLUBILITY PH 6.8 (ug/mL)`\\n- **Number of molecules after curation**: 3516\\n\\n## Data resource\\n**Reference**: [Prospective Validation of Machine Learning Algorithms for Absorption, Distribution, Metabolism, and Excretion Prediction: An Industrial Perspective]( https://doi.org/10.1021/acs.jcim.3c00160)\\n\\n**Github**: https://github.com/molecularinformatics/Computational-ADME\\n\\n**Raw data**: https://github.com/molecularinformatics/Computational-ADME/blob/main/ADME_public_set_3521.csv \\n\\n## Data curation\\nTo **maintain consistency** with other benchmarks in the Polaris Hub, a thorough data curation process is carried out to ensure the accuracy of molecular presentations.\\n\\nThe full curation and creation process is documented in [01_polaris_adme-fang-1_data_curation.ipynb](https://github.com/polaris-hub/polaris-recipes/org-Biogen/fang2023_ADME/01_polaris_adme-fang-1_data_curation.ipynb).\\n',\n",
       " 'ownerId': '4jh3BxSKaZru6dH6YHJAZ',\n",
       " 'creatorId': 'NKnaHGybLqwSHcaMEHqfF',\n",
       " 'state': 'upload_pending',\n",
       " 'source': 'https://doi.org/10.1021/acs.jcim.3c00160',\n",
       " 'curationReference': 'https://github.com/polaris-hub/polaris-recipes/org-Biogen/fang2023_ADME/01_polaris_adme-fang-1_data_curation.ipynb',\n",
       " 'nRows': 3521,\n",
       " 'nColumns': 9,\n",
       " 'license': 'CC-BY-4.0',\n",
       " 'md5Sum': 'acb647cbd9a9505ce3ad49a2c8f35e0c',\n",
       " 'annotations': {'SMILES': {'dtype': 'object',\n",
       "   'modality': 'UNKNOWN',\n",
       "   'isPointer': False,\n",
       "   'description': 'Original molecule SMILES string from the publication.',\n",
       "   'userAttributes': {}},\n",
       "  'LOG_HPPB': {'dtype': 'float64',\n",
       "   'modality': 'UNKNOWN',\n",
       "   'isPointer': False,\n",
       "   'description': 'Human plasma protein binding',\n",
       "   'userAttributes': {'unit': '% unbound', 'objective': 'Lower value'}},\n",
       "  'LOG_RPPB': {'dtype': 'float64',\n",
       "   'modality': 'UNKNOWN',\n",
       "   'isPointer': False,\n",
       "   'description': 'Rat plasma protein binding',\n",
       "   'userAttributes': {'unit': '% unbound', 'objective': 'Lower value'}},\n",
       "  'UNIQUE_ID': {'dtype': 'object',\n",
       "   'modality': 'UNKNOWN',\n",
       "   'isPointer': False,\n",
       "   'description': 'Molecular hash ID. See <datamol.mol.hash_mol>',\n",
       "   'userAttributes': {}},\n",
       "  'MOL_smiles': {'dtype': 'object',\n",
       "   'modality': 'MOLECULE',\n",
       "   'isPointer': False,\n",
       "   'description': 'Molecule SMILES string after cleaning and standardization.',\n",
       "   'userAttributes': {}},\n",
       "  'LOG_HLM_CLint': {'dtype': 'float64',\n",
       "   'modality': 'UNKNOWN',\n",
       "   'isPointer': False,\n",
       "   'description': 'Human liver microsomal stability reported as intrinsic clearance',\n",
       "   'userAttributes': {'unit': 'mL/min/kg',\n",
       "    'scale': 'log',\n",
       "    'organism': 'human',\n",
       "    'objective': 'Higher value'}},\n",
       "  'LOG_RLM_CLint': {'dtype': 'float64',\n",
       "   'modality': 'UNKNOWN',\n",
       "   'isPointer': False,\n",
       "   'description': 'Rat liver microsomal stability reported as intrinsic clearance',\n",
       "   'userAttributes': {'unit': 'mL/min/kg',\n",
       "    'scale': 'log',\n",
       "    'organism': 'rat',\n",
       "    'objective': 'Lower value'}},\n",
       "  'LOG_SOLUBILITY': {'dtype': 'float64',\n",
       "   'modality': 'UNKNOWN',\n",
       "   'isPointer': False,\n",
       "   'description': 'Solubility was measured after equilibrium between the dissolved and solid state',\n",
       "   'userAttributes': {'PH': '6.8',\n",
       "    'unit': 'ug/mL',\n",
       "    'scale': 'log',\n",
       "    'objective': 'Higher value'}},\n",
       "  'LOG_MDR1-MDCK_ER': {'dtype': 'float64',\n",
       "   'modality': 'UNKNOWN',\n",
       "   'isPointer': False,\n",
       "   'description': 'MDR1-MDCK efflux ratio (B-A/A-B)',\n",
       "   'userAttributes': {'unit': 'mL/min/kg',\n",
       "    'scale': 'log',\n",
       "    'objective': 'Higher value'}}},\n",
       " 'tableContent': {'url': 'https://polarishub.io/storage/dataset/biogen/adme-fang-v2/table.parquet',\n",
       "  'size': 393341,\n",
       "  'md5Sum': '2367b6b8e4ca86bd11b4da816bf744fb',\n",
       "  'fileType': 'parquet'},\n",
       " 'defaultAdapters': {},\n",
       " 'zarrRootPath': None,\n",
       " 'zarrContent': {},\n",
       " 'artifactId': 'biogen/adme-fang-v2',\n",
       " 'creator': {'slug': 'lu-valencelabs',\n",
       "  'externalId': 'user_2gtYwEALU6nz7YYhVOTrlJmkWtN',\n",
       "  'type': 'user'},\n",
       " 'owner': {'slug': 'biogen',\n",
       "  'externalId': 'org_2gtnb6sfDEjl9aIwAapSopNjgxX',\n",
       "  'type': 'organization'},\n",
       " 'benchmarks': [],\n",
       " 'review': None}"
      ]
     },
     "execution_count": 13,
     "metadata": {},
     "output_type": "execute_result"
    }
   ],
   "source": [
    "from polaris.hub.client import PolarisHubClient\n",
    "\n",
    "client = PolarisHubClient()\n",
    "client.login()\n",
    "\n",
    "client.upload_dataset(dataset=dataset, access=\"private\", owner=owner)"
   ]
  },
  {
   "cell_type": "markdown",
   "id": "6b6a96da",
   "metadata": {},
   "source": [
    "## Disclaimers"
   ]
  },
  {
   "cell_type": "markdown",
   "id": "5f74d18b",
   "metadata": {},
   "source": [
    "<div style=\"background-color: lightyellow; padding: 10px; border: 1px solid black;\">\n",
    "    <span>Here are some additional details that may be of use when deciding whether or not to use these datasets.</span><br /><br />\n",
    "    <!-- <strong><span style=\"color: red;\">Disclaimer:</span></strong>  -->\n",
    "     <strong>Some advantages include: </strong>\n",
    "        <ul>\n",
    "        <li>The assays were carried out by one group under a consistent set of conditions.</li>\n",
    "        <li>Dataset contains only a small number of molecules with unspecified stereocenters.</li>\n",
    "        <li>There are no duplicated structures in the dataset.</li>\n",
    "        <li>The data is based on a well-defined ADME endpoints.</li>\n",
    "        </ul>\n",
    "     <strong>Some limitations to consider: </strong>\n",
    "        <ul>\n",
    "        <li>The size of the PPB datasets are small, making it challenging to determine a statistically significant difference between methods on these sets.</li>\n",
    "        </ul>\n",
    "        \n",
    "\n",
    "</div>\n"
   ]
  }
 ],
 "metadata": {
  "kernelspec": {
   "display_name": "Python 3 (ipykernel)",
   "language": "python",
   "name": "python3"
  },
  "language_info": {
   "codemirror_mode": {
    "name": "ipython",
    "version": 3
   },
   "file_extension": ".py",
   "mimetype": "text/x-python",
   "name": "python",
   "nbconvert_exporter": "python",
   "pygments_lexer": "ipython3",
   "version": "undefined.undefined.undefined"
  }
 },
 "nbformat": 4,
 "nbformat_minor": 5
}
